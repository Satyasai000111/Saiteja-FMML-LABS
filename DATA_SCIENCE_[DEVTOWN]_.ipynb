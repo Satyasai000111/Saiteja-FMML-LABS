{
  "nbformat": 4,
  "nbformat_minor": 0,
  "metadata": {
    "colab": {
      "provenance": [],
      "include_colab_link": true
    },
    "kernelspec": {
      "name": "python3",
      "display_name": "Python 3"
    },
    "language_info": {
      "name": "python"
    }
  },
  "cells": [
    {
      "cell_type": "markdown",
      "metadata": {
        "id": "view-in-github",
        "colab_type": "text"
      },
      "source": [
        "<a href=\"https://colab.research.google.com/github/Satyasai000111/Saiteja-FMML-LABS/blob/main/DATA_SCIENCE_%5BDEVTOWN%5D_.ipynb\" target=\"_parent\"><img src=\"https://colab.research.google.com/assets/colab-badge.svg\" alt=\"Open In Colab\"/></a>"
      ]
    },
    {
      "cell_type": "markdown",
      "source": [
        "# DAY 1 - Shape AI"
      ],
      "metadata": {
        "id": "nEE7Oq3dH3gv"
      }
    },
    {
      "cell_type": "code",
      "execution_count": 1,
      "metadata": {
        "colab": {
          "base_uri": "https://localhost:8080/"
        },
        "id": "GplLt88QDjCS",
        "outputId": "4a2e7730-9b47-4bfa-b0dc-a2c53f61f36d"
      },
      "outputs": [
        {
          "output_type": "stream",
          "name": "stdout",
          "text": [
            "Hello World\n"
          ]
        }
      ],
      "source": [
        "print(\"Hello World\")"
      ]
    },
    {
      "cell_type": "code",
      "source": [
        "print(2409)"
      ],
      "metadata": {
        "colab": {
          "base_uri": "https://localhost:8080/"
        },
        "id": "iHDTj_g-HtBD",
        "outputId": "f07885f5-0e08-49b6-83c0-9d10911a5f8c"
      },
      "execution_count": 2,
      "outputs": [
        {
          "output_type": "stream",
          "name": "stdout",
          "text": [
            "2409\n"
          ]
        }
      ]
    },
    {
      "cell_type": "code",
      "source": [
        "#Sting -> Alphabets-(A-Z)\n",
        "#Integer -> Numbers -(0-9)\n",
        "#Float\n",
        "# Boolean"
      ],
      "metadata": {
        "id": "OqflQKiyHs9o"
      },
      "execution_count": 3,
      "outputs": []
    },
    {
      "cell_type": "code",
      "source": [
        "print(Hello World)\n",
        "# Syntax error"
      ],
      "metadata": {
        "colab": {
          "base_uri": "https://localhost:8080/",
          "height": 109
        },
        "id": "8S7acr3EHs6K",
        "outputId": "dc1dfb15-0806-48f2-d953-aeefb4587ec2"
      },
      "execution_count": 4,
      "outputs": [
        {
          "output_type": "error",
          "ename": "SyntaxError",
          "evalue": "invalid syntax. Perhaps you forgot a comma? (<ipython-input-4-cb06288998c0>, line 1)",
          "traceback": [
            "\u001b[0;36m  File \u001b[0;32m\"<ipython-input-4-cb06288998c0>\"\u001b[0;36m, line \u001b[0;32m1\u001b[0m\n\u001b[0;31m    print(Hello World)\u001b[0m\n\u001b[0m          ^\u001b[0m\n\u001b[0;31mSyntaxError\u001b[0m\u001b[0;31m:\u001b[0m invalid syntax. Perhaps you forgot a comma?\n"
          ]
        }
      ]
    },
    {
      "cell_type": "code",
      "source": [
        "#Variable is a container\n",
        "# a is the variable\n",
        "a=10\n",
        "print(a)"
      ],
      "metadata": {
        "id": "gCD3Bh3bHs3D"
      },
      "execution_count": null,
      "outputs": []
    },
    {
      "cell_type": "markdown",
      "source": [
        "# Arthimatics"
      ],
      "metadata": {
        "id": "HsYtPvvPJ3Vv"
      }
    },
    {
      "cell_type": "code",
      "source": [
        "\"Hello World\"\n",
        "\"Today is Monday\"\n",
        "\"Loki is cooler than Thor\""
      ],
      "metadata": {
        "id": "TLlnzNcYHswA"
      },
      "execution_count": null,
      "outputs": []
    },
    {
      "cell_type": "code",
      "source": [
        "a=\"Hello World\"\n",
        "b=\"Today is Monday\"\n",
        "c=\"Loki is cooler than Thor\""
      ],
      "metadata": {
        "id": "N9uJXhwHHssh"
      },
      "execution_count": null,
      "outputs": []
    },
    {
      "cell_type": "code",
      "source": [
        "print(7+8)\n",
        "#Concatenation"
      ],
      "metadata": {
        "colab": {
          "base_uri": "https://localhost:8080/"
        },
        "id": "8GTekTeeHspP",
        "outputId": "ecd46e92-0b20-42b0-d08c-30e9d9f6bd23"
      },
      "execution_count": 5,
      "outputs": [
        {
          "output_type": "stream",
          "name": "stdout",
          "text": [
            "15\n"
          ]
        }
      ]
    },
    {
      "cell_type": "code",
      "source": [
        "print(\"7\"+\"8\")"
      ],
      "metadata": {
        "colab": {
          "base_uri": "https://localhost:8080/"
        },
        "id": "5qQyMQHRHsmI",
        "outputId": "8675b090-e032-4177-8873-f6678f2ce6ff"
      },
      "execution_count": 6,
      "outputs": [
        {
          "output_type": "stream",
          "name": "stdout",
          "text": [
            "78\n"
          ]
        }
      ]
    },
    {
      "cell_type": "code",
      "source": [
        "print(2**2)"
      ],
      "metadata": {
        "colab": {
          "base_uri": "https://localhost:8080/"
        },
        "id": "CUPPma3wHsjC",
        "outputId": "621fa9a4-a68e-49a1-cb03-a7ce2c22bba8"
      },
      "execution_count": 7,
      "outputs": [
        {
          "output_type": "stream",
          "name": "stdout",
          "text": [
            "4\n"
          ]
        }
      ]
    },
    {
      "cell_type": "code",
      "source": [
        "print(225/5)"
      ],
      "metadata": {
        "colab": {
          "base_uri": "https://localhost:8080/"
        },
        "id": "6YgdZqMqHsfv",
        "outputId": "9ba98cbb-f00c-4656-f648-3b3ea5a21fb4"
      },
      "execution_count": 8,
      "outputs": [
        {
          "output_type": "stream",
          "name": "stdout",
          "text": [
            "45.0\n"
          ]
        }
      ]
    },
    {
      "cell_type": "code",
      "source": [
        "type(45.0)"
      ],
      "metadata": {
        "colab": {
          "base_uri": "https://localhost:8080/"
        },
        "id": "TljMUkdwMWL5",
        "outputId": "0d32cc62-e1a6-4a28-befd-ccaf87bcdd6d"
      },
      "execution_count": 9,
      "outputs": [
        {
          "output_type": "execute_result",
          "data": {
            "text/plain": [
              "float"
            ]
          },
          "metadata": {},
          "execution_count": 9
        }
      ]
    },
    {
      "cell_type": "code",
      "source": [
        "print(225//5)"
      ],
      "metadata": {
        "colab": {
          "base_uri": "https://localhost:8080/"
        },
        "id": "e2UWYpeAHsc6",
        "outputId": "a301ea71-97f5-4c14-a9c3-245ea8751959"
      },
      "execution_count": 10,
      "outputs": [
        {
          "output_type": "stream",
          "name": "stdout",
          "text": [
            "45\n"
          ]
        }
      ]
    },
    {
      "cell_type": "code",
      "source": [
        "a=1200\n",
        "b=2000\n",
        "c=800\n",
        "d=1500\n",
        "e=1700\n",
        "ave=(a+b+c+d+e)/5\n",
        "print(ave)"
      ],
      "metadata": {
        "colab": {
          "base_uri": "https://localhost:8080/"
        },
        "id": "priDhgC8HsZ5",
        "outputId": "c527ef51-a3fe-44e4-f64a-cb5740d2b291"
      },
      "execution_count": 11,
      "outputs": [
        {
          "output_type": "stream",
          "name": "stdout",
          "text": [
            "1440.0\n"
          ]
        }
      ]
    },
    {
      "cell_type": "markdown",
      "source": [
        "# Assignment"
      ],
      "metadata": {
        "id": "45jJPEvtMw3T"
      }
    },
    {
      "cell_type": "code",
      "source": [
        "# It is used when we want to assign a value"
      ],
      "metadata": {
        "id": "xE5RqitPHsXM"
      },
      "execution_count": 12,
      "outputs": []
    },
    {
      "cell_type": "code",
      "source": [
        "a=12\n",
        "b=14"
      ],
      "metadata": {
        "id": "S0fFq9NkHsUH"
      },
      "execution_count": 13,
      "outputs": []
    },
    {
      "cell_type": "code",
      "source": [
        "a==b\n",
        "a"
      ],
      "metadata": {
        "colab": {
          "base_uri": "https://localhost:8080/"
        },
        "id": "V8iDsCpGHsRk",
        "outputId": "243cfa00-2f88-4dda-c312-df0310e5fce7"
      },
      "execution_count": 14,
      "outputs": [
        {
          "output_type": "execute_result",
          "data": {
            "text/plain": [
              "12"
            ]
          },
          "metadata": {},
          "execution_count": 14
        }
      ]
    },
    {
      "cell_type": "code",
      "source": [
        "126>126"
      ],
      "metadata": {
        "colab": {
          "base_uri": "https://localhost:8080/"
        },
        "id": "6VH68gUCHsON",
        "outputId": "7f8665ba-7f56-445a-b365-7645e6b4734a"
      },
      "execution_count": 15,
      "outputs": [
        {
          "output_type": "execute_result",
          "data": {
            "text/plain": [
              "False"
            ]
          },
          "metadata": {},
          "execution_count": 15
        }
      ]
    },
    {
      "cell_type": "markdown",
      "source": [
        "## Boolean"
      ],
      "metadata": {
        "id": "poOS1iREQdAR"
      }
    },
    {
      "cell_type": "code",
      "source": [
        "#True or False"
      ],
      "metadata": {
        "id": "6ltFZ3WGQcgB"
      },
      "execution_count": 16,
      "outputs": []
    },
    {
      "cell_type": "code",
      "source": [
        "asd= True\n",
        "pyt=False"
      ],
      "metadata": {
        "id": "SL7S-ADbQk6x"
      },
      "execution_count": 17,
      "outputs": []
    },
    {
      "cell_type": "code",
      "source": [
        "asd ==pyt\n"
      ],
      "metadata": {
        "colab": {
          "base_uri": "https://localhost:8080/"
        },
        "id": "w7uM_gTsHsLN",
        "outputId": "a6a6cbfe-aec6-4cbf-da3a-ec145ed1e16b"
      },
      "execution_count": 18,
      "outputs": [
        {
          "output_type": "execute_result",
          "data": {
            "text/plain": [
              "False"
            ]
          },
          "metadata": {},
          "execution_count": 18
        }
      ]
    },
    {
      "cell_type": "code",
      "source": [
        "asd is pyt"
      ],
      "metadata": {
        "colab": {
          "base_uri": "https://localhost:8080/"
        },
        "id": "jP6Halk0HsII",
        "outputId": "7de694a5-3f22-4efc-d497-45536e3e9377"
      },
      "execution_count": 19,
      "outputs": [
        {
          "output_type": "execute_result",
          "data": {
            "text/plain": [
              "False"
            ]
          },
          "metadata": {},
          "execution_count": 19
        }
      ]
    },
    {
      "cell_type": "code",
      "source": [
        "asd is not pyt"
      ],
      "metadata": {
        "colab": {
          "base_uri": "https://localhost:8080/"
        },
        "id": "5zHGiPrZHsFP",
        "outputId": "3c3b0d84-e1b8-404d-8e2f-289de2517546"
      },
      "execution_count": 20,
      "outputs": [
        {
          "output_type": "execute_result",
          "data": {
            "text/plain": [
              "True"
            ]
          },
          "metadata": {},
          "execution_count": 20
        }
      ]
    },
    {
      "cell_type": "markdown",
      "source": [
        "# Day 2"
      ],
      "metadata": {
        "id": "QnSJEI0dYnIX"
      }
    },
    {
      "cell_type": "code",
      "source": [
        "#Area of the triangle\n",
        "'''(s*(s-a)*(s-b)*(s-c))**0.5\n",
        "s= (a+b+c)/2\n",
        "    or\n",
        "Area= (1/2)*b*h'''\n",
        "#Perimeter of the triangle\n",
        " ''' p= a+b+c'''\n",
        " # Area for eqalateral triangle\n",
        " '''((3**0.5)/4)*(a**2)'''\n"
      ],
      "metadata": {
        "id": "LhlV1MAYYmqR",
        "colab": {
          "base_uri": "https://localhost:8080/",
          "height": 109
        },
        "outputId": "5a77729d-b272-44ed-8e30-28b7ec0e6d36"
      },
      "execution_count": 21,
      "outputs": [
        {
          "output_type": "error",
          "ename": "IndentationError",
          "evalue": "unexpected indent (<ipython-input-21-4c4f1be3f496>, line 7)",
          "traceback": [
            "\u001b[0;36m  File \u001b[0;32m\"<ipython-input-21-4c4f1be3f496>\"\u001b[0;36m, line \u001b[0;32m7\u001b[0m\n\u001b[0;31m    ''' p= a+b+c'''\u001b[0m\n\u001b[0m    ^\u001b[0m\n\u001b[0;31mIndentationError\u001b[0m\u001b[0;31m:\u001b[0m unexpected indent\n"
          ]
        }
      ]
    },
    {
      "cell_type": "markdown",
      "source": [
        "# String Methods"
      ],
      "metadata": {
        "id": "gPMontxOdEm2"
      }
    },
    {
      "cell_type": "markdown",
      "source": [
        "\n",
        "\n",
        "1.capitlize()\n",
        "\n",
        "\n"
      ],
      "metadata": {
        "id": "EgDdEUmZfTTd"
      }
    },
    {
      "cell_type": "code",
      "source": [
        "string1=\"today is Saturday\"\n",
        "print(string1.capitalize())\n",
        "print(string1)"
      ],
      "metadata": {
        "id": "qtEkEZMhbzD6"
      },
      "execution_count": null,
      "outputs": []
    },
    {
      "cell_type": "code",
      "source": [
        "string1=string1.capitalize()\n",
        "string1"
      ],
      "metadata": {
        "id": "1opN5_rXbzAk"
      },
      "execution_count": null,
      "outputs": []
    },
    {
      "cell_type": "markdown",
      "source": [
        "\n",
        "\n",
        "2.len()\n",
        "\n",
        "\n"
      ],
      "metadata": {
        "id": "nkK0XnB-faXV"
      }
    },
    {
      "cell_type": "code",
      "source": [
        "print(len(string1))"
      ],
      "metadata": {
        "id": "UggOT7mZby9a"
      },
      "execution_count": null,
      "outputs": []
    },
    {
      "cell_type": "markdown",
      "source": [
        "\n",
        "\n",
        "3.center()\n",
        "\n",
        "\n"
      ],
      "metadata": {
        "id": "kcdKbranfgoC"
      }
    },
    {
      "cell_type": "code",
      "source": [
        "# Variable.center(len,char)\n",
        "asdi= \"Apple\"\n",
        "asdi.center(20,\"*\")"
      ],
      "metadata": {
        "id": "15UQRsgnby6e"
      },
      "execution_count": null,
      "outputs": []
    },
    {
      "cell_type": "markdown",
      "source": [
        "\n",
        "\n",
        "4.endswith()\n",
        "\n",
        "\n"
      ],
      "metadata": {
        "id": "HkIXqoyYgRoY"
      }
    },
    {
      "cell_type": "code",
      "source": [
        "var=\"Prasad\"\n",
        "print(var.endswith(\"sad\"))"
      ],
      "metadata": {
        "id": "kkT1FSZsby3y"
      },
      "execution_count": null,
      "outputs": []
    },
    {
      "cell_type": "markdown",
      "source": [
        "\n",
        "\n",
        "5.count()\n",
        "\n"
      ],
      "metadata": {
        "id": "Lt6oElz0gmus"
      }
    },
    {
      "cell_type": "code",
      "source": [
        "var=\"Hello my name is Prasad\"\n",
        "print(var.count(\"a\"))"
      ],
      "metadata": {
        "id": "fQpmXSOCby0_"
      },
      "execution_count": null,
      "outputs": []
    },
    {
      "cell_type": "markdown",
      "source": [
        "\n",
        "\n",
        "6.upper()\n",
        "\n"
      ],
      "metadata": {
        "id": "Ib61FVTfh5wb"
      }
    },
    {
      "cell_type": "code",
      "source": [
        "var1 =\"Welcome to the world\"\n",
        "print(var1.upper())"
      ],
      "metadata": {
        "id": "EvMFQ2FubyyN"
      },
      "execution_count": null,
      "outputs": []
    },
    {
      "cell_type": "markdown",
      "source": [
        "\n",
        "\n",
        "7.replace()\n",
        "\n"
      ],
      "metadata": {
        "id": "o1nmG-xG8khY"
      }
    },
    {
      "cell_type": "code",
      "source": [
        "str=\"DEAR PROFESSOR\"\n",
        "print( str.replace(\"PROFESSOR\",\"professor\"))"
      ],
      "metadata": {
        "id": "jND_RXFx8q7Y"
      },
      "execution_count": null,
      "outputs": []
    },
    {
      "cell_type": "code",
      "source": [
        "str = \"Deear Professor\"\n",
        "print(str.replace(\"D\",\"e\"))"
      ],
      "metadata": {
        "id": "LPEEkWNH9Q5k"
      },
      "execution_count": null,
      "outputs": []
    },
    {
      "cell_type": "code",
      "source": [
        "a=\"DEAR PROFESSOR\"\n",
        "b=a[0:4]\n",
        "c=a[5:]\n",
        "e=c.lower()\n",
        "print(b+\" \"+e)"
      ],
      "metadata": {
        "id": "l2RQkyYM-nMg"
      },
      "execution_count": null,
      "outputs": []
    },
    {
      "cell_type": "markdown",
      "source": [
        "**INPUT**"
      ],
      "metadata": {
        "id": "9iCZXAAKiQAY"
      }
    },
    {
      "cell_type": "code",
      "source": [
        "var =input(\"Enter a string:\")\n",
        "var1=int(input(\"Enter a number:\"))\n",
        "var2 = float(input(\"Enter a number\"))\n",
        "print(var)\n",
        "print(var1)\n",
        "print(var2)"
      ],
      "metadata": {
        "id": "cFwWWaG5iPpe"
      },
      "execution_count": null,
      "outputs": []
    },
    {
      "cell_type": "markdown",
      "source": [
        "# DAY 3"
      ],
      "metadata": {
        "id": "RfWaBbhf-qBd"
      }
    },
    {
      "cell_type": "markdown",
      "source": [
        "# Python Data Sturctues\n",
        "\n",
        "\n"
      ],
      "metadata": {
        "id": "K5w01sIfjiie"
      }
    },
    {
      "cell_type": "markdown",
      "source": [
        "\n",
        "\n",
        "1. List - []\n",
        "2. Tuple - ()\n",
        "3. Set - {}\n",
        "4. Dict - {}\n",
        "\n",
        "\n"
      ],
      "metadata": {
        "id": "77uJnXzLkMQt"
      }
    },
    {
      "cell_type": "markdown",
      "source": [
        "# List\n",
        "\n",
        "1. Changeable  \n",
        "2. Heterogenous data\n",
        "3. allow a duplicate values\n"
      ],
      "metadata": {
        "id": "4gjPZzJr-xp6"
      }
    },
    {
      "cell_type": "code",
      "source": [
        "app =[\"Potataoes\",\"Apple\",\"Mango\",\"Banana\"]\n",
        "print(app)"
      ],
      "metadata": {
        "id": "_T7wMNn3byvg"
      },
      "execution_count": null,
      "outputs": []
    },
    {
      "cell_type": "code",
      "source": [
        "print(type(app))\n",
        "print(app[2])\n",
        "print(app[-2])\n",
        "print(app[1:3])"
      ],
      "metadata": {
        "id": "vtqfrbsibysw"
      },
      "execution_count": null,
      "outputs": []
    },
    {
      "cell_type": "code",
      "source": [
        "str=\"Hello World\"\n",
        "print(str[0:10:1])"
      ],
      "metadata": {
        "id": "q1IjYxyjAV2d"
      },
      "execution_count": null,
      "outputs": []
    },
    {
      "cell_type": "code",
      "source": [
        "app=[\"Potataoes\",\"Apple\",\"Mango\",\"Banana\"]\n",
        "app[2]=\"dhaniya\"\n",
        "app"
      ],
      "metadata": {
        "id": "FbzdhtiDbyp3"
      },
      "execution_count": null,
      "outputs": []
    },
    {
      "cell_type": "code",
      "source": [
        "lapp =[\"Potataoes\",\"Apple\",\"Mango\",\"Banana\"]\n",
        "lapp.append(\"Milk\")\n",
        "lapp"
      ],
      "metadata": {
        "id": "CHtPnnIXBURw"
      },
      "execution_count": null,
      "outputs": []
    },
    {
      "cell_type": "code",
      "source": [
        "lapp.insert(2,\"Milk\")\n",
        "lapp"
      ],
      "metadata": {
        "id": "9Wx-W7oiBUOW"
      },
      "execution_count": null,
      "outputs": []
    },
    {
      "cell_type": "code",
      "source": [
        "# TO perfom we have 3 functions\n",
        "app =[\"Potataoes\",\"Apple\",\"Mango\",\"Banana\",\"Milk\"]\n",
        "app.remove(\"Milk\")\n",
        "app"
      ],
      "metadata": {
        "id": "Dosbj0knBULj"
      },
      "execution_count": null,
      "outputs": []
    },
    {
      "cell_type": "code",
      "source": [
        "lapp =[\"Potataoes\",\"Apple\",\"Mango\",\"Banana\"]\n",
        "lapp.pop(0)\n",
        "lapp"
      ],
      "metadata": {
        "id": "QUhql-joB6Kb"
      },
      "execution_count": null,
      "outputs": []
    },
    {
      "cell_type": "code",
      "source": [
        "lapp1 =[\"Potataoes\",\"Apple\",\"Mango\",\"Banana\"]\n",
        "del lapp1\n"
      ],
      "metadata": {
        "id": "KtlC8SdjB6G6"
      },
      "execution_count": null,
      "outputs": []
    },
    {
      "cell_type": "code",
      "source": [
        "grades=[34,57,98,24,56,21,67]\n",
        "grades.sort()\n",
        "print(grades)\n",
        "grades.sort(reverse=True)\n",
        "\n",
        "print(grades)\n",
        "max(grades)\n",
        "\n"
      ],
      "metadata": {
        "id": "Std9LslUDMci"
      },
      "execution_count": null,
      "outputs": []
    },
    {
      "cell_type": "code",
      "source": [
        "\n",
        "a=int(input())\n",
        "b=int(input())\n",
        "c=int(input())\n",
        "d=int(input())\n",
        "e=int(input())\n",
        "l=[]\n",
        "l.append(a)\n",
        "l.append(b)\n",
        "l.append(c)\n",
        "l.append(d)\n",
        "l.append(e)\n",
        "print(l)\n",
        "\n",
        "\n",
        "\n",
        "\n",
        "\n"
      ],
      "metadata": {
        "id": "nfPaYEA-EWI2"
      },
      "execution_count": null,
      "outputs": []
    },
    {
      "cell_type": "code",
      "source": [
        "# Read input, map to integers, and convert to list\n",
        "app = list(map(int, input().split()))\n",
        "\n",
        "# Initialize an empty list\n",
        "list1 = []\n",
        "\n",
        "# Append the first element of 'app' to 'list1'\n",
        "list1.append(app)\n",
        "\n",
        "# Print the resulting list\n",
        "print(list1)\n"
      ],
      "metadata": {
        "id": "VOkcKKm1PS3k"
      },
      "execution_count": null,
      "outputs": []
    },
    {
      "cell_type": "markdown",
      "source": [
        "# DAY 5"
      ],
      "metadata": {
        "id": "zRaqrmjUxAyM"
      }
    },
    {
      "cell_type": "markdown",
      "source": [
        "#Tuple\n",
        "1. Data Structure\n",
        "2. Immutable\n",
        "3. ()\n",
        "4. It allows duplictaes"
      ],
      "metadata": {
        "id": "cKqwtXZ9UVN6"
      }
    },
    {
      "cell_type": "code",
      "source": [
        "tipl=(\"appale\",\"mangoes\",\"cherry\")\n",
        "print(tipl)"
      ],
      "metadata": {
        "id": "y539v8szPS0D"
      },
      "execution_count": null,
      "outputs": []
    },
    {
      "cell_type": "code",
      "source": [
        "tipl=[(1,2,3),(\"appale\",\"mangoes\",\"cherry\")]\n",
        "print(tipl)"
      ],
      "metadata": {
        "id": "4wLbSpThPSxf"
      },
      "execution_count": null,
      "outputs": []
    },
    {
      "cell_type": "code",
      "source": [
        "tipl[1]"
      ],
      "metadata": {
        "id": "ZCyhG4ofPSvB"
      },
      "execution_count": null,
      "outputs": []
    },
    {
      "cell_type": "code",
      "source": [
        "tipl=(\"appale\",\"mangoes\",\"cherry\",\"banana\")\n",
        "print(tipl)"
      ],
      "metadata": {
        "id": "P-An6lpRPSsO"
      },
      "execution_count": null,
      "outputs": []
    },
    {
      "cell_type": "markdown",
      "source": [],
      "metadata": {
        "id": "QA5PdLjKZwGH"
      }
    },
    {
      "cell_type": "code",
      "source": [
        "tupl1=(\"cherry\",)\n",
        "tup=tipl+tupl1\n",
        "print(tup)"
      ],
      "metadata": {
        "id": "ha3JBsRnVTlH"
      },
      "execution_count": null,
      "outputs": []
    },
    {
      "cell_type": "code",
      "source": [
        "tu=(1,2,3,4,5,1,23,4,5,6,7)\n",
        "print(tu.count(1))\n"
      ],
      "metadata": {
        "id": "qrzj3JT-VTiG"
      },
      "execution_count": null,
      "outputs": []
    },
    {
      "cell_type": "code",
      "source": [
        "tu.index(1)"
      ],
      "metadata": {
        "id": "DvEV3CkBVTfL"
      },
      "execution_count": null,
      "outputs": []
    },
    {
      "cell_type": "code",
      "source": [
        "tup=(\"Prasad\")\n",
        "tup1=(\"Prasad\",)\n",
        "print(type(tup))\n",
        "print(type(tup1))"
      ],
      "metadata": {
        "id": "jjhx7jLqH1LM"
      },
      "execution_count": null,
      "outputs": []
    },
    {
      "cell_type": "markdown",
      "source": [
        "# Dictionary\n",
        "1. {}\n",
        "2. key value pair\n",
        "3. immutable\n",
        "4. ordered\n",
        "5. donot allow duplicates"
      ],
      "metadata": {
        "id": "1uLyL4Q-azm-"
      }
    },
    {
      "cell_type": "code",
      "source": [
        "dic=({\"table\":\"A wooden planck of a sheet\"})\n",
        "dic"
      ],
      "metadata": {
        "id": "OKbGdxLTVTcf"
      },
      "execution_count": null,
      "outputs": []
    },
    {
      "cell_type": "code",
      "source": [
        "dict={1:2,3:0,}"
      ],
      "metadata": {
        "id": "ERvS5IVhVTZf"
      },
      "execution_count": null,
      "outputs": []
    },
    {
      "cell_type": "code",
      "source": [
        "dic={\"book\":\"knowledge\",\"laptop\":\"device\"}\n",
        "a=dic[\"book\"]\n",
        "a"
      ],
      "metadata": {
        "id": "2ZhpTAwXVTWg"
      },
      "execution_count": null,
      "outputs": []
    },
    {
      "cell_type": "code",
      "source": [
        "dic.get(\"book\")"
      ],
      "metadata": {
        "id": "Qpueoy3hVTTo"
      },
      "execution_count": null,
      "outputs": []
    },
    {
      "cell_type": "code",
      "source": [
        "dic.update(book=\"MATH\")\n",
        "dic"
      ],
      "metadata": {
        "id": "zttsf3-hVTQy"
      },
      "execution_count": null,
      "outputs": []
    },
    {
      "cell_type": "code",
      "source": [
        "dic.pop(\"book\")\n",
        "dic"
      ],
      "metadata": {
        "id": "k3yzncHaVTOO"
      },
      "execution_count": null,
      "outputs": []
    },
    {
      "cell_type": "code",
      "source": [
        "dic={\"book\":\"knowledge\",\"laptop\":\"device\"}\n",
        "dic[\"book\"]=\"lllll\"\n",
        "dic"
      ],
      "metadata": {
        "id": "li6Ml5btVTLp"
      },
      "execution_count": null,
      "outputs": []
    },
    {
      "cell_type": "code",
      "source": [
        "dic={\"book\":\"knowledge\",\"laptop\":\"device\"}\n",
        "dic.clear()\n",
        "dic\n"
      ],
      "metadata": {
        "id": "hZ_huzCaVTI-"
      },
      "execution_count": null,
      "outputs": []
    },
    {
      "cell_type": "code",
      "source": [
        "#popitem -> It will delete/remove last element\n",
        "dic={\"book\":\"knowledge\",\"laptop\":\"device\"}\n",
        "dic.popitem()\n",
        "dic"
      ],
      "metadata": {
        "id": "GN3xRvHkVTGH"
      },
      "execution_count": null,
      "outputs": []
    },
    {
      "cell_type": "code",
      "source": [
        "dic={\"book\":\"knowledge\",\"laptop\":\"device\"}\n",
        "dic.keys()\n"
      ],
      "metadata": {
        "id": "mkoHW8PAVTDR"
      },
      "execution_count": null,
      "outputs": []
    },
    {
      "cell_type": "code",
      "source": [
        "dic={\"python\":{\"knowledge\":2,\"java\":\"lan\"}}\n",
        "dic[\"python\"][\"java\"]"
      ],
      "metadata": {
        "id": "Cb1_iEC7VTA3"
      },
      "execution_count": null,
      "outputs": []
    },
    {
      "cell_type": "code",
      "source": [
        "dic={\"python\":{\"knowledge\":2,\"java\":\"lan\"}}\n",
        "dic.get(\"python\").get(\"java\")\n"
      ],
      "metadata": {
        "id": "8IliMPVhVS-C"
      },
      "execution_count": null,
      "outputs": []
    },
    {
      "cell_type": "markdown",
      "source": [
        "# Set\n",
        "\n",
        "1. python Data stuctures\n",
        "2. {}\n",
        "3. Unordered"
      ],
      "metadata": {
        "id": "ulCLRJU3sDoK"
      }
    },
    {
      "cell_type": "code",
      "source": [
        "seti ={11,3,7,1,8,1}\n",
        "seti\n"
      ],
      "metadata": {
        "id": "JXIGa3dZsDMB"
      },
      "execution_count": null,
      "outputs": []
    },
    {
      "cell_type": "code",
      "source": [
        "seti={1,2,3,11,2,4,5,3,1,2,32,1}\n",
        "seti"
      ],
      "metadata": {
        "id": "8iLXxSCPx682"
      },
      "execution_count": null,
      "outputs": []
    },
    {
      "cell_type": "code",
      "source": [
        "seti ={\"apple\",\"mangoes\",\"cherries\"}\n",
        "seti"
      ],
      "metadata": {
        "id": "RVcJTtRww_i9"
      },
      "execution_count": null,
      "outputs": []
    },
    {
      "cell_type": "code",
      "source": [
        "seti ={\"apple\",\"mangoes\",\"Cherries\",\"cherries\"}\n",
        "seti"
      ],
      "metadata": {
        "id": "9iancLGEw_fp"
      },
      "execution_count": null,
      "outputs": []
    },
    {
      "cell_type": "code",
      "source": [
        "#Acessing the element in set\n",
        "listi=list(seti)"
      ],
      "metadata": {
        "id": "9Gh8X5K4w_cQ"
      },
      "execution_count": null,
      "outputs": []
    },
    {
      "cell_type": "code",
      "source": [
        "listi"
      ],
      "metadata": {
        "id": "yZmESutdzlLU"
      },
      "execution_count": null,
      "outputs": []
    },
    {
      "cell_type": "code",
      "source": [
        "listi[0]"
      ],
      "metadata": {
        "id": "8155tVKJw_aA"
      },
      "execution_count": null,
      "outputs": []
    },
    {
      "cell_type": "code",
      "source": [
        "listi[0]=\"Banana\"\n",
        "listi"
      ],
      "metadata": {
        "id": "BtKC6NTnw_XE"
      },
      "execution_count": null,
      "outputs": []
    },
    {
      "cell_type": "code",
      "source": [
        "seti=set(listi)\n",
        "seti"
      ],
      "metadata": {
        "id": "RVjyrrImw_UR"
      },
      "execution_count": null,
      "outputs": []
    },
    {
      "cell_type": "code",
      "source": [
        "\"Banana\" in seti"
      ],
      "metadata": {
        "id": "PI8Aj2N9w_Ri"
      },
      "execution_count": null,
      "outputs": []
    },
    {
      "cell_type": "code",
      "source": [
        "#CRUD\n",
        "# C -> CREATE {},SET\n",
        "# R ->  PRINT\n",
        "# U -> ADDING ANY ELEMENT , UPDATE\n",
        "# D -> POP REMOVE"
      ],
      "metadata": {
        "id": "IS3Us_KZ1nO-"
      },
      "execution_count": null,
      "outputs": []
    },
    {
      "cell_type": "code",
      "source": [
        "###Adding up to sets\n",
        "set_1={1,2,3,4}\n",
        "set_2={3,4,5,6}\n",
        "set_1.update(set_2)\n",
        "set_1"
      ],
      "metadata": {
        "id": "fHfPhX8rw_O7"
      },
      "execution_count": null,
      "outputs": []
    },
    {
      "cell_type": "code",
      "source": [
        "set_1.add(7)\n",
        "set_1\n"
      ],
      "metadata": {
        "id": "rZSPuFacw_ML"
      },
      "execution_count": null,
      "outputs": []
    },
    {
      "cell_type": "code",
      "source": [
        "set_1.remove(4)\n",
        "\n",
        "set_1"
      ],
      "metadata": {
        "id": "JXR16Ue72hks"
      },
      "execution_count": null,
      "outputs": []
    },
    {
      "cell_type": "code",
      "source": [
        "set_1.discard(\"kiwi\")\n",
        "set_1.discard(1)\n",
        "set_1"
      ],
      "metadata": {
        "id": "SmqQdvXq3wPH"
      },
      "execution_count": null,
      "outputs": []
    },
    {
      "cell_type": "code",
      "source": [
        "set_1.clear()\n",
        "set_1"
      ],
      "metadata": {
        "id": "7Yi-IurW3wLZ"
      },
      "execution_count": null,
      "outputs": []
    },
    {
      "cell_type": "code",
      "source": [
        "set_a ={\"apple\",\"banana\",\"mangoes\"}\n",
        "set_b ={\"google\",\"microsoft\",\"apple\"}\n",
        "set_c =set_a.union(set_b)\n",
        "set_c"
      ],
      "metadata": {
        "id": "bQAbyMS53wIt"
      },
      "execution_count": null,
      "outputs": []
    },
    {
      "cell_type": "code",
      "source": [
        "set_a ={\"apple\",\"banana\",\"mangoes\"}\n",
        "set_b ={\"google\",\"microsoft\",\"apple\"}\n",
        "set_c =set_a.intersection(set_b)\n",
        "set_c"
      ],
      "metadata": {
        "id": "50UfqnjJ5I9A"
      },
      "execution_count": null,
      "outputs": []
    },
    {
      "cell_type": "code",
      "source": [
        "set_a ={\"apple\",\"banana\",\"mangoes\"}\n",
        "set_b ={\"google\",\"microsoft\",\"apple\"}\n",
        "set_c =set_a.difference(set_b)\n",
        "set_c"
      ],
      "metadata": {
        "id": "d92aMeQ15I5d"
      },
      "execution_count": null,
      "outputs": []
    },
    {
      "cell_type": "markdown",
      "source": [
        "# Conditional operator"
      ],
      "metadata": {
        "id": "t_xz5wE67uNe"
      }
    },
    {
      "cell_type": "code",
      "source": [
        "# Italy Vs England\n",
        "winner=\"germany\"\n",
        "if winner == \"england\":\n",
        "  print(\"500 exrtra pocket money\")\n",
        "else:\n",
        "  print(\"default\")\n"
      ],
      "metadata": {
        "id": "Jd4yR5zL5I3D"
      },
      "execution_count": null,
      "outputs": []
    },
    {
      "cell_type": "code",
      "source": [
        "price=int(input(\"Enter a price : \"))\n",
        "if price<100:\n",
        "  print(\"Buy some snackes\")\n",
        "elif price ==100:\n",
        "   print(\"Purchase the PR cards\")\n",
        "elif price>100:\n",
        "  print(\"Buy some chips\")\n",
        "else:\n",
        "    print(\"default\")"
      ],
      "metadata": {
        "id": "ApDUWdfc5I0A"
      },
      "execution_count": null,
      "outputs": []
    },
    {
      "cell_type": "code",
      "source": [
        "srt=\"Monday\""
      ],
      "metadata": {
        "id": "W4bxoZ5oAjZD"
      },
      "execution_count": null,
      "outputs": []
    },
    {
      "cell_type": "code",
      "source": [
        "srt==True"
      ],
      "metadata": {
        "id": "B_1I3H_LAoi8"
      },
      "execution_count": null,
      "outputs": []
    },
    {
      "cell_type": "code",
      "source": [
        "sr=\"Monday\"\n",
        "if sr:\n",
        "  print(\"Hello Wrold\")\n",
        "else:\n",
        "  print(\"Bye World\")\n",
        "\n",
        "\n"
      ],
      "metadata": {
        "id": "Z9b7ErbkA6Ir"
      },
      "execution_count": null,
      "outputs": []
    },
    {
      "cell_type": "code",
      "source": [
        "try:\n",
        "  if sr:\n",
        "    print(\"Hello Wrold\")\n",
        "except:\n",
        "  print(\"Bye World\")"
      ],
      "metadata": {
        "id": "7xA-Eb97BroY"
      },
      "execution_count": null,
      "outputs": []
    },
    {
      "cell_type": "code",
      "source": [
        "try:\n",
        "  if srioooo:\n",
        "    print(\"Hello Wrold\")\n",
        "except:\n",
        "  print(\"Bye World\")"
      ],
      "metadata": {
        "id": "R50wInmQBrk3"
      },
      "execution_count": null,
      "outputs": []
    },
    {
      "cell_type": "code",
      "source": [
        "list1=[\"Mr Bean\", \"Tom & Jerry\",\"Bob the Bulider\",\"Richie rich\"]"
      ],
      "metadata": {
        "id": "4CyRyiujCVpF"
      },
      "execution_count": null,
      "outputs": []
    },
    {
      "cell_type": "code",
      "source": [
        "if \"Doreamon\" in list1:\n",
        "  print(\"Yes\")\n",
        "else:\n",
        "  list1.append(\"Doeramon\")\n",
        "  print(list1)"
      ],
      "metadata": {
        "id": "_UuN7gLGCVXM"
      },
      "execution_count": null,
      "outputs": []
    },
    {
      "cell_type": "code",
      "source": [
        "inp = input(\"Enter name: \")\n",
        "if inp.isnumeric():\n",
        "  print(\"Sorry,try again\")\n",
        "elif inp.isalpha():\n",
        "  print(\"You rae good to go\")\n",
        "else:\n",
        "  print(\"Drof off from the college\")"
      ],
      "metadata": {
        "id": "J1n056sNCVTw"
      },
      "execution_count": null,
      "outputs": []
    },
    {
      "cell_type": "markdown",
      "source": [
        "# Day 6"
      ],
      "metadata": {
        "id": "VKtHO1ihxRTC"
      }
    },
    {
      "cell_type": "markdown",
      "source": [
        "# Loops"
      ],
      "metadata": {
        "id": "Sd1yOG8bytnD"
      }
    },
    {
      "cell_type": "code",
      "source": [
        "for i in range(0,10):\n",
        "  print(i)"
      ],
      "metadata": {
        "id": "b9g32E7zxQ8X"
      },
      "execution_count": null,
      "outputs": []
    },
    {
      "cell_type": "code",
      "source": [
        "for i in range(41,51):\n",
        "  if i == 48:\n",
        "    print(\"Yes we've done\")\n",
        "  else:\n",
        "    print(i)"
      ],
      "metadata": {
        "id": "srY_hk15xQsU"
      },
      "execution_count": null,
      "outputs": []
    },
    {
      "cell_type": "code",
      "source": [
        "count=0\n",
        "while count<10:\n",
        "  count+=1\n",
        "  print(count)"
      ],
      "metadata": {
        "id": "ca3t1DkcxQpF"
      },
      "execution_count": null,
      "outputs": []
    },
    {
      "cell_type": "code",
      "source": [
        "count=0\n",
        "while count<10:\n",
        "  print(count)\n",
        "  count+=1"
      ],
      "metadata": {
        "id": "lwi7Ii8N24IH"
      },
      "execution_count": null,
      "outputs": []
    },
    {
      "cell_type": "code",
      "source": [
        "count =0\n",
        "while count<10:\n",
        "  print(count)\n",
        "\n"
      ],
      "metadata": {
        "id": "T9OwV0HcMIim"
      },
      "execution_count": null,
      "outputs": []
    },
    {
      "cell_type": "code",
      "source": [
        "while True:\n",
        "  print(\"Hello\")\n",
        "\n",
        "#Infinite loop"
      ],
      "metadata": {
        "id": "bkb_33RaxQi0"
      },
      "execution_count": null,
      "outputs": []
    },
    {
      "cell_type": "code",
      "source": [
        "a=\"Iam good\"\n",
        "for i in range(11):\n",
        "  print(a)"
      ],
      "metadata": {
        "id": "lTDZ8KKMxQgB"
      },
      "execution_count": null,
      "outputs": []
    },
    {
      "cell_type": "code",
      "source": [
        "a= int(input(\"Enter a number: \"))\n",
        "lis=[]\n",
        "for i in range(a):\n",
        "  lis.append(i)\n",
        "print(lis)"
      ],
      "metadata": {
        "id": "3dulptTVxQc2"
      },
      "execution_count": null,
      "outputs": []
    },
    {
      "cell_type": "code",
      "source": [
        "arr=[]\n",
        "for i in range(5):\n",
        "  arr.append(int(input()))\n",
        "print(arr)"
      ],
      "metadata": {
        "id": "MTqa1azLxQZr"
      },
      "execution_count": null,
      "outputs": []
    },
    {
      "cell_type": "markdown",
      "source": [
        "# List Comprehension"
      ],
      "metadata": {
        "id": "5JjVhXR47hPO"
      }
    },
    {
      "cell_type": "code",
      "source": [
        "brr = [statement for loop]\n",
        "brr = [statement for loop if condition]\n",
        "brr = [statement if condition else condition for loop]"
      ],
      "metadata": {
        "id": "gbOzhAgZ784g"
      },
      "execution_count": null,
      "outputs": []
    },
    {
      "cell_type": "code",
      "source": [
        "we=[i for i in range(10 )]\n",
        "we"
      ],
      "metadata": {
        "id": "RQ6vszunxQWK"
      },
      "execution_count": null,
      "outputs": []
    },
    {
      "cell_type": "code",
      "source": [
        "we"
      ],
      "metadata": {
        "id": "GolgHAacxQS-"
      },
      "execution_count": null,
      "outputs": []
    },
    {
      "cell_type": "code",
      "source": [
        "brr =[ i for i in range(0,10)  if i%2==0 ]\n",
        "brr"
      ],
      "metadata": {
        "id": "TcpCC4P2xQP4"
      },
      "execution_count": null,
      "outputs": []
    },
    {
      "cell_type": "code",
      "source": [
        "fruits =[\"mangoes\",\"apple\",\"kiwi\"]\n",
        "newlist=[i for i in fruits]\n",
        "newlist"
      ],
      "metadata": {
        "id": "Moh7_lg-xQMm"
      },
      "execution_count": null,
      "outputs": []
    },
    {
      "cell_type": "code",
      "source": [
        "fruite=[\"mangoes\",\"apple\",\"kiwi\"]\n",
        "newlist=[i.upper() for i in fruite]\n",
        "newlist"
      ],
      "metadata": {
        "id": "61_AV673xQJK"
      },
      "execution_count": null,
      "outputs": []
    },
    {
      "cell_type": "code",
      "source": [
        "fruites=[\"mangoes\",\"apple\",\"kiwi\"]\n",
        "newlist=[i for i in fruites if i!=\"mangoes\"]\n",
        "newlist"
      ],
      "metadata": {
        "id": "3eQYW5lZxQFS"
      },
      "execution_count": null,
      "outputs": []
    },
    {
      "cell_type": "markdown",
      "source": [
        "# Nested"
      ],
      "metadata": {
        "id": "ZVVyIZlW9sA3"
      }
    },
    {
      "cell_type": "code",
      "source": [
        "var=5000\n",
        "if var>1000:\n",
        "  if var<10000:\n",
        "    print(\"Yes it is nested\")\n",
        "  print(\"NO it is not nested\")\n",
        "else:\n",
        "  print(\"No\")"
      ],
      "metadata": {
        "id": "0TSfdZ6VxQAv"
      },
      "execution_count": null,
      "outputs": []
    },
    {
      "cell_type": "code",
      "source": [
        "var =5000\n",
        "if var>1000:\n",
        "  if var<1000:\n",
        "    print(\"Yes it is nested\")\n",
        "  print(\"NO it is not nested\")\n",
        "else:\n",
        "  print(\"No\")"
      ],
      "metadata": {
        "id": "7mYSeCCvxP-A"
      },
      "execution_count": null,
      "outputs": []
    },
    {
      "cell_type": "code",
      "source": [
        "var =5000\n",
        "if var>1000:\n",
        "  if var!=5000:\n",
        "    print(\"Yes it is nested\")\n",
        "  print(\"NO it is not nested\")\n",
        "else:\n",
        "  print(\"No\")"
      ],
      "metadata": {
        "id": "TLIdDITUEFQJ"
      },
      "execution_count": null,
      "outputs": []
    },
    {
      "cell_type": "code",
      "source": [
        "#Loops\n",
        "\n",
        "for i in range(5):\n",
        "  for j in range(5):\n",
        "    print(j)"
      ],
      "metadata": {
        "id": "cv_Ivmry_6B5"
      },
      "execution_count": null,
      "outputs": []
    },
    {
      "cell_type": "code",
      "source": [
        "for i in range(5):\n",
        "  for j in range(5):\n",
        "    print(i,j)\n"
      ],
      "metadata": {
        "id": "Mzy1G0q_AJoT"
      },
      "execution_count": null,
      "outputs": []
    },
    {
      "cell_type": "code",
      "source": [
        "friuts=[\"apple\",\"mangoes\",\"kiwi\",\"papaya\"]\n",
        "qunatity=[3,4,5,6]\n",
        "final={}\n",
        "for i in friuts:\n",
        "  for j in qunatity:\n",
        "    final[i]=j\n",
        "print(final)"
      ],
      "metadata": {
        "id": "UDloizIcAj4B"
      },
      "execution_count": null,
      "outputs": []
    },
    {
      "cell_type": "code",
      "source": [
        "#Zip()\n",
        "fine=zip(friuts,qunatity)\n",
        "fine"
      ],
      "metadata": {
        "id": "OJ2W34-uAj0e"
      },
      "execution_count": null,
      "outputs": []
    },
    {
      "cell_type": "code",
      "source": [
        "for i,j in zip(friuts,qunatity):\n",
        "  final[i]=j\n",
        "print(final)"
      ],
      "metadata": {
        "id": "tIDQSYRQAjw6"
      },
      "execution_count": null,
      "outputs": []
    },
    {
      "cell_type": "markdown",
      "source": [
        "Break -> When to terminate the loop\n",
        "\n",
        "Continue ->\n",
        "\n",
        "Pass->\n"
      ],
      "metadata": {
        "id": "oMB2v2PvokJ2"
      }
    },
    {
      "cell_type": "code",
      "source": [
        "for i in range(10):\n",
        "  if i==5:\n",
        "    break\n",
        "  print(i)\n"
      ],
      "metadata": {
        "id": "4JYSb3w6AjoP"
      },
      "execution_count": null,
      "outputs": []
    },
    {
      "cell_type": "code",
      "source": [
        "for i in range(10):\n",
        "  if i==5:\n",
        "    continue\n",
        "  print(i)"
      ],
      "metadata": {
        "id": "WfEy-gpUAjkv"
      },
      "execution_count": null,
      "outputs": []
    },
    {
      "cell_type": "code",
      "source": [
        "for i in range(10):\n",
        "  if i==5:\n",
        "    pass\n",
        "  print(i)"
      ],
      "metadata": {
        "id": "IzgU4j9bpAJ3"
      },
      "execution_count": null,
      "outputs": []
    },
    {
      "cell_type": "markdown",
      "source": [
        "# The Activity Day"
      ],
      "metadata": {
        "id": "U59eSsSppmcm"
      }
    },
    {
      "cell_type": "code",
      "source": [
        "ans =\"I will pay attemtion to the exam\"\n",
        "for i in range(0,11):\n",
        "  print(ans)\n",
        "\n",
        "  # Don't use loop\n",
        "print(\"I will pay attemtion to the exam\\n\"*11)"
      ],
      "metadata": {
        "id": "uM6HsSPIpAGZ"
      },
      "execution_count": null,
      "outputs": []
    },
    {
      "cell_type": "code",
      "source": [
        "#Factorial\n",
        "n=5\n",
        "fact=1\n",
        "for i in range(n,1,-1):\n",
        "  fact=fact*i\n",
        "print(fact)"
      ],
      "metadata": {
        "id": "_3saq_55pAED"
      },
      "execution_count": null,
      "outputs": []
    },
    {
      "cell_type": "code",
      "source": [
        "var = \"Prasad\"\n",
        "var1=var.swapcase()\n",
        "print(var1)\n",
        "\n",
        "# print(input().swapcase())"
      ],
      "metadata": {
        "id": "L6vmlzo7pABX"
      },
      "execution_count": null,
      "outputs": []
    },
    {
      "cell_type": "code",
      "source": [
        "var=input().lower()\n",
        "var1=reversed(var)\n",
        "if list(var1)==list(var):\n",
        "  print(\"Yes\")\n",
        "else:\n",
        "  print(\"No\")\n"
      ],
      "metadata": {
        "id": "mgR3e8jnsjhf"
      },
      "execution_count": null,
      "outputs": []
    },
    {
      "cell_type": "code",
      "source": [
        "var=\"mam\"\n",
        "var1 = var[::-1]\n",
        "if var1==var:\n",
        "  print(\"Yes\")\n",
        "else:\n",
        "  print(\"No\")"
      ],
      "metadata": {
        "id": "8Ioe_jOMsjd-"
      },
      "execution_count": null,
      "outputs": []
    },
    {
      "cell_type": "code",
      "source": [
        "a=\"prasda\"\n",
        "res=\" \".join(reversed(a))\n",
        "print(res)"
      ],
      "metadata": {
        "id": "YSbo0txTsjbL"
      },
      "execution_count": null,
      "outputs": []
    },
    {
      "cell_type": "markdown",
      "source": [
        "# Rock paper sissor game"
      ],
      "metadata": {
        "id": "HKsI9chDxc8d"
      }
    },
    {
      "cell_type": "code",
      "source": [
        "# Rock paper sissor game\n",
        "Series =int(input(\"Enter the number of series : \"))\n",
        "player_1=0\n",
        "player_2=0\n",
        "for i in range(Series):\n",
        "  print(\"Round\",i+1)\n",
        "  player1=input(\"Player 1 : \")\n",
        "  player2=input(\"Player 2 : \")\n",
        "  if player1==player2:\n",
        "    print(\"Draw\")\n",
        "  elif (player1==\"R\" and player2 ==\"S\") or (player1==\"P\" and player2==\"R\") or (player1==\"S\" and player2==\"P\"):\n",
        "    print(\"Player 1 wins\")\n",
        "    player_1+=1\n",
        "  else:\n",
        "    player_2+=1\n",
        "    print(\"Player 2 wins\")\n",
        "if player_1>player_2:\n",
        "  print(\"Player 1 is winner\")\n",
        "elif player_2>player_1:\n",
        "  print(\"Player 2 is winner\")\n",
        "else:\n",
        "  print(\"Draw\")\n",
        "\n",
        "\n"
      ],
      "metadata": {
        "id": "-U_jeJ_gsjYm"
      },
      "execution_count": null,
      "outputs": []
    },
    {
      "cell_type": "markdown",
      "source": [
        "# Day 8"
      ],
      "metadata": {
        "id": "-mF-NJUxHUcs"
      }
    },
    {
      "cell_type": "markdown",
      "source": [
        "# Function"
      ],
      "metadata": {
        "id": "rsvZSsYMHj_s"
      }
    },
    {
      "cell_type": "code",
      "source": [
        "a= int(input(\"Enter a number : \"))\n",
        "if a ==10:\n",
        "  print(\"Yes\")\n",
        "else:\n",
        "  print(\"No\")"
      ],
      "metadata": {
        "id": "6PPOSMIIxl7e"
      },
      "execution_count": null,
      "outputs": []
    },
    {
      "cell_type": "code",
      "source": [
        "# 1000 lines of code\n",
        "a= int(input(\"Enter a number : \"))\n",
        "if a ==10:\n",
        "  print(\"Yes\")\n",
        "else:\n",
        "  print(\"No\")"
      ],
      "metadata": {
        "id": "rsNG7f1lxl4F"
      },
      "execution_count": null,
      "outputs": []
    },
    {
      "cell_type": "code",
      "source": [
        "# Function\n",
        "def hello() :\n",
        "  print(\"Hello\")\n",
        "hello()"
      ],
      "metadata": {
        "id": "A-9D2q-lxl0z"
      },
      "execution_count": null,
      "outputs": []
    },
    {
      "cell_type": "code",
      "source": [
        "def hello() :\n",
        "  if a ==10:\n",
        "    print(\"Yes\")\n",
        "  else:\n",
        "    print(\"No\")\n",
        "a= int(input(\"Enter a number : \"))\n",
        "hello()"
      ],
      "metadata": {
        "id": "BftYv_8yxlyQ"
      },
      "execution_count": null,
      "outputs": []
    },
    {
      "cell_type": "code",
      "source": [
        "def addtion():\n",
        "  a=10\n",
        "  b=20\n",
        "  print(a+b)\n"
      ],
      "metadata": {
        "id": "f4t14-s7xlvF"
      },
      "execution_count": null,
      "outputs": []
    },
    {
      "cell_type": "code",
      "source": [
        "var=addtion()\n"
      ],
      "metadata": {
        "id": "k5f4k9ipLmB9"
      },
      "execution_count": null,
      "outputs": []
    },
    {
      "cell_type": "code",
      "source": [
        "var"
      ],
      "metadata": {
        "id": "hbakjaw6Ll-v"
      },
      "execution_count": null,
      "outputs": []
    },
    {
      "cell_type": "code",
      "source": [
        "def addtion():\n",
        "  a=10\n",
        "  b=20\n",
        "  return a+b\n",
        "var=addtion()\n",
        "#print(var)"
      ],
      "metadata": {
        "id": "nQOHmScxLl8M"
      },
      "execution_count": null,
      "outputs": []
    },
    {
      "cell_type": "code",
      "source": [
        "print(var)"
      ],
      "metadata": {
        "id": "pzle23TsLl5e"
      },
      "execution_count": null,
      "outputs": []
    },
    {
      "cell_type": "code",
      "source": [
        "Three kinds of functions\n",
        "1.parameters -> len(),range(),max()\n",
        "2.Doesn't takes any parameters -> upper(),lower()\n",
        "3.Default parameters-> pop()"
      ],
      "metadata": {
        "id": "tP9hAA-KMzOT"
      },
      "execution_count": null,
      "outputs": []
    },
    {
      "cell_type": "code",
      "source": [
        "#1.parameters\n",
        "\n",
        "def addition(a,b):\n",
        "  return a+b\n",
        "#addition(10,20)\n",
        "#print(addition(10,20))\n",
        "var = addition(10,20)\n",
        "print(var)"
      ],
      "metadata": {
        "id": "lMVTCGpsMzKd"
      },
      "execution_count": null,
      "outputs": []
    },
    {
      "cell_type": "code",
      "source": [
        "def addition(a,b):\n",
        "  b=10\n",
        "  return a+b\n",
        "\n",
        "print(addition(10,20))\n"
      ],
      "metadata": {
        "id": "mhrauArfMzH4"
      },
      "execution_count": null,
      "outputs": []
    },
    {
      "cell_type": "code",
      "source": [
        "def addition(a,b):\n",
        "  print(a+b)\n",
        "  b=10\n",
        "  return a+b\n",
        "\n",
        "print(addition(10,20))\n",
        "\n"
      ],
      "metadata": {
        "id": "FIC-b6P-MzE_"
      },
      "execution_count": null,
      "outputs": []
    },
    {
      "cell_type": "code",
      "source": [
        "#3.Default parameters\n",
        "def addition(a,b=10):\n",
        "\n",
        "  return a+b\n",
        "\n",
        "print(addition(10))"
      ],
      "metadata": {
        "id": "TV5ja6gJMzB_"
      },
      "execution_count": null,
      "outputs": []
    },
    {
      "cell_type": "code",
      "source": [
        "def popitems(a=-1):\n",
        "  pass"
      ],
      "metadata": {
        "id": "XKIs7VkVMy-u"
      },
      "execution_count": null,
      "outputs": []
    },
    {
      "cell_type": "code",
      "source": [
        "popitems()"
      ],
      "metadata": {
        "id": "BEnz2WlkMy8Q"
      },
      "execution_count": null,
      "outputs": []
    },
    {
      "cell_type": "code",
      "source": [
        "def fun(age):\n",
        "  if age > 60:\n",
        "    print(\"OLD\")\n",
        "  elif age >30 and age <=60:\n",
        "    print(\"middle aged\")\n",
        "  elif age >19 and age<=30:\n",
        "    print(\"Young\")\n",
        "  elif age >13 and age<=19:\n",
        "    print(\"Teen\")\n",
        "  else:\n",
        "    print(\"Kid\")\n",
        "age = int(input(\"Enter your age : \"))\n",
        "fun(age)"
      ],
      "metadata": {
        "id": "72tHZyQ9My5W"
      },
      "execution_count": null,
      "outputs": []
    },
    {
      "cell_type": "code",
      "source": [
        "def fun(age):\n",
        "  if age > 60:\n",
        "    return \"OLD\"\n",
        "  elif age >30 and age <=60:\n",
        "    return \"middle aged\"\n",
        "  elif age >19 and age<=30:\n",
        "    return \"Young\"\n",
        "  elif age >13 and age<=19:\n",
        "    return \"Teen\"\n",
        "  else:\n",
        "    return \"Kid\"\n",
        "NUM = int(input(\"Enter your age : \"))\n",
        "fun(NUM)"
      ],
      "metadata": {
        "id": "nkS8zve6My2Q"
      },
      "execution_count": null,
      "outputs": []
    },
    {
      "cell_type": "code",
      "source": [
        "def calculate(operation, a, b):\n",
        "    if operation == 'add':\n",
        "        return a + b\n",
        "    elif operation == 'sub':\n",
        "        return a - b\n",
        "    elif operation == 'mul':\n",
        "        return a * b\n",
        "    else:\n",
        "        return \"Invalid operation\"\n",
        "print(calculate('add', 2, 3))"
      ],
      "metadata": {
        "id": "lAy-t2OnbWTl"
      },
      "execution_count": null,
      "outputs": []
    },
    {
      "cell_type": "markdown",
      "source": [
        "# Adavnced concepts of FUNCTION"
      ],
      "metadata": {
        "id": "5DS32uEiS8yA"
      }
    },
    {
      "cell_type": "code",
      "source": [
        "def advanced(a,b,c,d):\n",
        "  return a+b-c*d\n",
        "advanced(10,20,30,40)\n",
        "\n",
        "#Precedence of the Opertaors\n",
        "#BODMAS\n",
        "# B -> Brackets\n",
        "# O -> Operators\n",
        "# D -> Division\n",
        "# M -> Multiplication\n",
        "# A -> Addition\n",
        "# S -> Subtraction\n"
      ],
      "metadata": {
        "id": "GcFikuUFMyzc"
      },
      "execution_count": null,
      "outputs": []
    },
    {
      "cell_type": "code",
      "source": [
        "#*args -> Tuple & **kwargs -> Dictionary\n",
        "def advanced(*args):\n",
        "  return args\n",
        "advanced(10,20,30,40)"
      ],
      "metadata": {
        "id": "224kEBokMywV"
      },
      "execution_count": null,
      "outputs": []
    },
    {
      "cell_type": "code",
      "source": [
        "def advanced(*args):\n",
        "\n",
        "  lis =list(args)\n",
        "  return sum(args)\n",
        "print(advanced(10,20,30,40))"
      ],
      "metadata": {
        "id": "JKDssO9DMyt2"
      },
      "execution_count": null,
      "outputs": []
    },
    {
      "cell_type": "code",
      "source": [
        "def advanced(**kwargs):\n",
        "  return kwargs\n",
        "advanced(a=10,b=20,c=30,d=40)"
      ],
      "metadata": {
        "id": "cQKkygmFMyrS"
      },
      "execution_count": null,
      "outputs": []
    },
    {
      "cell_type": "code",
      "source": [
        "def advanced(**kwargs):\n",
        "  kwargs['a']=\"money\"\n",
        "  return kwargs\n",
        "advanced(a=10,b=20,c=30,d=40)"
      ],
      "metadata": {
        "id": "FyzvVNAJMyny"
      },
      "execution_count": null,
      "outputs": []
    },
    {
      "cell_type": "markdown",
      "source": [
        "# Day 9"
      ],
      "metadata": {
        "id": "mHQ4sBgMYj-U"
      }
    },
    {
      "cell_type": "markdown",
      "source": [
        "# More in functions"
      ],
      "metadata": {
        "id": "cewqqnybYtRH"
      }
    },
    {
      "cell_type": "markdown",
      "source": [
        "# Lamnda Function -> function without name (anonymus function)"
      ],
      "metadata": {
        "id": "muFtQfxCY2nO"
      }
    },
    {
      "cell_type": "code",
      "source": [
        "# SYNTAX => lambda arguments (multiple):logic(one)"
      ],
      "metadata": {
        "id": "leiMSsiKMyiI"
      },
      "execution_count": null,
      "outputs": []
    },
    {
      "cell_type": "code",
      "source": [
        "def add(a,b):\n",
        "  return a+b\n",
        "add(10,20)"
      ],
      "metadata": {
        "id": "SflWITJLMyfL"
      },
      "execution_count": null,
      "outputs": []
    },
    {
      "cell_type": "code",
      "source": [
        "(lambda a,b:a+b) (2,3)"
      ],
      "metadata": {
        "id": "rJdC-nF5MycT"
      },
      "execution_count": null,
      "outputs": []
    },
    {
      "cell_type": "code",
      "source": [
        "lam = lambda a,b:a+b\n",
        "lam(10,20)"
      ],
      "metadata": {
        "id": "jKx6blBiMyZu"
      },
      "execution_count": null,
      "outputs": []
    },
    {
      "cell_type": "markdown",
      "source": [
        "# Filter method"
      ],
      "metadata": {
        "id": "2bMFG7Pgcr-0"
      }
    },
    {
      "cell_type": "code",
      "source": [
        "List =[1,2,3,4,5,2,3,1,3,5,6,7,8,9,3]"
      ],
      "metadata": {
        "id": "T6QlOEc8MyWu"
      },
      "execution_count": null,
      "outputs": []
    },
    {
      "cell_type": "code",
      "source": [
        "def even(list):\n",
        "  even_list=[]\n",
        "  for i in list:\n",
        "    if i %2==0:\n",
        "      even_list.append(i)\n",
        "    else:\n",
        "      pass\n",
        "  return even_list\n",
        "even(list)\n",
        "\n"
      ],
      "metadata": {
        "id": "mOpYcuOuMyT2"
      },
      "execution_count": null,
      "outputs": []
    },
    {
      "cell_type": "code",
      "source": [
        "lambda x:x%2==0"
      ],
      "metadata": {
        "id": "-WDrDCjlMyQ7"
      },
      "execution_count": null,
      "outputs": []
    },
    {
      "cell_type": "code",
      "source": [
        "filter(function,iterable)"
      ],
      "metadata": {
        "id": "AoDp-waiMyOg"
      },
      "execution_count": null,
      "outputs": []
    },
    {
      "cell_type": "code",
      "source": [
        "# Rename the variable 'list' to 'my_list'\n",
        "my_list = [1, 2, 3, 4, 5, 2, 3, 1, 3, 5, 6, 7, 8, 9, 3]\n",
        "\n",
        "# Call the built-in function 'list' to convert the filter object to a list\n",
        "even_numbers = set(filter(lambda x: x % 2 == 0, my_list))\n",
        "# we can change this to set or tuple or list\n",
        "print(even_numbers)"
      ],
      "metadata": {
        "id": "HXBF8NAGMyLS"
      },
      "execution_count": null,
      "outputs": []
    },
    {
      "cell_type": "markdown",
      "source": [
        "# Map function"
      ],
      "metadata": {
        "id": "_FM_gypwfxmL"
      }
    },
    {
      "cell_type": "code",
      "source": [
        "map(function,iterable)"
      ],
      "metadata": {
        "id": "U0l5t7_PfxKE"
      },
      "execution_count": null,
      "outputs": []
    },
    {
      "cell_type": "code",
      "source": [
        "my_list"
      ],
      "metadata": {
        "id": "7XYhEM_gMyJM"
      },
      "execution_count": null,
      "outputs": []
    },
    {
      "cell_type": "code",
      "source": [
        "lambda x:x**x"
      ],
      "metadata": {
        "id": "Mt69ad-hMyGT"
      },
      "execution_count": null,
      "outputs": []
    },
    {
      "cell_type": "code",
      "source": [
        "set(map(lambda x: x +x, my_list))"
      ],
      "metadata": {
        "id": "0p7YO3H8MyC9"
      },
      "execution_count": null,
      "outputs": []
    },
    {
      "cell_type": "markdown",
      "source": [
        "# Modules -> math ,random , datetime , time , os , pickle ,"
      ],
      "metadata": {
        "id": "nbA9W708ictV"
      }
    },
    {
      "cell_type": "code",
      "source": [
        "OS -> Windows , Mac , Ubuntu , Android\n",
        "Kernals -> Linux , Unix"
      ],
      "metadata": {
        "id": "QIsd5bUgMx_n"
      },
      "execution_count": null,
      "outputs": []
    },
    {
      "cell_type": "markdown",
      "source": [
        "# math"
      ],
      "metadata": {
        "id": "fCrQP2HNjZFp"
      }
    },
    {
      "cell_type": "code",
      "source": [
        "import math\n",
        "\n",
        "math.ceil(3.1)\n"
      ],
      "metadata": {
        "id": "6vEwJ03nMx9M"
      },
      "execution_count": null,
      "outputs": []
    },
    {
      "cell_type": "code",
      "source": [
        "math.floor(3.2)"
      ],
      "metadata": {
        "id": "ljKNwCWyMx6d"
      },
      "execution_count": null,
      "outputs": []
    },
    {
      "cell_type": "code",
      "source": [
        "math.factorial(5)"
      ],
      "metadata": {
        "id": "onnvdjRnMx3V"
      },
      "execution_count": null,
      "outputs": []
    },
    {
      "cell_type": "code",
      "source": [
        "math.sqrt(16)"
      ],
      "metadata": {
        "id": "DQlI3MIgMx0y"
      },
      "execution_count": null,
      "outputs": []
    },
    {
      "cell_type": "code",
      "source": [
        "math.isqrt(16)"
      ],
      "metadata": {
        "id": "Y2ycAjW3Mxyf"
      },
      "execution_count": null,
      "outputs": []
    },
    {
      "cell_type": "code",
      "source": [
        "math.pow(2,3)"
      ],
      "metadata": {
        "id": "k6Zv6C6hMxv0"
      },
      "execution_count": null,
      "outputs": []
    },
    {
      "cell_type": "code",
      "source": [
        "import math\n",
        "from math import ceil\n",
        "ceil(3.4)"
      ],
      "metadata": {
        "id": "FLQ9g8DbMxsV"
      },
      "execution_count": null,
      "outputs": []
    },
    {
      "cell_type": "code",
      "source": [
        "import math\n",
        "dir(math)"
      ],
      "metadata": {
        "id": "CInGEZCeMxpg"
      },
      "execution_count": null,
      "outputs": []
    },
    {
      "cell_type": "markdown",
      "source": [
        "# Random"
      ],
      "metadata": {
        "id": "3MtWbzsXk_f4"
      }
    },
    {
      "cell_type": "code",
      "source": [
        "import random\n"
      ],
      "metadata": {
        "id": "PmlHXudnMxml"
      },
      "execution_count": null,
      "outputs": []
    },
    {
      "cell_type": "code",
      "source": [
        "Cars =[\"Audi\",\"BMW\",\"Mercedes\",\"Ferrari\",\"Porsche\"]\n",
        "random.choice(Cars)"
      ],
      "metadata": {
        "id": "_p3bAddQlPYu"
      },
      "execution_count": null,
      "outputs": []
    },
    {
      "cell_type": "code",
      "source": [
        "random.randint(1,10)\n"
      ],
      "metadata": {
        "id": "06Xv65XnlPV0"
      },
      "execution_count": null,
      "outputs": []
    },
    {
      "cell_type": "code",
      "source": [
        "import random\n",
        "random.shuffle(Cars)\n",
        "Cars"
      ],
      "metadata": {
        "id": "xiMkm8rhlPRv"
      },
      "execution_count": null,
      "outputs": []
    },
    {
      "cell_type": "code",
      "source": [
        "import random\n",
        "from random import shuffle\n",
        "shuffle(Cars)\n",
        "Cars"
      ],
      "metadata": {
        "id": "js9ry07KliBF"
      },
      "execution_count": null,
      "outputs": []
    },
    {
      "cell_type": "markdown",
      "source": [
        "# Day 10"
      ],
      "metadata": {
        "id": "0DOCM7PgGDil"
      }
    },
    {
      "cell_type": "markdown",
      "source": [
        "# OOP'S -> Object Oriented Programming\n",
        "1. It is an approach that wull allow you to develop an application\n",
        "2. OOP'S -> Python , Java , C++\n",
        "3. Doesn't have OOP'S -> C\n",
        "4. It focuses to do  prrgramming using the concepts classes and object"
      ],
      "metadata": {
        "id": "q5ZF-_pOGJde"
      }
    },
    {
      "cell_type": "code",
      "source": [
        "# Concepts/Principles of OOP's\n",
        "\n",
        "1. class\n",
        "2. object\n",
        "3. Method(Function)\n",
        "4. Inheritance\n",
        "5. Polymorphism\n",
        "6. Constuctor\n",
        "7. Encapsulation\n",
        "8. Abstraction\n"
      ],
      "metadata": {
        "id": "YxV6CDZSlh5J"
      },
      "execution_count": null,
      "outputs": []
    },
    {
      "cell_type": "markdown",
      "source": [
        "# Class\n",
        "\n",
        "1. It is a blueprint/plan/map od defining thr entire structure of the programming\n",
        "2. It is a colllection  of objects , functions etc\n",
        "3. Univeristy(XYZ) -> Class\n",
        "4. Students -> Object\n",
        "5. Department f the students -> Methods"
      ],
      "metadata": {
        "id": "AHjkLgOcJR6M"
      }
    },
    {
      "cell_type": "code",
      "source": [
        "SYNTAX :\n",
        "\n",
        "class name_of_the_class:\n",
        "  pass"
      ],
      "metadata": {
        "id": "onq_ZqbbIG2o"
      },
      "execution_count": null,
      "outputs": []
    },
    {
      "cell_type": "code",
      "source": [
        "class First():\n",
        "  def fun(self,a):\n",
        "    if a>75:\n",
        "      print(\"Pass\")\n",
        "    else:\n",
        "      print(\"Fail\")\n",
        "\n",
        "first=First()\n",
        "first.fun(80)"
      ],
      "metadata": {
        "id": "Tvy_O_P_KQR7"
      },
      "execution_count": null,
      "outputs": []
    },
    {
      "cell_type": "markdown",
      "source": [
        "# Object\n",
        "1. Instance/Part/Member of class\n",
        "* Instance means an example\n"
      ],
      "metadata": {
        "id": "mdMKVhYsKO6w"
      }
    },
    {
      "cell_type": "code",
      "source": [
        "SYNTAX :\n",
        "\n",
        "object_name = class_name()"
      ],
      "metadata": {
        "id": "BgBfbJGvIGzO"
      },
      "execution_count": null,
      "outputs": []
    },
    {
      "cell_type": "code",
      "source": [
        "class First():\n",
        "  def fun(self,a):\n",
        "    if a>75:\n",
        "      print(\"Pass\")\n",
        "    else:\n",
        "      print(\"Fail\")\n",
        "\n",
        "first=First()\n",
        "first.fun(80)"
      ],
      "metadata": {
        "id": "jErTEmNnIGwn"
      },
      "execution_count": null,
      "outputs": []
    },
    {
      "cell_type": "markdown",
      "source": [
        "# Scope of variables\n",
        "1. Local Variable\n",
        "2. Global Variablle"
      ],
      "metadata": {
        "id": "V2LGJ6lzLrH6"
      }
    },
    {
      "cell_type": "code",
      "source": [
        "# Global variable\n",
        "var =10# Global variable\n",
        "def fun():\n",
        "  print(var)\n",
        "fun()"
      ],
      "metadata": {
        "id": "q2WJYdVoLqLX"
      },
      "execution_count": null,
      "outputs": []
    },
    {
      "cell_type": "code",
      "source": [
        "var =10# Global variable\n",
        "def fun():\n",
        "  var =20#Local variable\n",
        "  print(var)\n",
        "fun()"
      ],
      "metadata": {
        "id": "RGuZviwbIGtq"
      },
      "execution_count": null,
      "outputs": []
    },
    {
      "cell_type": "code",
      "source": [
        "var =8 # Global variable\n",
        "def fun():\n",
        "  var =20 #Local variable\n",
        "  var =var+10\n",
        "  print(var)\n",
        "\n",
        "def fun1():\n",
        "  print(var)\n",
        "fun()\n",
        "fun1()"
      ],
      "metadata": {
        "id": "QF6_kssCIGqy"
      },
      "execution_count": null,
      "outputs": []
    },
    {
      "cell_type": "code",
      "source": [
        "var =8 # Global variable\n",
        "def fun():\n",
        "  var =20 #Local variable\n",
        "  var =var+10\n",
        "  print(var)\n",
        "\n",
        "def fun1():\n",
        "  global var\n",
        "  var =var+10\n",
        "  print(var)\n",
        "fun()\n",
        "fun1()"
      ],
      "metadata": {
        "id": "4iG_f1qeNK3W"
      },
      "execution_count": null,
      "outputs": []
    },
    {
      "cell_type": "markdown",
      "source": [
        "# Inheritance\n",
        "* Three type of Inheritance\n",
        "1. Single Inheritance\n",
        "2. Multiple Inheritance\n",
        "3. Multi level Inheritance"
      ],
      "metadata": {
        "id": "BdVsSZ2wP50I"
      }
    },
    {
      "cell_type": "code",
      "source": [
        "class Father(): # Parent/Bass class\n",
        "  def fun(self):\n",
        "    print(\"A\")\n",
        "\n",
        "class Son(Father): # Child/Derived class\n",
        "  def fun1(self):\n",
        "    print(\"B\")\n",
        "\n",
        "son=Son()\n",
        "son.fun()\n",
        "son.fun1()\n",
        "\n"
      ],
      "metadata": {
        "id": "8D4iNNlgNKzy"
      },
      "execution_count": null,
      "outputs": []
    },
    {
      "cell_type": "markdown",
      "source": [
        "#Single Inheritance"
      ],
      "metadata": {
        "id": "HZOZiAeGRDM9"
      }
    },
    {
      "cell_type": "code",
      "source": [
        "class Animal :\n",
        "  def eat(self):\n",
        "    print(\"Eating\")\n",
        "\n",
        "class Dog(Animal):\n",
        "  def bark(self):\n",
        "    print(\"Barking\")\n",
        "\n",
        "dog=Dog()\n",
        "dog.eat()\n",
        "dog.bark()"
      ],
      "metadata": {
        "id": "0NaQXcxHNKw4"
      },
      "execution_count": null,
      "outputs": []
    },
    {
      "cell_type": "markdown",
      "source": [
        "# Multilevel Inheritance"
      ],
      "metadata": {
        "id": "LMekYP6eRzrw"
      }
    },
    {
      "cell_type": "code",
      "source": [
        "#multilevel Inheritance\n",
        "class A:\n",
        "  def fun(self):\n",
        "    print(\"A\")\n",
        "\n",
        "class B(A):\n",
        "  def fun1(self):\n",
        "    print(\"B\")\n",
        "\n",
        "class C(B):\n",
        "  def fun2(self):\n",
        "    print(\"C\")\n",
        "\n",
        "c=C()\n",
        "c.fun()\n",
        "c.fun1()\n",
        "c.fun2()\n"
      ],
      "metadata": {
        "id": "VJi6C3ryRzY2"
      },
      "execution_count": null,
      "outputs": []
    },
    {
      "cell_type": "markdown",
      "source": [
        "# Multiple Inheritance"
      ],
      "metadata": {
        "id": "1hM42Dn8ShVn"
      }
    },
    {
      "cell_type": "code",
      "source": [
        "#multiple Inheritence\n",
        "class A:\n",
        "  def fun(self):\n",
        "    print(\"A\")\n",
        "\n",
        "class B:\n",
        "  def fun1(self):\n",
        "    print(\"B\")\n",
        "\n",
        "class C(A,B):\n",
        "  def fun2(self):\n",
        "    print(\"C\")\n",
        "\n",
        "c=C()\n",
        "c.fun()\n",
        "c.fun1()\n",
        "c.fun2()"
      ],
      "metadata": {
        "id": "bNarMSA0RMT7"
      },
      "execution_count": null,
      "outputs": []
    },
    {
      "cell_type": "markdown",
      "source": [
        "# Polymorphism -> Mehod Overriding , Method Overloading\n",
        "\n",
        "* python don't have Method Overloading"
      ],
      "metadata": {
        "id": "iB2Tzx0FbdNa"
      }
    },
    {
      "cell_type": "markdown",
      "source": [
        "# Method Overridding"
      ],
      "metadata": {
        "id": "KCZwUUMvUNvB"
      }
    },
    {
      "cell_type": "code",
      "source": [
        "# Method Overriding  -> Same method but different properties\n",
        "class Animal:\n",
        "  def eat(self):\n",
        "    print(\"Eating\")\n",
        "\n",
        "class Dog(Animal):\n",
        "  def eat(self):\n",
        "    print(\"Barking\")\n",
        "\n",
        "class Cat(Animal):\n",
        "  def eat(self):\n",
        "    print(\"Meow\")\n",
        "\n",
        "obj1=Dog()\n",
        "obj1.eat()\n",
        "obj2=Cat()\n",
        "obj2.eat()"
      ],
      "metadata": {
        "id": "dFSQrcf-UNQi"
      },
      "execution_count": null,
      "outputs": []
    },
    {
      "cell_type": "markdown",
      "source": [
        "# Day 11\n"
      ],
      "metadata": {
        "id": "VeYrDkXubObR"
      }
    },
    {
      "cell_type": "code",
      "source": [
        "# Method Overloading  -> python take care about the latest version\n",
        "def sum(a,b):\n",
        "  return a+b\n",
        "\n",
        "def sum(a,b,c):\n",
        "  return a+b+c\n",
        "\n",
        "#sum(10,20)\n",
        "sum(10,20,30)"
      ],
      "metadata": {
        "id": "wWZeNqxZRMQX"
      },
      "execution_count": null,
      "outputs": []
    },
    {
      "cell_type": "markdown",
      "source": [
        "# Constuctor"
      ],
      "metadata": {
        "id": "CbCKZOw9eTIr"
      }
    },
    {
      "cell_type": "markdown",
      "source": [
        "**In Python, a constructor is a special method called __init__ that is automatically invoked when an instance of a class is created. The constructor is used to initialize the attributes of the class and to perform any setup or initial configuration required by the class.**"
      ],
      "metadata": {
        "id": "MmNWCZbIqOx2"
      }
    },
    {
      "cell_type": "code",
      "source": [
        "class Animal:\n",
        "  def speak(self,sound,animal):\n",
        "    print(f'The {animal} makes the sound {sound}')\n",
        "  def speak1(self,sound,animal):\n",
        "    print(f'The {animal} makes the sound {sound}')\n",
        "\n",
        "obj=Animal()\n",
        "obj.speak(\"Bark\",\"Dog\")\n",
        "obj1=Animal()\n",
        "obj1.speak1(\"Meow\",\"Cat\")\n"
      ],
      "metadata": {
        "id": "h7pLSP8feZJM"
      },
      "execution_count": null,
      "outputs": []
    },
    {
      "cell_type": "code",
      "source": [
        "# Constuctor\n",
        "class Animal:\n",
        "  def __init__(self,sound,animal):\n",
        "    self.sound=sound  #, Instance Variables\n",
        "    self.animal=animal\n",
        "    # body of the constructor\n",
        "\n",
        "  def speak(self):\n",
        "    print(f'The {self.animal} makes the sound {self.sound}')\n",
        "  def speak1(self):\n",
        "    print(f'The {self.animal} makes the sound {self.sound}')\n",
        "\n",
        "obj=Animal(\"Bark\",\"Dog\")\n",
        "obj.speak()\n",
        "obj1=Animal(\"Meow\",\"Cat\")\n",
        "\n",
        "obj1.speak1()\n"
      ],
      "metadata": {
        "id": "Unlv3aMZm3xA"
      },
      "execution_count": null,
      "outputs": []
    },
    {
      "cell_type": "code",
      "source": [
        "class Elec:\n",
        "  def __init__(self,voltage,current):\n",
        "    self.voltage=voltage\n",
        "    self.current=current\n",
        "    print(f\"Voltage is {self.voltage} and current is {self.current}\")\n",
        "\n",
        "  def __init__(self,speaker,microphone):\n",
        "      self.speaker=speaker\n",
        "      self.microphone=microphone\n",
        "      print(f\"Speaker is {self.speaker} and microphone is {self.microphone}\")\n",
        "\n",
        "elec=Elec(\"220V\",\"10A\")\n"
      ],
      "metadata": {
        "colab": {
          "base_uri": "https://localhost:8080/"
        },
        "id": "fpeNsAnueaLA",
        "outputId": "3a209b7d-a5b8-4c27-a873-a737575b10cd"
      },
      "execution_count": 22,
      "outputs": [
        {
          "output_type": "stream",
          "name": "stdout",
          "text": [
            "Speaker is 220V and microphone is 10A\n"
          ]
        }
      ]
    },
    {
      "cell_type": "code",
      "source": [
        "class xyz:\n",
        "  a=10\n",
        "  def __init__ (self):\n",
        "    print(self.a)\n",
        "obj=xyz()"
      ],
      "metadata": {
        "colab": {
          "base_uri": "https://localhost:8080/"
        },
        "id": "e3YuPQO-ovjR",
        "outputId": "1348c724-91ed-4cd8-cb42-645245a0da03"
      },
      "execution_count": 23,
      "outputs": [
        {
          "output_type": "stream",
          "name": "stdout",
          "text": [
            "10\n"
          ]
        }
      ]
    },
    {
      "cell_type": "code",
      "source": [
        "class Student:\n",
        "  a=4\n",
        "  def __init__(self,num):\n",
        "    self.num=num\n",
        "  def faul(self):\n",
        "    print(self.num*self.a)\n",
        "obj = Student(10)\n",
        "obj.faul()"
      ],
      "metadata": {
        "colab": {
          "base_uri": "https://localhost:8080/"
        },
        "id": "qNbDW3TAeaIo",
        "outputId": "d6693e8d-083e-4b2a-d376-34e15e1a3da2"
      },
      "execution_count": 24,
      "outputs": [
        {
          "output_type": "stream",
          "name": "stdout",
          "text": [
            "40\n"
          ]
        }
      ]
    },
    {
      "cell_type": "code",
      "source": [
        "obj.faul()"
      ],
      "metadata": {
        "colab": {
          "base_uri": "https://localhost:8080/"
        },
        "id": "GU6KlhDheaEz",
        "outputId": "bcbb03a6-53c8-4949-e48d-a04f3eb4c0fb"
      },
      "execution_count": 25,
      "outputs": [
        {
          "output_type": "stream",
          "name": "stdout",
          "text": [
            "40\n"
          ]
        }
      ]
    },
    {
      "cell_type": "markdown",
      "source": [
        "# Destructor"
      ],
      "metadata": {
        "id": "TJHdhJWwtN_G"
      }
    },
    {
      "cell_type": "markdown",
      "source": [
        "**In Python, a destructor is a special method called __del__ that is invoked when an object is about to be destroyed. This method is used to clean up resources, such as closing files or releasing network connections, before the object is removed from memory.**"
      ],
      "metadata": {
        "id": "-XGrIyiTtgwG"
      }
    },
    {
      "cell_type": "code",
      "source": [
        "class Animal:\n",
        "  a=10\n",
        "  def __init__(self):\n",
        "    print(\"Over here, the Constructor has initialized\")\n",
        "  def __del__(self):\n",
        "    print(\"Over here, the Destructor has initialized\")\n",
        "\n",
        "obj=Animal()"
      ],
      "metadata": {
        "colab": {
          "base_uri": "https://localhost:8080/"
        },
        "id": "4FIYY0ypeaAy",
        "outputId": "2495641c-5178-4a33-aba1-37371efedc2f"
      },
      "execution_count": 26,
      "outputs": [
        {
          "output_type": "stream",
          "name": "stdout",
          "text": [
            "Over here, the Constructor has initialized\n"
          ]
        }
      ]
    },
    {
      "cell_type": "code",
      "source": [
        "del obj"
      ],
      "metadata": {
        "colab": {
          "base_uri": "https://localhost:8080/"
        },
        "id": "jKWiZQbieZ9g",
        "outputId": "a9f320c2-4cae-49c9-dfd3-41cee0d6de14"
      },
      "execution_count": 27,
      "outputs": [
        {
          "output_type": "stream",
          "name": "stdout",
          "text": [
            "Over here, the Destructor has initialized\n"
          ]
        }
      ]
    },
    {
      "cell_type": "code",
      "source": [
        "obj"
      ],
      "metadata": {
        "colab": {
          "base_uri": "https://localhost:8080/",
          "height": 145
        },
        "id": "rOxTBWunvIMB",
        "outputId": "2c26b87a-59a2-4569-edc3-a6f9a5842e8b"
      },
      "execution_count": 28,
      "outputs": [
        {
          "output_type": "error",
          "ename": "NameError",
          "evalue": "name 'obj' is not defined",
          "traceback": [
            "\u001b[0;31m---------------------------------------------------------------------------\u001b[0m",
            "\u001b[0;31mNameError\u001b[0m                                 Traceback (most recent call last)",
            "\u001b[0;32m<ipython-input-28-c88944e91e53>\u001b[0m in \u001b[0;36m<cell line: 1>\u001b[0;34m()\u001b[0m\n\u001b[0;32m----> 1\u001b[0;31m \u001b[0mobj\u001b[0m\u001b[0;34m\u001b[0m\u001b[0;34m\u001b[0m\u001b[0m\n\u001b[0m",
            "\u001b[0;31mNameError\u001b[0m: name 'obj' is not defined"
          ]
        }
      ]
    },
    {
      "cell_type": "markdown",
      "source": [
        "# Abstraction & Encapsulation\n"
      ],
      "metadata": {
        "id": "ye415OYndtSq"
      }
    },
    {
      "cell_type": "code",
      "source": [
        "class Animal:\n",
        "  __a=10\n",
        "  def __init__(self):\n",
        "    print(\"Over here, the Constructor has initialized\")"
      ],
      "metadata": {
        "id": "ihy6RvkzRMNs"
      },
      "execution_count": null,
      "outputs": []
    },
    {
      "cell_type": "code",
      "source": [
        "obj = Animal()"
      ],
      "metadata": {
        "id": "JzilbBs9xIzn"
      },
      "execution_count": null,
      "outputs": []
    },
    {
      "cell_type": "code",
      "source": [
        "obj.a"
      ],
      "metadata": {
        "id": "4Pp2pszIxIvt"
      },
      "execution_count": null,
      "outputs": []
    },
    {
      "cell_type": "code",
      "source": [
        "obj.__a"
      ],
      "metadata": {
        "id": "vkKQrtSl0GeR"
      },
      "execution_count": null,
      "outputs": []
    },
    {
      "cell_type": "code",
      "source": [
        "obj._Animal__a"
      ],
      "metadata": {
        "id": "3qoFxo6l0a9f"
      },
      "execution_count": null,
      "outputs": []
    },
    {
      "cell_type": "markdown",
      "source": [
        "# File Handling / File I/O"
      ],
      "metadata": {
        "id": "DUYfAmpK7Ebe"
      }
    },
    {
      "cell_type": "code",
      "source": [
        "'''\n",
        "r -> Read a file\n",
        "w -> Write a file\n",
        "a -> Append a file\n",
        "x -> Create a file\n",
        "t -> Text a file\n",
        "b -> Binary a file\n",
        "'''"
      ],
      "metadata": {
        "id": "zHsyKFD7xIsy"
      },
      "execution_count": null,
      "outputs": []
    },
    {
      "cell_type": "code",
      "source": [
        "f=open(\"/filehandling.txt\",) # by default it takes r\n",
        "f"
      ],
      "metadata": {
        "id": "6wX_9q9SxInn"
      },
      "execution_count": null,
      "outputs": []
    },
    {
      "cell_type": "code",
      "source": [
        "f=open(\"/filehandling.txt\",) # by default it takes r\n",
        "f.read()"
      ],
      "metadata": {
        "id": "SsDJ8QdvxIlJ"
      },
      "execution_count": null,
      "outputs": []
    },
    {
      "cell_type": "code",
      "source": [
        "f = open(\"/filehandling.txt\", \"r\")\n",
        "print(f.read(5))"
      ],
      "metadata": {
        "id": "5z2E4S0hxIiF"
      },
      "execution_count": null,
      "outputs": []
    },
    {
      "cell_type": "code",
      "source": [
        "f = open(\"/filehandling.txt\", \"r\")\n",
        "print(f.readline())\n",
        "print(f.readline())"
      ],
      "metadata": {
        "id": "BRDzqq4E-_ue"
      },
      "execution_count": null,
      "outputs": []
    },
    {
      "cell_type": "code",
      "source": [
        "f=open(\"/filehandling.txt\", \"r\")\n",
        "print(f.readlines())"
      ],
      "metadata": {
        "id": "AwlRwTr-DNhb"
      },
      "execution_count": null,
      "outputs": []
    },
    {
      "cell_type": "code",
      "source": [
        "f = open(\"/filehandling.txt\", \"r\")\n",
        "content = f.read()\n",
        "for i in content:\n",
        "  print(i)\n"
      ],
      "metadata": {
        "id": "kB_7C3Nn_Kdn"
      },
      "execution_count": null,
      "outputs": []
    },
    {
      "cell_type": "code",
      "source": [
        "f.seek(20) # move the curser to the given position"
      ],
      "metadata": {
        "id": "9zrxbj5UAmlU"
      },
      "execution_count": null,
      "outputs": []
    },
    {
      "cell_type": "code",
      "source": [
        "f.tell() # current position of the curser"
      ],
      "metadata": {
        "id": "OO44hXqk_njZ"
      },
      "execution_count": null,
      "outputs": []
    },
    {
      "cell_type": "code",
      "source": [
        "f = open(\"/filehandling.txt\", \"r\")\n",
        "print(f.readline())\n",
        "f.close()"
      ],
      "metadata": {
        "id": "QKfZvI9m_ng5"
      },
      "execution_count": null,
      "outputs": []
    },
    {
      "cell_type": "code",
      "source": [
        "f = open(\"/file 2.txt\", \"a\")\n",
        "f.write(\"Now the file has more content!\")\n",
        "f.close()\n",
        "\n",
        "#open and read the file after the appending:\n",
        "f = open(\"/file 2.txt\", \"r\")\n",
        "print(f.read())"
      ],
      "metadata": {
        "id": "EKpNYToV_ncM"
      },
      "execution_count": null,
      "outputs": []
    },
    {
      "cell_type": "code",
      "source": [
        "# Open the file \"demofile3.txt\" and overwrite the content:\n",
        "\n",
        "f = open(\"/file 2.txt\", \"w\")\n",
        "f.write(\"Woops! I have deleted the content!\")\n",
        "f.close()\n",
        "\n",
        "#open and read the file after the overwriting:\n",
        "f = open(\"/file 2.txt\", \"r\")\n",
        "print(f.read())"
      ],
      "metadata": {
        "id": "gRJ73oW5_nZS"
      },
      "execution_count": null,
      "outputs": []
    },
    {
      "cell_type": "code",
      "source": [
        "f = open(\"myfile.txt\", \"w\")\n",
        "f.write(\"I love programming\")\n",
        "f.close()\n",
        "\n",
        "#open and read the file after the overwriting:\n",
        "f = open(\"myfile.txt\", \"r\")\n",
        "print(f.read())"
      ],
      "metadata": {
        "id": "HlVEp9VRC-a4"
      },
      "execution_count": null,
      "outputs": []
    },
    {
      "cell_type": "code",
      "source": [
        "import os\n",
        "os.remove(\"myfile.txt\")"
      ],
      "metadata": {
        "id": "u82LwyYvDdW7"
      },
      "execution_count": null,
      "outputs": []
    },
    {
      "cell_type": "code",
      "source": [],
      "metadata": {
        "id": "_1_N8bczEr-H"
      },
      "execution_count": null,
      "outputs": []
    },
    {
      "cell_type": "code",
      "source": [
        "# Module\n",
        "# Package\n",
        "# Library\n",
        "# Framework"
      ],
      "metadata": {
        "id": "Qg2FjVM5D2d4"
      },
      "execution_count": null,
      "outputs": []
    },
    {
      "cell_type": "code",
      "source": [
        "import math\n",
        "import random\n",
        "import datetime\n",
        "import time\n",
        "import pandas\n",
        "\n"
      ],
      "metadata": {
        "id": "ps3xSKjgEP4v"
      },
      "execution_count": null,
      "outputs": []
    },
    {
      "cell_type": "markdown",
      "source": [
        "# DATA BASE USING PYTHON"
      ],
      "metadata": {
        "id": "SnYiXTsbOh7O"
      }
    },
    {
      "cell_type": "code",
      "source": [
        "import sqlite3 as sq"
      ],
      "metadata": {
        "id": "E6xKq8ZOOhcs"
      },
      "execution_count": null,
      "outputs": []
    },
    {
      "cell_type": "markdown",
      "source": [
        "# Create a Database"
      ],
      "metadata": {
        "id": "FvXYyswhO1-F"
      }
    },
    {
      "cell_type": "code",
      "source": [
        "database = sq.connect(\"text.db\")\n",
        "print( \"Database created\")"
      ],
      "metadata": {
        "id": "xS3ZxeA1OhaD"
      },
      "execution_count": null,
      "outputs": []
    },
    {
      "cell_type": "markdown",
      "source": [
        "# Perform the Queries"
      ],
      "metadata": {
        "id": "veG300-oQDIU"
      }
    },
    {
      "cell_type": "code",
      "source": [
        "CREATE TABLE EMPLOYEE (\n",
        "    FIRST_NAME char(20) NOT NULL,\n",
        "    LAST_NAME char(20),\n",
        "    AGE int,\n",
        "    SEX char(1),\n",
        "    INCOME float\n",
        ");\n",
        "\n",
        "#database.execute\n"
      ],
      "metadata": {
        "id": "dKsgc75ROhXU"
      },
      "execution_count": null,
      "outputs": []
    },
    {
      "cell_type": "markdown",
      "source": [
        "# Create a table"
      ],
      "metadata": {
        "id": "jbFPI_pkQ8BR"
      }
    },
    {
      "cell_type": "code",
      "source": [
        "database.execute(\"CREATE TABLE EMPLOYEE (FIRST_NAME char(20) NOT NULL,LAST_NAME char(20),AGE int,SEX char(1),INCOME float)\")\n",
        "print(\"Table created\")"
      ],
      "metadata": {
        "id": "oARaQAMZOhUz"
      },
      "execution_count": null,
      "outputs": []
    },
    {
      "cell_type": "code",
      "source": [
        "database.execute(\"INSERT INTO EMPLOYEE(FIRST_NAME,LAST_NAME,AGE,SEX,INCOME) VALUES('John','Doe',32,'M',20000.00)\")\n",
        "database.execute(\"INSERT INTO EMPLOYEE(FIRST_NAME,LAST_NAME,AGE,SEX,INCOME) VALUES('Mary','Smith',25,'F',15000.00)\")\n",
        "database.execute(\"INSERT INTO EMPLOYEE(FIRST_NAME,LAST_NAME,AGE,SEX,INCOME) VALUES('John','Doe',32,'M',20000.00)\")\n",
        "print(\"Record inserted\")\n"
      ],
      "metadata": {
        "id": "TkvlY7NkOhRx"
      },
      "execution_count": null,
      "outputs": []
    },
    {
      "cell_type": "code",
      "source": [
        "database.execute(\"SELECT * FROM EMPLOYEE\")"
      ],
      "metadata": {
        "id": "e8gGS5SyOhOo"
      },
      "execution_count": null,
      "outputs": []
    },
    {
      "cell_type": "code",
      "source": [
        "data=database.execute(\"SELECT * FROM EMPLOYEE\")\n",
        "\n"
      ],
      "metadata": {
        "id": "EZkLmvt0R7P7"
      },
      "execution_count": null,
      "outputs": []
    },
    {
      "cell_type": "code",
      "source": [
        "for i in data:\n",
        "  print(i)"
      ],
      "metadata": {
        "id": "Qn69PxXLR7H7"
      },
      "execution_count": null,
      "outputs": []
    },
    {
      "cell_type": "markdown",
      "source": [
        "# Numpy\n",
        "\n",
        "\n",
        "1.   Numpy is the collection of Pacakages\n",
        "\n"
      ],
      "metadata": {
        "id": "llJi1_lw360u"
      }
    },
    {
      "cell_type": "code",
      "source": [
        "import numpy as np\n",
        "import time\n",
        "a=np.random.rand(1000000)\n",
        "print(a)"
      ],
      "metadata": {
        "id": "2FujAbtZ36eR"
      },
      "execution_count": null,
      "outputs": []
    },
    {
      "cell_type": "markdown",
      "source": [
        "Initializing the NumPy array"
      ],
      "metadata": {
        "id": "UCT7O3KZE3V8"
      }
    },
    {
      "cell_type": "code",
      "source": [
        "!pip install numpy\n",
        "import numpy as np\n",
        "arr= np.array([1,2,3,4,5])\n",
        "print(arr)"
      ],
      "metadata": {
        "id": "BdBHgXsl36NO"
      },
      "execution_count": null,
      "outputs": []
    },
    {
      "cell_type": "code",
      "source": [
        "#sytax\n",
        "np.array([])"
      ],
      "metadata": {
        "id": "co22nAaW36Kj"
      },
      "execution_count": null,
      "outputs": []
    },
    {
      "cell_type": "code",
      "source": [
        "# Zero Dimensional (0D)\n",
        "import numpy as np\n",
        "arr=np.array([4])\n",
        "arr"
      ],
      "metadata": {
        "id": "Z4gpLOUdFyB_"
      },
      "execution_count": null,
      "outputs": []
    },
    {
      "cell_type": "code",
      "source": [
        "# One Dimensional (1D)\n",
        "import numpy as np\n",
        "arr=np.array([1,2,3,4,5,6,7,])\n",
        "arr"
      ],
      "metadata": {
        "id": "AN3qS-ey36IC"
      },
      "execution_count": null,
      "outputs": []
    },
    {
      "cell_type": "code",
      "source": [
        "arr=np.array((1,2,3,4,5))"
      ],
      "metadata": {
        "id": "_gmOmA43H4m2"
      },
      "execution_count": null,
      "outputs": []
    },
    {
      "cell_type": "code",
      "source": [
        "import numpy as np\n",
        "\n",
        "# Creating a 2D array\n",
        "arr = np.array([[1, 2, 3, 4],\n",
        "                [5, 6, 7, 8],\n",
        "                 [9, 10, 11, 12]])\n",
        "\n",
        "# Printing the 2D array\n",
        "print(arr)\n"
      ],
      "metadata": {
        "id": "oUBCT_x2H4kQ"
      },
      "execution_count": null,
      "outputs": []
    },
    {
      "cell_type": "code",
      "source": [
        "import numpy as np\n",
        "\n",
        "# Creating a 3D array\n",
        "arr = np.array([[[1, 2, 3],\n",
        "                 [4, 5, 6],\n",
        "                 [7, 8, 9]],\n",
        "\n",
        "                [[10, 11, 12],\n",
        "                 [13, 14, 15],\n",
        "                 [16, 17, 18]]])\n",
        "\n",
        "# Printing the 3D array\n",
        "print(arr)\n"
      ],
      "metadata": {
        "id": "dMvZfR9SJGfU"
      },
      "execution_count": null,
      "outputs": []
    },
    {
      "cell_type": "markdown",
      "source": [
        "# Shape"
      ],
      "metadata": {
        "id": "uF4MbDW3J4FQ"
      }
    },
    {
      "cell_type": "code",
      "source": [
        "import numpy as np\n",
        "\n",
        "# Creating a 2D array\n",
        "arr = np.array([[1, 2, 3, 4], [5, 6, 7, 8], [9, 10, 11, 12]])\n",
        "arr.shape\n"
      ],
      "metadata": {
        "id": "r6on5EYBH4hr"
      },
      "execution_count": null,
      "outputs": []
    },
    {
      "cell_type": "markdown",
      "source": [
        "# Size"
      ],
      "metadata": {
        "id": "WLkHSlGKJ1Zk"
      }
    },
    {
      "cell_type": "code",
      "source": [
        "import numpy as np\n",
        "\n",
        "# Creating a 2D array\n",
        "arr = np.array([[1, 2, 3, 4], [5, 6, 7, 8], [9, 10, 11, 12]])\n",
        "np.size(arr)\n",
        "# arr.size"
      ],
      "metadata": {
        "id": "u9QzAWodH4e0"
      },
      "execution_count": null,
      "outputs": []
    },
    {
      "cell_type": "code",
      "source": [
        "import numpy as np\n",
        "\n",
        "# Creating a 2D array\n",
        "arr = np.array([[1, 2, 3, 4], [5, 6, 7, 8], [9, 10, 11, 12]])\n",
        "np.size(arr,0) # columns\n",
        "np.size(arr,1) # row\n"
      ],
      "metadata": {
        "id": "b_gAg8YMQJ89"
      },
      "execution_count": null,
      "outputs": []
    },
    {
      "cell_type": "markdown",
      "source": [
        "# ndim"
      ],
      "metadata": {
        "id": "IIhyH8akJ7nA"
      }
    },
    {
      "cell_type": "code",
      "source": [
        "import numpy as np\n",
        "\n",
        "# Creating a 2D array\n",
        "arr = np.array([[1, 2, 3, 4], [5, 6, 7, 8], [9, 10, 11, 12]])\n",
        "arr.ndim"
      ],
      "metadata": {
        "id": "bee25SOwH4a7"
      },
      "execution_count": null,
      "outputs": []
    },
    {
      "cell_type": "markdown",
      "source": [
        "# dtype"
      ],
      "metadata": {
        "id": "PG9IwRE8J_Ho"
      }
    },
    {
      "cell_type": "code",
      "source": [
        "import numpy as np\n",
        "\n",
        "# Creating a 2D array\n",
        "arr = np.array([[1, 2, 3, 4], [5, 6, 7, 8], [9, 10, 11, 12]])\n",
        "arr.dtype"
      ],
      "metadata": {
        "id": "dO4-bc7SH4YM"
      },
      "execution_count": null,
      "outputs": []
    },
    {
      "cell_type": "code",
      "source": [
        "import numpy as np\n",
        "\n",
        "# Creating a 2D array\n",
        "arr = np.array([[1, 2, 3, 4], [5, 6, 7, 8], [9, 10, 11, 12]])\n",
        "arr.itemsize"
      ],
      "metadata": {
        "id": "4D7HOTHEH4Vo"
      },
      "execution_count": null,
      "outputs": []
    },
    {
      "cell_type": "markdown",
      "source": [
        "# CRUD Operation"
      ],
      "metadata": {
        "id": "_MMy0pzkkHzv"
      }
    },
    {
      "cell_type": "code",
      "source": [
        "import numpy as np\n"
      ],
      "metadata": {
        "id": "UWeEPFj7H4Sl"
      },
      "execution_count": null,
      "outputs": []
    },
    {
      "cell_type": "markdown",
      "source": [
        "# C -> Create"
      ],
      "metadata": {
        "id": "unYD43tfldGO"
      }
    },
    {
      "cell_type": "code",
      "source": [
        "arr =np.array([[1,2,3,4],[5,6,7,8]])\n",
        "arr"
      ],
      "metadata": {
        "id": "-NYayk7HH4O7"
      },
      "execution_count": null,
      "outputs": []
    },
    {
      "cell_type": "code",
      "source": [
        "arr.ndim"
      ],
      "metadata": {
        "id": "9WUdQbu1kHMZ"
      },
      "execution_count": null,
      "outputs": []
    },
    {
      "cell_type": "code",
      "source": [
        "# np.zeros()\n",
        "arr=np.zeros((3,4))\n",
        "arr"
      ],
      "metadata": {
        "id": "tYdv3kzrkHJo"
      },
      "execution_count": null,
      "outputs": []
    },
    {
      "cell_type": "code",
      "source": [
        "# np.zeros()\n",
        "arr=np.zeros([10,10])\n",
        "arr"
      ],
      "metadata": {
        "id": "qI_RQAG9l6Ui"
      },
      "execution_count": null,
      "outputs": []
    },
    {
      "cell_type": "code",
      "source": [
        "# np.zeros()\n",
        "arr=np.zeros(10)\n",
        "arr"
      ],
      "metadata": {
        "id": "SZ5gbtt1kHGZ"
      },
      "execution_count": null,
      "outputs": []
    },
    {
      "cell_type": "code",
      "source": [
        "# np.ones()\n",
        "arr=np.ones((3,4))\n",
        "arr"
      ],
      "metadata": {
        "id": "Ltrf7BxQkHDr"
      },
      "execution_count": null,
      "outputs": []
    },
    {
      "cell_type": "code",
      "source": [
        "arr=np.ones([10,10])\n",
        "arr"
      ],
      "metadata": {
        "id": "K3h1qrJukG_f"
      },
      "execution_count": null,
      "outputs": []
    },
    {
      "cell_type": "code",
      "source": [
        "# np.empty\n",
        "import numpy as np\n",
        "a= np.empty((3,4))\n",
        "print(a)"
      ],
      "metadata": {
        "id": "DWPLyKVokG81"
      },
      "execution_count": null,
      "outputs": []
    },
    {
      "cell_type": "code",
      "source": [
        "# np.empty\n",
        "arr=np.empty([10,10])\n",
        "arr"
      ],
      "metadata": {
        "id": "PsXJW29ZkG5k"
      },
      "execution_count": null,
      "outputs": []
    },
    {
      "cell_type": "code",
      "source": [
        "# np.arange\n",
        "import numpy as np\n",
        "arr=np.arange(10)\n",
        "arr"
      ],
      "metadata": {
        "id": "0cjNXex6kG13"
      },
      "execution_count": null,
      "outputs": []
    },
    {
      "cell_type": "code",
      "source": [
        "# np.full()\n",
        "arr=np.full((3,4),5)\n",
        "arr"
      ],
      "metadata": {
        "id": "hGvhHreLkGx1"
      },
      "execution_count": null,
      "outputs": []
    },
    {
      "cell_type": "code",
      "source": [
        "# np.eye() -> Indentity matrix\n",
        "arr=np.eye(5)\n",
        "arr\n"
      ],
      "metadata": {
        "id": "CfSFkvTeoOHr"
      },
      "execution_count": null,
      "outputs": []
    },
    {
      "cell_type": "code",
      "source": [
        "arr=np.eye(15)\n",
        "arr"
      ],
      "metadata": {
        "id": "rpe2tNlmoOEy"
      },
      "execution_count": null,
      "outputs": []
    },
    {
      "cell_type": "code",
      "source": [
        " # np.diag()\n",
        " arr=np.diag([1,2,3,4,5])\n",
        " arr"
      ],
      "metadata": {
        "id": "BTwJB6K3oOB4"
      },
      "execution_count": null,
      "outputs": []
    },
    {
      "cell_type": "code",
      "source": [
        "# np.linspace -> start , end , size\n",
        "arr=np.linspace(1,5,10)\n",
        "arr"
      ],
      "metadata": {
        "id": "XxlxN3YAoN-v"
      },
      "execution_count": null,
      "outputs": []
    },
    {
      "cell_type": "code",
      "source": [
        "# np.random\n",
        "arr=np.random.rand(5)\n",
        "arr"
      ],
      "metadata": {
        "id": "lGchN4g-oN6a"
      },
      "execution_count": null,
      "outputs": []
    },
    {
      "cell_type": "markdown",
      "source": [
        "# U -> Update"
      ],
      "metadata": {
        "id": "fx4C620NqJLw"
      }
    },
    {
      "cell_type": "code",
      "source": [
        "arr1 = np.array([1,2,3,4,5])\n",
        "arr2 = np.array([[1,2,3,4],[5,6,7,8]])\n",
        "arr3 = np.array([[[1,2,3,4],[5,6,7,8],[9,10,11,12]]])\n",
        "\n",
        "arr2"
      ],
      "metadata": {
        "id": "uYV9IhxmoN26"
      },
      "execution_count": null,
      "outputs": []
    },
    {
      "cell_type": "code",
      "source": [
        "arr1"
      ],
      "metadata": {
        "id": "wXn0-VajqpEp"
      },
      "execution_count": null,
      "outputs": []
    },
    {
      "cell_type": "code",
      "source": [
        "# Indexing\n",
        "arr2[0,0]"
      ],
      "metadata": {
        "id": "WyM6tyx5px1A"
      },
      "execution_count": null,
      "outputs": []
    },
    {
      "cell_type": "code",
      "source": [
        "arr1[0]"
      ],
      "metadata": {
        "id": "1RKAW8rKpxyB"
      },
      "execution_count": null,
      "outputs": []
    },
    {
      "cell_type": "code",
      "source": [
        "arr2[0]"
      ],
      "metadata": {
        "id": "zaquH0Ihpxuv"
      },
      "execution_count": null,
      "outputs": []
    },
    {
      "cell_type": "code",
      "source": [
        "arr2[0,3]"
      ],
      "metadata": {
        "id": "sJt7lsd0pxr3"
      },
      "execution_count": null,
      "outputs": []
    },
    {
      "cell_type": "code",
      "source": [
        "arr3"
      ],
      "metadata": {
        "id": "7KAxV787pxo2"
      },
      "execution_count": null,
      "outputs": []
    },
    {
      "cell_type": "code",
      "source": [
        "# Slicing\n",
        "arr2\n"
      ],
      "metadata": {
        "id": "ErOpAYanpxlY"
      },
      "execution_count": null,
      "outputs": []
    },
    {
      "cell_type": "code",
      "source": [
        "arr2[0:2]"
      ],
      "metadata": {
        "id": "FUilrlTYpxg3"
      },
      "execution_count": null,
      "outputs": []
    },
    {
      "cell_type": "code",
      "source": [
        "arr2[1:2]"
      ],
      "metadata": {
        "id": "rDqRG1CiwIyN"
      },
      "execution_count": null,
      "outputs": []
    },
    {
      "cell_type": "code",
      "source": [
        "arr2[0:2,0:2]"
      ],
      "metadata": {
        "id": "toAOHRNyoNy0"
      },
      "execution_count": null,
      "outputs": []
    },
    {
      "cell_type": "code",
      "source": [
        "arr3"
      ],
      "metadata": {
        "id": "xzAHDQjIwSe0"
      },
      "execution_count": null,
      "outputs": []
    },
    {
      "cell_type": "code",
      "source": [
        "arr3[0:1]"
      ],
      "metadata": {
        "id": "yPmJXvGBwScH"
      },
      "execution_count": null,
      "outputs": []
    },
    {
      "cell_type": "code",
      "source": [
        "arr3[0,1]"
      ],
      "metadata": {
        "id": "TXDQ5fgywSXn"
      },
      "execution_count": null,
      "outputs": []
    },
    {
      "cell_type": "code",
      "source": [
        "arr3[0,1,1]"
      ],
      "metadata": {
        "id": "EA86QgT1wSUS"
      },
      "execution_count": null,
      "outputs": []
    },
    {
      "cell_type": "code",
      "source": [
        "arr=np.linspace(1,5,10)\n",
        "arr"
      ],
      "metadata": {
        "id": "dXD45Nb2wSQW"
      },
      "execution_count": null,
      "outputs": []
    },
    {
      "cell_type": "code",
      "source": [
        "# np.repace\n",
        "arr.reshape(10,1)\n",
        "arr\n"
      ],
      "metadata": {
        "id": "JM2mAPNzzBub"
      },
      "execution_count": null,
      "outputs": []
    },
    {
      "cell_type": "code",
      "source": [
        "# Create a 7*9 matrix where all the elements are random\n",
        "arr = np.random.rand(63).reshape(7,9)\n",
        "arr"
      ],
      "metadata": {
        "id": "CXw6jcDA1lTt"
      },
      "execution_count": null,
      "outputs": []
    },
    {
      "cell_type": "code",
      "source": [
        "arr2"
      ],
      "metadata": {
        "id": "uUJmZP43zBru"
      },
      "execution_count": null,
      "outputs": []
    },
    {
      "cell_type": "code",
      "source": [
        "arr2d=np.array([1,2,3,4,5,6,7,8])\n",
        "arr2d"
      ],
      "metadata": {
        "id": "m5jifWCyzBo3"
      },
      "execution_count": null,
      "outputs": []
    },
    {
      "cell_type": "code",
      "source": [
        "# arr2.extend (arr2d)\n",
        "# arr2.append(arr2d)\n",
        "a=np.append(arr2,arr2d)\n",
        "a\n"
      ],
      "metadata": {
        "id": "dN-AAKuszBmJ"
      },
      "execution_count": null,
      "outputs": []
    },
    {
      "cell_type": "markdown",
      "source": [
        "# Mathematical Functions and Statistics"
      ],
      "metadata": {
        "id": "qXQDNZlf24D-"
      }
    },
    {
      "cell_type": "code",
      "source": [
        "import numpy as np\n",
        "arr=np.array([[1,2,3,4,5],[6,7,8,9,10]])\n",
        "arr1=np.array([[10,9,8,7,6],[5,4,3,2,1]])"
      ],
      "metadata": {
        "id": "3qOPOVHKzBgL"
      },
      "execution_count": null,
      "outputs": []
    },
    {
      "cell_type": "code",
      "source": [
        "arr"
      ],
      "metadata": {
        "id": "Lt2vAYe3zBaN"
      },
      "execution_count": null,
      "outputs": []
    },
    {
      "cell_type": "code",
      "source": [
        "arr1"
      ],
      "metadata": {
        "id": "9nBrSxSKzBWj"
      },
      "execution_count": null,
      "outputs": []
    },
    {
      "cell_type": "markdown",
      "source": [
        "\n",
        "\n",
        "*   Addition -> Add two matrices or add an element to a matrix\n",
        "\n",
        "\n"
      ],
      "metadata": {
        "id": "hrXyde-s4BF6"
      }
    },
    {
      "cell_type": "code",
      "source": [
        "arr+arr1"
      ],
      "metadata": {
        "id": "pVl72-Sc3ztB"
      },
      "execution_count": null,
      "outputs": []
    },
    {
      "cell_type": "code",
      "source": [
        "arr+20"
      ],
      "metadata": {
        "id": "jksjygUS3zpm"
      },
      "execution_count": null,
      "outputs": []
    },
    {
      "cell_type": "code",
      "source": [
        "arr2=np.array([1,2])"
      ],
      "metadata": {
        "id": "jwzxxy-P3znQ"
      },
      "execution_count": null,
      "outputs": []
    },
    {
      "cell_type": "code",
      "source": [
        "arr1+arr2\n",
        "# Error"
      ],
      "metadata": {
        "id": "iVEswFau3zk3"
      },
      "execution_count": null,
      "outputs": []
    },
    {
      "cell_type": "code",
      "source": [
        "arr3=np.array([1,2,3,4,5])\n",
        "arr3"
      ],
      "metadata": {
        "id": "LyAUNvRN3ziX"
      },
      "execution_count": null,
      "outputs": []
    },
    {
      "cell_type": "code",
      "source": [
        "arr1+arr3"
      ],
      "metadata": {
        "id": "cajiuM6y3zek"
      },
      "execution_count": null,
      "outputs": []
    },
    {
      "cell_type": "code",
      "source": [
        "arr1\n"
      ],
      "metadata": {
        "id": "Pnr3G6gg4z_Q"
      },
      "execution_count": null,
      "outputs": []
    },
    {
      "cell_type": "markdown",
      "source": [
        "# Subtraction"
      ],
      "metadata": {
        "id": "eIDauPgI7IKQ"
      }
    },
    {
      "cell_type": "code",
      "source": [
        "arr1\n"
      ],
      "metadata": {
        "id": "bGVyxaTy4z7w"
      },
      "execution_count": null,
      "outputs": []
    },
    {
      "cell_type": "code",
      "source": [
        "arr2"
      ],
      "metadata": {
        "id": "8vou3jA_4z4-"
      },
      "execution_count": null,
      "outputs": []
    },
    {
      "cell_type": "code",
      "source": [
        "arr1-arr3"
      ],
      "metadata": {
        "id": "FL6Snlx9503H"
      },
      "execution_count": null,
      "outputs": []
    },
    {
      "cell_type": "code",
      "source": [
        "arr1-100"
      ],
      "metadata": {
        "id": "rkb4qKgq50zk"
      },
      "execution_count": null,
      "outputs": []
    },
    {
      "cell_type": "markdown",
      "source": [
        "# Division"
      ],
      "metadata": {
        "id": "WcePR_rO7mTK"
      }
    },
    {
      "cell_type": "code",
      "source": [
        "arr1 / arr3"
      ],
      "metadata": {
        "id": "GvYkQK3H50xI"
      },
      "execution_count": null,
      "outputs": []
    },
    {
      "cell_type": "code",
      "source": [
        "arr1/arr1"
      ],
      "metadata": {
        "id": "XX3xCbwQ50uj"
      },
      "execution_count": null,
      "outputs": []
    },
    {
      "cell_type": "code",
      "source": [
        "arr1/4"
      ],
      "metadata": {
        "id": "-aHYQLaV6WSl"
      },
      "execution_count": null,
      "outputs": []
    },
    {
      "cell_type": "markdown",
      "source": [
        "# Exponential"
      ],
      "metadata": {
        "id": "CkG9CYOR61Vs"
      }
    },
    {
      "cell_type": "code",
      "source": [
        "arr"
      ],
      "metadata": {
        "id": "Sa_BUoUY6WPN"
      },
      "execution_count": null,
      "outputs": []
    },
    {
      "cell_type": "code",
      "source": [
        "arr1"
      ],
      "metadata": {
        "id": "o9Iq3vUv6WMU"
      },
      "execution_count": null,
      "outputs": []
    },
    {
      "cell_type": "code",
      "source": [
        "arr ** arr1"
      ],
      "metadata": {
        "id": "DBWTNyor6WJw"
      },
      "execution_count": null,
      "outputs": []
    },
    {
      "cell_type": "code",
      "source": [
        "arr**2"
      ],
      "metadata": {
        "id": "FbKCKfEB6WHE"
      },
      "execution_count": null,
      "outputs": []
    },
    {
      "cell_type": "markdown",
      "source": [
        "# Multiplication"
      ],
      "metadata": {
        "id": "1ZL-qh-I7PsQ"
      }
    },
    {
      "cell_type": "code",
      "source": [
        "arr1"
      ],
      "metadata": {
        "id": "z-X2YysP6WEb"
      },
      "execution_count": null,
      "outputs": []
    },
    {
      "cell_type": "code",
      "source": [
        "arr"
      ],
      "metadata": {
        "id": "wlX-9_1u6WBf"
      },
      "execution_count": null,
      "outputs": []
    },
    {
      "cell_type": "code",
      "source": [
        "# Cross Product\n",
        "arr * arr1"
      ],
      "metadata": {
        "id": "RH3q0pJa7PUU"
      },
      "execution_count": null,
      "outputs": []
    },
    {
      "cell_type": "code",
      "source": [
        "# Dot product\n",
        "arr\n",
        "# 2 X 5"
      ],
      "metadata": {
        "id": "TaAZ2HA57PQ7"
      },
      "execution_count": null,
      "outputs": []
    },
    {
      "cell_type": "code",
      "source": [
        "arr1\n",
        "# 2 X 5"
      ],
      "metadata": {
        "id": "y3gaRJOM7POa"
      },
      "execution_count": null,
      "outputs": []
    },
    {
      "cell_type": "code",
      "source": [
        "arr.dot(arr1)"
      ],
      "metadata": {
        "id": "YLYH5mBY8BgN"
      },
      "execution_count": null,
      "outputs": []
    },
    {
      "cell_type": "code",
      "source": [
        "arr4=np.array([[1,2],[3,4],[5,6],[7,8],[9,10]])\n",
        "arr4"
      ],
      "metadata": {
        "id": "IssPHJHA8GJT"
      },
      "execution_count": null,
      "outputs": []
    },
    {
      "cell_type": "code",
      "source": [
        "np.dot(arr,arr4)"
      ],
      "metadata": {
        "id": "wsBCYYya9v5U"
      },
      "execution_count": null,
      "outputs": []
    },
    {
      "cell_type": "code",
      "source": [
        "arr4.shape"
      ],
      "metadata": {
        "id": "JnAZ4ss59IBw"
      },
      "execution_count": null,
      "outputs": []
    },
    {
      "cell_type": "code",
      "source": [
        "# np.matmul(arr,arr4)\n",
        "np.matmul(arr,arr4)\n"
      ],
      "metadata": {
        "id": "DB6n1u8z9mfA"
      },
      "execution_count": null,
      "outputs": []
    },
    {
      "cell_type": "markdown",
      "source": [
        "# Determinant"
      ],
      "metadata": {
        "id": "MwEZixrk95SD"
      }
    },
    {
      "cell_type": "code",
      "source": [
        "# Square matrix -> No of rows and No of columns should be same\n",
        "detarray = np.array([[1,2],[3,4]])\n",
        "detarray"
      ],
      "metadata": {
        "id": "wsKAREWW9mbg"
      },
      "execution_count": null,
      "outputs": []
    },
    {
      "cell_type": "code",
      "source": [
        "[a     (-)b       c]\n",
        "[(-)d    e     (-)f]\n",
        "[g     (-)h       i]"
      ],
      "metadata": {
        "id": "9iVm0ljh94Ry"
      },
      "execution_count": null,
      "outputs": []
    },
    {
      "cell_type": "code",
      "source": [
        "# np.linalg .det(arr)\n",
        "np.linalg.det(detarray)\n"
      ],
      "metadata": {
        "id": "C2Tyd0-P94O2"
      },
      "execution_count": null,
      "outputs": []
    },
    {
      "cell_type": "code",
      "source": [
        "detarray = np.array([[1,2,3],[3,4,5],[4,8,1]])\n",
        "detarray"
      ],
      "metadata": {
        "id": "-JbBDZGU94L8"
      },
      "execution_count": null,
      "outputs": []
    },
    {
      "cell_type": "code",
      "source": [
        "np.linalg.det(detarray)"
      ],
      "metadata": {
        "id": "77nJAtjAAacH"
      },
      "execution_count": null,
      "outputs": []
    },
    {
      "cell_type": "markdown",
      "source": [
        "# Inverse  of a matrix"
      ],
      "metadata": {
        "id": "Nii11qYwBHed"
      }
    },
    {
      "cell_type": "code",
      "source": [
        "arrayinv = np.array([[1,2],[3,4]])\n",
        "arrayinv"
      ],
      "metadata": {
        "id": "OvJ992mXA4q4"
      },
      "execution_count": null,
      "outputs": []
    },
    {
      "cell_type": "code",
      "source": [
        "# Inverse = 1/det(mat) * adj.mat\n",
        "# adj.matrix = Transpose(co-factor of the matrix (a))\n",
        "\n",
        "deter =np.linalg.det(arrayinv)\n",
        "deter"
      ],
      "metadata": {
        "id": "MlbihavEC1wY"
      },
      "execution_count": null,
      "outputs": []
    },
    {
      "cell_type": "code",
      "source": [
        "newdet = 1/deter\n",
        "newdet\n"
      ],
      "metadata": {
        "id": "YxmSVkHMDGfL"
      },
      "execution_count": null,
      "outputs": []
    },
    {
      "cell_type": "code",
      "source": [
        "# Inverse of matrix\n",
        "np.linalg.inv(arrayinv)\n"
      ],
      "metadata": {
        "id": "5KX3VkAGDMj1"
      },
      "execution_count": null,
      "outputs": []
    },
    {
      "cell_type": "code",
      "source": [
        "arrayinv\n"
      ],
      "metadata": {
        "id": "_K1oI5tIA4jh"
      },
      "execution_count": null,
      "outputs": []
    },
    {
      "cell_type": "code",
      "source": [
        "# Transpose\n",
        "np.transpose(arrayinv)"
      ],
      "metadata": {
        "id": "vJaFpGreA4cP"
      },
      "execution_count": null,
      "outputs": []
    },
    {
      "cell_type": "markdown",
      "source": [
        "# Reciprocal"
      ],
      "metadata": {
        "id": "OdN-vvH3Hzkx"
      }
    },
    {
      "cell_type": "code",
      "source": [
        "arrecip=np.array([[1,2,3,4,5],[3,4,5,6,7]])\n",
        "arrecip"
      ],
      "metadata": {
        "id": "sHjGks9wGwmF"
      },
      "execution_count": null,
      "outputs": []
    },
    {
      "cell_type": "code",
      "source": [
        "np.reciprocal(arrecip)"
      ],
      "metadata": {
        "id": "PJpfuKulGwh-"
      },
      "execution_count": null,
      "outputs": []
    },
    {
      "cell_type": "code",
      "source": [
        "arreci=np.array([[10.2,30.4],[3.4,5.7]])\n",
        "arreci"
      ],
      "metadata": {
        "id": "xYYDsBswGwdN"
      },
      "execution_count": null,
      "outputs": []
    },
    {
      "cell_type": "code",
      "source": [
        "np.reciprocal(arreci)"
      ],
      "metadata": {
        "id": "r4Petf98GwZN"
      },
      "execution_count": null,
      "outputs": []
    },
    {
      "cell_type": "markdown",
      "source": [
        "# Statistics"
      ],
      "metadata": {
        "id": "bYdT4BfuIsWG"
      }
    },
    {
      "cell_type": "code",
      "source": [
        "stastarr = np.array([[1,2,3,4,5],[3,4,5,6,7],[8,9,10,11,12]])\n",
        "stastarr"
      ],
      "metadata": {
        "id": "DrtjOvTxGwUg"
      },
      "execution_count": null,
      "outputs": []
    },
    {
      "cell_type": "markdown",
      "source": [
        "* max"
      ],
      "metadata": {
        "id": "OvodNWdKKlhS"
      }
    },
    {
      "cell_type": "code",
      "source": [
        "np.max(stastarr)"
      ],
      "metadata": {
        "id": "t5LyEvamJAt2"
      },
      "execution_count": null,
      "outputs": []
    },
    {
      "cell_type": "code",
      "source": [
        "#axis = 0 -> columns\n",
        "#axis =1 -> Row"
      ],
      "metadata": {
        "id": "Zu6dG401JAqr"
      },
      "execution_count": null,
      "outputs": []
    },
    {
      "cell_type": "code",
      "source": [
        "np.max(stastarr,axis=0)\n",
        "# largest num in each column"
      ],
      "metadata": {
        "id": "K-Cfgw2cJAnV"
      },
      "execution_count": null,
      "outputs": []
    },
    {
      "cell_type": "code",
      "source": [
        "np.max(stastarr,axis=1)\n",
        "# largest num in each row"
      ],
      "metadata": {
        "id": "SSoneDhFJ7Vy"
      },
      "execution_count": null,
      "outputs": []
    },
    {
      "cell_type": "markdown",
      "source": [
        "* min"
      ],
      "metadata": {
        "id": "OeFvNYRIKo7h"
      }
    },
    {
      "cell_type": "code",
      "source": [
        "np.min(stastarr)"
      ],
      "metadata": {
        "id": "1va7gKGSKFJT"
      },
      "execution_count": null,
      "outputs": []
    },
    {
      "cell_type": "code",
      "source": [
        "np.mean(stastarr)"
      ],
      "metadata": {
        "id": "huk4sODNJAiP"
      },
      "execution_count": null,
      "outputs": []
    },
    {
      "cell_type": "markdown",
      "source": [
        "* sum"
      ],
      "metadata": {
        "id": "Jnse0DpGKrRp"
      }
    },
    {
      "cell_type": "code",
      "source": [
        "np.sum(stastarr)"
      ],
      "metadata": {
        "id": "7SfHeSjZJAed"
      },
      "execution_count": null,
      "outputs": []
    },
    {
      "cell_type": "code",
      "source": [
        "np.sum(stastarr,axis=0)"
      ],
      "metadata": {
        "id": "Zbn6MZ-NKtWx"
      },
      "execution_count": null,
      "outputs": []
    },
    {
      "cell_type": "markdown",
      "source": [
        "* median\n"
      ],
      "metadata": {
        "id": "FSeolrJFK2vX"
      }
    },
    {
      "cell_type": "code",
      "source": [
        "np.median(stastarr)"
      ],
      "metadata": {
        "id": "Bt8hXUhBJAaV"
      },
      "execution_count": null,
      "outputs": []
    },
    {
      "cell_type": "markdown",
      "source": [
        "* argmax()"
      ],
      "metadata": {
        "id": "4N6qlSOoK_7Z"
      }
    },
    {
      "cell_type": "code",
      "source": [
        "stastarr"
      ],
      "metadata": {
        "id": "p55TAYs2LHCD"
      },
      "execution_count": null,
      "outputs": []
    },
    {
      "cell_type": "code",
      "source": [
        "np.argmax(stastarr)\n",
        "# returns the index of max element"
      ],
      "metadata": {
        "id": "Pwzxy3oTJAVa"
      },
      "execution_count": null,
      "outputs": []
    },
    {
      "cell_type": "code",
      "source": [
        "np.argmax(stastarr,axis=0)"
      ],
      "metadata": {
        "id": "-1_tas7PK6fz"
      },
      "execution_count": null,
      "outputs": []
    },
    {
      "cell_type": "markdown",
      "source": [
        "* around()"
      ],
      "metadata": {
        "id": "O6Za4Fa7MGqx"
      }
    },
    {
      "cell_type": "code",
      "source": [
        "arr=np.array([3.56,0.98])"
      ],
      "metadata": {
        "id": "3p25bn_wK6b-"
      },
      "execution_count": null,
      "outputs": []
    },
    {
      "cell_type": "code",
      "source": [
        "np.around(arr)"
      ],
      "metadata": {
        "id": "1yf4UUnDK6Ym"
      },
      "execution_count": null,
      "outputs": []
    },
    {
      "cell_type": "code",
      "source": [
        "arr=np.array([3.5,0.98])\n",
        "np.around(arr,decimals=1)\n"
      ],
      "metadata": {
        "id": "mJ66hA8rK6Ux"
      },
      "execution_count": null,
      "outputs": []
    },
    {
      "cell_type": "markdown",
      "source": [
        "* floor & ceil"
      ],
      "metadata": {
        "id": "1iN0T4bLNKTz"
      }
    },
    {
      "cell_type": "code",
      "source": [
        "a= np.array([3.56,0.98])\n",
        "np.floor(a)"
      ],
      "metadata": {
        "id": "se66i8a8K6QZ"
      },
      "execution_count": null,
      "outputs": []
    },
    {
      "cell_type": "code",
      "source": [
        "a= np.array([3.56,0.98])\n",
        "np.ceil(a)"
      ],
      "metadata": {
        "id": "hotV0iN_K6LR"
      },
      "execution_count": null,
      "outputs": []
    },
    {
      "cell_type": "markdown",
      "source": [
        "* Copy & View"
      ],
      "metadata": {
        "id": "5k-FpmNPO1ky"
      }
    },
    {
      "cell_type": "code",
      "source": [
        "arr"
      ],
      "metadata": {
        "id": "-BnkqPHoOiC4"
      },
      "execution_count": null,
      "outputs": []
    },
    {
      "cell_type": "code",
      "source": [
        "x = arr.copy()\n",
        "x"
      ],
      "metadata": {
        "id": "JkK0nuw-Ohlq"
      },
      "execution_count": null,
      "outputs": []
    },
    {
      "cell_type": "code",
      "source": [
        "x[0]=10\n",
        "x"
      ],
      "metadata": {
        "id": "GXEGS8vhOhh0"
      },
      "execution_count": null,
      "outputs": []
    },
    {
      "cell_type": "code",
      "source": [
        "arr"
      ],
      "metadata": {
        "id": "gjPw6F2GOhd-"
      },
      "execution_count": null,
      "outputs": []
    },
    {
      "cell_type": "code",
      "source": [
        "y = arr.view()\n",
        "y"
      ],
      "metadata": {
        "id": "JSmN510hOhYI"
      },
      "execution_count": null,
      "outputs": []
    },
    {
      "cell_type": "markdown",
      "source": [
        "* Iteration"
      ],
      "metadata": {
        "id": "ho6aGkfhP3hQ"
      }
    },
    {
      "cell_type": "code",
      "source": [
        "for x in arr:\n",
        "  print(x)"
      ],
      "metadata": {
        "id": "DW_DVt2YOhTw"
      },
      "execution_count": null,
      "outputs": []
    },
    {
      "cell_type": "code",
      "source": [
        "for i in arr1:\n",
        "  print(i)"
      ],
      "metadata": {
        "id": "7B3OmwFFOhPU"
      },
      "execution_count": null,
      "outputs": []
    },
    {
      "cell_type": "markdown",
      "source": [
        "# Stacking"
      ],
      "metadata": {
        "id": "BamaXkqyEIb6"
      }
    },
    {
      "cell_type": "code",
      "source": [
        "import numpy as np\n",
        "arr1=np.array([[1,2,3],[4,5,6]])\n",
        "arr2=np.array([[11,22,33],[44,55,66]])"
      ],
      "metadata": {
        "id": "8yYpFmHHEIHI"
      },
      "execution_count": null,
      "outputs": []
    },
    {
      "cell_type": "code",
      "source": [
        "# Stacking -> joining two arrays\n",
        "# their are two types of stacks\n",
        "1. hstack() -> Horizontal\n",
        "2. vstack() -> vertical\n"
      ],
      "metadata": {
        "id": "mogjsnKUD6rE"
      },
      "execution_count": null,
      "outputs": []
    },
    {
      "cell_type": "code",
      "source": [
        "arr1"
      ],
      "metadata": {
        "id": "bQsV4WhFD6nc"
      },
      "execution_count": null,
      "outputs": []
    },
    {
      "cell_type": "code",
      "source": [
        "arr2"
      ],
      "metadata": {
        "id": "jWySS242D6kB"
      },
      "execution_count": null,
      "outputs": []
    },
    {
      "cell_type": "code",
      "source": [
        "np.vstack((arr1,arr2))"
      ],
      "metadata": {
        "id": "7v5Fx7yXD6gh"
      },
      "execution_count": null,
      "outputs": []
    },
    {
      "cell_type": "code",
      "source": [
        "np.vstack((arr1,arr2,arr1))"
      ],
      "metadata": {
        "id": "8ADabiwyFeVp"
      },
      "execution_count": null,
      "outputs": []
    },
    {
      "cell_type": "code",
      "source": [
        "np.hstack((arr1,arr2))"
      ],
      "metadata": {
        "id": "_MUaNdRXD6c_"
      },
      "execution_count": null,
      "outputs": []
    },
    {
      "cell_type": "code",
      "source": [
        "arr3 = np.array([100,200,300])"
      ],
      "metadata": {
        "id": "Z8TwZCW8D6ZL"
      },
      "execution_count": null,
      "outputs": []
    },
    {
      "cell_type": "code",
      "source": [
        "np.vstack((arr1,arr3))"
      ],
      "metadata": {
        "id": "shjvZ9IwD6VZ"
      },
      "execution_count": null,
      "outputs": []
    },
    {
      "cell_type": "code",
      "source": [
        "np.hstack((arr1,arr3))"
      ],
      "metadata": {
        "id": "5jd9FzgVD6Q8"
      },
      "execution_count": null,
      "outputs": []
    },
    {
      "cell_type": "code",
      "source": [
        "arr3\n"
      ],
      "metadata": {
        "id": "x5y47nCTD6MX"
      },
      "execution_count": null,
      "outputs": []
    },
    {
      "cell_type": "code",
      "source": [
        "arr4 = np.array([500,600,700])\n",
        "arr4"
      ],
      "metadata": {
        "id": "rQMcGt8-D6Hx"
      },
      "execution_count": null,
      "outputs": []
    },
    {
      "cell_type": "code",
      "source": [
        "# dstack\n",
        "np.dstack((arr3,arr4))"
      ],
      "metadata": {
        "id": "HL13ZGfZD6C9"
      },
      "execution_count": null,
      "outputs": []
    },
    {
      "cell_type": "markdown",
      "source": [
        "# Spliting\n"
      ],
      "metadata": {
        "id": "KOerM7fJHOG3"
      }
    },
    {
      "cell_type": "code",
      "source": [
        "arr3"
      ],
      "metadata": {
        "id": "P_vbOnXkD5-q"
      },
      "execution_count": null,
      "outputs": []
    },
    {
      "cell_type": "code",
      "source": [
        "# array_split\n",
        "br=np.array_split(arr3,3)\n",
        "br"
      ],
      "metadata": {
        "id": "t1eSpNN5HaFL"
      },
      "execution_count": null,
      "outputs": []
    },
    {
      "cell_type": "code",
      "source": [
        "br[0]"
      ],
      "metadata": {
        "id": "GM5X_JedD56T"
      },
      "execution_count": null,
      "outputs": []
    },
    {
      "cell_type": "code",
      "source": [
        "# array_split\n",
        "br=np.array_split(arr3,1)\n",
        "br"
      ],
      "metadata": {
        "id": "69IWdVBeD52O"
      },
      "execution_count": null,
      "outputs": []
    },
    {
      "cell_type": "code",
      "source": [
        "br"
      ],
      "metadata": {
        "id": "2scvU9lzIUQs"
      },
      "execution_count": null,
      "outputs": []
    },
    {
      "cell_type": "markdown",
      "source": [
        "# Searching"
      ],
      "metadata": {
        "id": "OIGrVNiZIXXL"
      }
    },
    {
      "cell_type": "code",
      "source": [
        "newd=np.array([1,2,3,4,5,6,4,8,4,10])\n",
        "newd"
      ],
      "metadata": {
        "id": "VuncNa3jD5vW"
      },
      "execution_count": null,
      "outputs": []
    },
    {
      "cell_type": "code",
      "source": [
        "# Where\n",
        "np.where(newd==4)"
      ],
      "metadata": {
        "id": "-fZooHsDD5qk"
      },
      "execution_count": null,
      "outputs": []
    },
    {
      "cell_type": "code",
      "source": [
        "np.where(newd%2==0)"
      ],
      "metadata": {
        "id": "AXJVhoCOD5l4"
      },
      "execution_count": null,
      "outputs": []
    },
    {
      "cell_type": "markdown",
      "source": [
        "# Sorting"
      ],
      "metadata": {
        "id": "VsSspxmwJi55"
      }
    },
    {
      "cell_type": "code",
      "source": [
        "newarr=np.array([21,42,3123,4,535,46,7,843,9,10])\n",
        "newarr"
      ],
      "metadata": {
        "id": "s9qOD9loD5hx"
      },
      "execution_count": null,
      "outputs": []
    },
    {
      "cell_type": "code",
      "source": [
        "# Ascending\n",
        "np.sort(newarr)\n"
      ],
      "metadata": {
        "id": "R0aauGZiD5d0"
      },
      "execution_count": null,
      "outputs": []
    },
    {
      "cell_type": "code",
      "source": [
        "# Decending\n",
        "np.sort(newarr)[::-1]"
      ],
      "metadata": {
        "id": "LQGAbLNJD5aB"
      },
      "execution_count": null,
      "outputs": []
    },
    {
      "cell_type": "code",
      "source": [
        "-np.sort(-newarr)"
      ],
      "metadata": {
        "id": "8XSCpeIbD5V5"
      },
      "execution_count": null,
      "outputs": []
    },
    {
      "cell_type": "markdown",
      "source": [
        "* argsort()"
      ],
      "metadata": {
        "id": "NZAhrzXKVY75"
      }
    },
    {
      "cell_type": "code",
      "source": [
        "np.argsort(newarr)"
      ],
      "metadata": {
        "id": "2CjMOHMrVYd_"
      },
      "execution_count": null,
      "outputs": []
    },
    {
      "cell_type": "code",
      "source": [
        "array"
      ],
      "metadata": {
        "id": "Sto4aDX2Vqcc"
      },
      "execution_count": null,
      "outputs": []
    },
    {
      "cell_type": "code",
      "source": [
        "array**2"
      ],
      "metadata": {
        "id": "jkhzKbJZVijO"
      },
      "execution_count": null,
      "outputs": []
    },
    {
      "cell_type": "code",
      "source": [
        "# sqrt\n",
        "np.sqrt(array)"
      ],
      "metadata": {
        "id": "P1x4h22OVsm9"
      },
      "execution_count": null,
      "outputs": []
    },
    {
      "cell_type": "markdown",
      "source": [
        "# Any & All"
      ],
      "metadata": {
        "id": "Hx1j3KayKjJ2"
      }
    },
    {
      "cell_type": "code",
      "source": [
        "newarr=np.array([1,2,3,4,5])\n",
        "newarr"
      ],
      "metadata": {
        "id": "dcRZ8M_QD5Re"
      },
      "execution_count": null,
      "outputs": []
    },
    {
      "cell_type": "code",
      "source": [
        "np.any(newarr)"
      ],
      "metadata": {
        "id": "Pf8fd-VCJZcL"
      },
      "execution_count": null,
      "outputs": []
    },
    {
      "cell_type": "code",
      "source": [
        "np.all(newarr)"
      ],
      "metadata": {
        "id": "MJFgIbEkJZYY"
      },
      "execution_count": null,
      "outputs": []
    },
    {
      "cell_type": "code",
      "source": [
        "np.any(newarr>3)"
      ],
      "metadata": {
        "id": "I378DM2IJZUj"
      },
      "execution_count": null,
      "outputs": []
    },
    {
      "cell_type": "code",
      "source": [
        "np.all(newarr>3)"
      ],
      "metadata": {
        "id": "aQpfM_v_JZP8"
      },
      "execution_count": null,
      "outputs": []
    },
    {
      "cell_type": "code",
      "source": [
        "np.all(newarr>1)"
      ],
      "metadata": {
        "id": "FyMSoohEJZME"
      },
      "execution_count": null,
      "outputs": []
    },
    {
      "cell_type": "code",
      "source": [
        "np.any(newarr>1)"
      ],
      "metadata": {
        "id": "nLYwYCWJJZGl"
      },
      "execution_count": null,
      "outputs": []
    },
    {
      "cell_type": "code",
      "source": [
        "a=np.arange(10)\n",
        "a"
      ],
      "metadata": {
        "id": "n82QgdJJK-lM"
      },
      "execution_count": null,
      "outputs": []
    },
    {
      "cell_type": "code",
      "source": [
        "np.reshape(a,(2,5))"
      ],
      "metadata": {
        "id": "Mv-dcZa5K-fz"
      },
      "execution_count": null,
      "outputs": []
    },
    {
      "cell_type": "code",
      "source": [
        "np.reshape(a,(2,9))"
      ],
      "metadata": {
        "id": "eTYlqXmaMQGB"
      },
      "execution_count": null,
      "outputs": []
    },
    {
      "cell_type": "markdown",
      "source": [
        "\n",
        "\n",
        "*   resize()\n",
        "\n"
      ],
      "metadata": {
        "id": "FcQpTRYeL5Hw"
      }
    },
    {
      "cell_type": "code",
      "source": [
        "a"
      ],
      "metadata": {
        "id": "-hurQUhtLTei"
      },
      "execution_count": null,
      "outputs": []
    },
    {
      "cell_type": "code",
      "source": [
        "a.resize(5,2)\n",
        "a"
      ],
      "metadata": {
        "id": "olo_DzXDLUxg"
      },
      "execution_count": null,
      "outputs": []
    },
    {
      "cell_type": "code",
      "source": [
        "np.resize(a,(2,9))"
      ],
      "metadata": {
        "id": "GVT_KT8QLVqQ"
      },
      "execution_count": null,
      "outputs": []
    },
    {
      "cell_type": "markdown",
      "source": [
        "# Delete"
      ],
      "metadata": {
        "id": "gZW0vE7bNC5y"
      }
    },
    {
      "cell_type": "code",
      "source": [
        "# delete (arr, obj, axis) delete the based on the index\n",
        "a=np.arange(10)\n",
        "a"
      ],
      "metadata": {
        "id": "QjLI8gvxLU6x"
      },
      "execution_count": null,
      "outputs": []
    },
    {
      "cell_type": "code",
      "source": [
        "np.delete(a,1)"
      ],
      "metadata": {
        "id": "x2Sg5qVZLUnf"
      },
      "execution_count": null,
      "outputs": []
    },
    {
      "cell_type": "code",
      "source": [
        "arr=np.array([[1,2,3],[4,5,6],[7,8,9]])\n",
        "arr"
      ],
      "metadata": {
        "id": "zsMNNiP0LUiq"
      },
      "execution_count": null,
      "outputs": []
    },
    {
      "cell_type": "code",
      "source": [
        "np.delete(arr,1)"
      ],
      "metadata": {
        "id": "UB8h3I8hLUd6"
      },
      "execution_count": null,
      "outputs": []
    },
    {
      "cell_type": "code",
      "source": [
        "delmat=np.array([[1,2,3],[4,5,6],[7,8,9]])\n",
        "delmat"
      ],
      "metadata": {
        "id": "zh-ZUawwLUY2"
      },
      "execution_count": null,
      "outputs": []
    },
    {
      "cell_type": "code",
      "source": [
        "np.delete(delmat,1,axis=0)"
      ],
      "metadata": {
        "id": "Bgcq1B23LUUB"
      },
      "execution_count": null,
      "outputs": []
    },
    {
      "cell_type": "markdown",
      "source": [
        "# LCM"
      ],
      "metadata": {
        "id": "r6K7u1m6Omli"
      }
    },
    {
      "cell_type": "code",
      "source": [
        "num1=10\n",
        "num2=20\n",
        "\n",
        "np.lcm(num1,num2)"
      ],
      "metadata": {
        "id": "UHJ67QmFLUQE"
      },
      "execution_count": null,
      "outputs": []
    },
    {
      "cell_type": "code",
      "source": [
        "num1=10\n",
        "num2=20\n",
        "num3=30\n",
        "num4=40\n",
        "\n",
        "np.lcm((num1,num2,num3,num4))"
      ],
      "metadata": {
        "id": "ZYlJaQEPLULP"
      },
      "execution_count": null,
      "outputs": []
    },
    {
      "cell_type": "code",
      "source": [
        "newarr"
      ],
      "metadata": {
        "id": "TyNsQRIDLUFk"
      },
      "execution_count": null,
      "outputs": []
    },
    {
      "cell_type": "code",
      "source": [
        "a=np.lcm.reduce(newarr)\n",
        "a"
      ],
      "metadata": {
        "id": "lxDHDKZ4Ppvj"
      },
      "execution_count": null,
      "outputs": []
    },
    {
      "cell_type": "code",
      "source": [
        "np.lcm(newarr)"
      ],
      "metadata": {
        "id": "wKS1_oA2LTVt"
      },
      "execution_count": null,
      "outputs": []
    },
    {
      "cell_type": "code",
      "source": [
        "num1=10\n",
        "num2=20\n",
        "num3=30\n",
        "num4=40r̥\n",
        "\n",
        "np.lcm.reduce((num1,num2,num3,num4))"
      ],
      "metadata": {
        "id": "4Tcl9ZW_LTMq"
      },
      "execution_count": null,
      "outputs": []
    },
    {
      "cell_type": "markdown",
      "source": [
        "# GCD"
      ],
      "metadata": {
        "id": "hks8q_e_Q0LL"
      }
    },
    {
      "cell_type": "code",
      "source": [
        "a=10\n",
        "b=20\n",
        "np.gcd(a,b)"
      ],
      "metadata": {
        "id": "7R3GUptiQzlZ"
      },
      "execution_count": null,
      "outputs": []
    },
    {
      "cell_type": "markdown",
      "source": [
        "# Linear Equation"
      ],
      "metadata": {
        "id": "2DP82mPrRZ5Q"
      }
    },
    {
      "cell_type": "code",
      "source": [
        "# 3x + y =9\n",
        "# x + 2y =8\n",
        "a=np.array([[3,1],[1,2]])\n",
        "b=np.array([9,8])\n",
        "np.linalg.solve(a,b)\n",
        "#np.linalg.solve(np.array([[3,1],[1,2]]),np.array([9,8]))\n"
      ],
      "metadata": {
        "id": "_zFEcS6ELTJU"
      },
      "execution_count": null,
      "outputs": []
    },
    {
      "cell_type": "code",
      "source": [
        "# x^2 + 4x + 4 =0\n",
        "coeff = np.array([1,4,4])\n",
        "\n"
      ],
      "metadata": {
        "id": "-c2Sz9zQLTE9"
      },
      "execution_count": null,
      "outputs": []
    },
    {
      "cell_type": "code",
      "source": [
        "# Roots()\n",
        "np.roots(coeff)"
      ],
      "metadata": {
        "id": "G9M4PzXyLTA1"
      },
      "execution_count": null,
      "outputs": []
    },
    {
      "cell_type": "markdown",
      "source": [
        "# New Section"
      ],
      "metadata": {
        "id": "I5uZH_asT6Pv"
      }
    },
    {
      "cell_type": "code",
      "source": [
        "a =np.array([[1,2,3],[4,5,6]])\n",
        "b=np.array([[7,8,9],[10,11,12]])\n"
      ],
      "metadata": {
        "id": "aKTZ8XSELS8K"
      },
      "execution_count": null,
      "outputs": []
    },
    {
      "cell_type": "code",
      "source": [
        "np.dot(a,b)"
      ],
      "metadata": {
        "id": "hAAeUbDBLS4N"
      },
      "execution_count": null,
      "outputs": []
    },
    {
      "cell_type": "code",
      "source": [
        " # print(1*7 + 2*8 +3*9 + 4*10 + 5*11 + 6*12)\n",
        "\n",
        "np.vdot(a,b)"
      ],
      "metadata": {
        "id": "fb3BBGGJLSzz"
      },
      "execution_count": null,
      "outputs": []
    },
    {
      "cell_type": "markdown",
      "source": [
        "#  Regular Expression"
      ],
      "metadata": {
        "id": "6zV2r46jMuPF"
      }
    },
    {
      "cell_type": "code",
      "source": [
        "1. find\n",
        "2. match\n",
        "3. split\n",
        "4. sub\n",
        "5. search"
      ],
      "metadata": {
        "id": "eFq3G-t9Zf6k"
      },
      "execution_count": null,
      "outputs": []
    },
    {
      "cell_type": "code",
      "source": [
        "import re"
      ],
      "metadata": {
        "id": "czaQlOwtNt8v"
      },
      "execution_count": null,
      "outputs": []
    },
    {
      "cell_type": "code",
      "source": [
        "stri = \"I was ocupied on sunday and after i've got free, I called my friend and his number was 11-23444532 \""
      ],
      "metadata": {
        "id": "5SuvR1arLSqy"
      },
      "execution_count": null,
      "outputs": []
    },
    {
      "cell_type": "code",
      "source": [
        "stri\n"
      ],
      "metadata": {
        "id": "7T7SjrMRLSm3"
      },
      "execution_count": null,
      "outputs": []
    },
    {
      "cell_type": "code",
      "source": [
        "number = re.findall(r'\\d',stri)\n",
        "number\n",
        "# d-> digit\n",
        "# \\d -> single digit"
      ],
      "metadata": {
        "id": "h-bg0BuuLSiY"
      },
      "execution_count": null,
      "outputs": []
    },
    {
      "cell_type": "code",
      "source": [
        "number = re.findall(r'\\d+',stri)\n",
        "number"
      ],
      "metadata": {
        "id": "qreNEbcNLSeo"
      },
      "execution_count": null,
      "outputs": []
    },
    {
      "cell_type": "code",
      "source": [
        "number = re.findall(r'\\d{3}',stri)\n"
      ],
      "metadata": {
        "id": "6ztdjD-3Q1Xm"
      },
      "execution_count": null,
      "outputs": []
    },
    {
      "cell_type": "code",
      "source": [
        "number"
      ],
      "metadata": {
        "id": "UywE2KbaQ1RQ"
      },
      "execution_count": null,
      "outputs": []
    },
    {
      "cell_type": "code",
      "source": [
        "import re\n",
        "\n",
        "# Example string\n",
        "stri = \"Sample text with numbers like 12-345 and 67-890.\"\n",
        "\n",
        "# Extracting the pattern\n",
        "number = re.findall(r'\\d{2}-\\d+', stri)\n",
        "\n",
        "# Print the extracted numbers\n",
        "print(number)\n"
      ],
      "metadata": {
        "id": "r-ZSQ2C-Q1LC"
      },
      "execution_count": null,
      "outputs": []
    },
    {
      "cell_type": "code",
      "source": [
        "stri = \"On Monday , there will be chance of rainfall\""
      ],
      "metadata": {
        "id": "ieUNq4hNSI6f"
      },
      "execution_count": null,
      "outputs": []
    },
    {
      "cell_type": "code",
      "source": [
        "stri"
      ],
      "metadata": {
        "id": "lw4qMYZRSI19"
      },
      "execution_count": null,
      "outputs": []
    },
    {
      "cell_type": "code",
      "source": [
        "strin =re.search('^On',stri)\n",
        "if strin:\n",
        "  print(\"Yes\")\n",
        "else:\n",
        "  print(\"No\")"
      ],
      "metadata": {
        "id": "2DO9yG7tSIxh"
      },
      "execution_count": null,
      "outputs": []
    },
    {
      "cell_type": "markdown",
      "source": [
        "# Match"
      ],
      "metadata": {
        "id": "4oWZhjjnTmMF"
      }
    },
    {
      "cell_type": "code",
      "source": [
        "stri = \"Dog is a pet animal\""
      ],
      "metadata": {
        "id": "6ABLR-MCTl6x"
      },
      "execution_count": null,
      "outputs": []
    },
    {
      "cell_type": "code",
      "source": [
        "mat = re.match('D\\w\\w',stri)\n",
        "if mat:\n",
        "  print(\"Yes\")\n",
        "else:\n",
        "  print(\"No\")"
      ],
      "metadata": {
        "id": "qT57d6L4SIsx"
      },
      "execution_count": null,
      "outputs": []
    },
    {
      "cell_type": "code",
      "source": [
        "mat"
      ],
      "metadata": {
        "id": "WARSuJTvU9k6"
      },
      "execution_count": null,
      "outputs": []
    },
    {
      "cell_type": "code",
      "source": [
        "mat = re.match('D\\w\\w',stri)\n",
        "mat.group()"
      ],
      "metadata": {
        "id": "TkZJ_Cj_SImm"
      },
      "execution_count": null,
      "outputs": []
    },
    {
      "cell_type": "code",
      "source": [
        "mat = re.match('D\\w\\w',stri)\n",
        "mat.start()"
      ],
      "metadata": {
        "id": "QNde-ut9SZ7d"
      },
      "execution_count": null,
      "outputs": []
    },
    {
      "cell_type": "markdown",
      "source": [
        "# Split"
      ],
      "metadata": {
        "id": "HIUbklZXWGZm"
      }
    },
    {
      "cell_type": "code",
      "source": [
        "stri = \"On Monday , there will be chance of rainfall\""
      ],
      "metadata": {
        "id": "AEw5GgLISZ2w"
      },
      "execution_count": null,
      "outputs": []
    },
    {
      "cell_type": "code",
      "source": [
        "split = re.split(' ',stri)\n",
        "split"
      ],
      "metadata": {
        "id": "D-K8zVbdSZyA"
      },
      "execution_count": null,
      "outputs": []
    },
    {
      "cell_type": "code",
      "source": [
        "# \\d -> Single digit\n",
        "# \\d+ -> multiple digit\n",
        "# \\w -> Single Character -> A-Z/a-z\n",
        "# \\s -> Spce"
      ],
      "metadata": {
        "id": "5iEC0P_vSZti"
      },
      "execution_count": null,
      "outputs": []
    },
    {
      "cell_type": "code",
      "source": [
        "spli=re.split(\"\\s\",stri)\n",
        "spli"
      ],
      "metadata": {
        "id": "Rv0KwR36SZo7"
      },
      "execution_count": null,
      "outputs": []
    },
    {
      "cell_type": "code",
      "source": [
        "a=\"Rahul is 45 male (+91)1234567890\""
      ],
      "metadata": {
        "id": "3_x-pwO7SZi8"
      },
      "execution_count": null,
      "outputs": []
    },
    {
      "cell_type": "code",
      "source": [
        "a.split()"
      ],
      "metadata": {
        "id": "vHrw1BJ3X9vP"
      },
      "execution_count": null,
      "outputs": []
    },
    {
      "cell_type": "markdown",
      "source": [
        "# sub - Replace"
      ],
      "metadata": {
        "id": "-Jt5Tiq9Yie0"
      }
    },
    {
      "cell_type": "code",
      "source": [
        "stri =\"Football i not a sport\""
      ],
      "metadata": {
        "id": "5-5yp8PWX9o6"
      },
      "execution_count": null,
      "outputs": []
    },
    {
      "cell_type": "code",
      "source": [
        "rep =re.sub('i','I',stri)\n",
        "rep"
      ],
      "metadata": {
        "id": "WZ6aPT1TY_7n"
      },
      "execution_count": null,
      "outputs": []
    },
    {
      "cell_type": "markdown",
      "source": [
        "# Meta characters\n",
        "\n",
        "\n",
        "*   [a,b] -> A set of character\n",
        "\n",
        "\n"
      ],
      "metadata": {
        "id": "_I8-WhWwZX-b"
      }
    },
    {
      "cell_type": "code",
      "source": [
        "stri = \"Munbai is the financial capital on India\""
      ],
      "metadata": {
        "id": "mS2QkGZeY_2C"
      },
      "execution_count": null,
      "outputs": []
    },
    {
      "cell_type": "code",
      "source": [
        "asd = re.findall('[b-e]',stri)\n",
        "asd"
      ],
      "metadata": {
        "id": "NbuprFl0Y_vq"
      },
      "execution_count": null,
      "outputs": []
    },
    {
      "cell_type": "markdown",
      "source": [
        "* ^ -> starts with"
      ],
      "metadata": {
        "id": "qBtT7yKvbBap"
      }
    },
    {
      "cell_type": "code",
      "source": [
        "asd = re.findall('^is',stri)\n",
        "asd"
      ],
      "metadata": {
        "id": "L4NkEY2ja6xf"
      },
      "execution_count": null,
      "outputs": []
    },
    {
      "cell_type": "markdown",
      "source": [
        "* $ -> ends with"
      ],
      "metadata": {
        "id": "sX4ieQSGay41"
      }
    },
    {
      "cell_type": "code",
      "source": [
        "asd =re.findall('India$',stri)\n",
        "asd"
      ],
      "metadata": {
        "id": "qoe7qX7TY_mi"
      },
      "execution_count": null,
      "outputs": []
    },
    {
      "cell_type": "markdown",
      "source": [
        "# Pandas\n",
        "* It's a Python Library that is usedd while you are working with the database\n",
        "1. Analyze\n",
        "2. Cleaning\n",
        "3. Explore\n",
        "4. Manipulation"
      ],
      "metadata": {
        "id": "Gn1NJ69ze75i"
      }
    },
    {
      "cell_type": "markdown",
      "source": [
        "# Why Pandas ?\n",
        "1. It allowa us to analyze bid data\n",
        "2. It is used to clean datasets and then make it readable and relevent"
      ],
      "metadata": {
        "id": "xgAcaoE8kcyd"
      }
    },
    {
      "cell_type": "code",
      "source": [
        "import pandas as pd\n"
      ],
      "metadata": {
        "id": "hVttHikkY_ez"
      },
      "execution_count": null,
      "outputs": []
    },
    {
      "cell_type": "code",
      "source": [
        "pd.__version__"
      ],
      "metadata": {
        "id": "feveXK38e7q1"
      },
      "execution_count": null,
      "outputs": []
    },
    {
      "cell_type": "markdown",
      "source": [
        "# Pandas Data Structure\n",
        "1. Series  -> 1D[Column]\n",
        "2. Dataframe  -> 2D[Row & Column]\n",
        "3. Panel  -> 3D[Graphical representation is difficult]\n",
        "* Pandas  DS are very fast because they are built on NumPy array."
      ],
      "metadata": {
        "id": "0yG7ZDdllZ6e"
      }
    },
    {
      "cell_type": "code",
      "source": [
        "import numpy as np\n",
        "a= np.array([1,2,3,4,5])\n",
        "a"
      ],
      "metadata": {
        "id": "woL3bGYne7m8"
      },
      "execution_count": null,
      "outputs": []
    },
    {
      "cell_type": "code",
      "source": [
        "a.shape"
      ],
      "metadata": {
        "id": "liIHBKlBe7jH"
      },
      "execution_count": null,
      "outputs": []
    },
    {
      "cell_type": "markdown",
      "source": [
        "# Series\n",
        "1. It is 1D array\n",
        "2. [1,2,3,4,5,6,7] -> Data[column]"
      ],
      "metadata": {
        "id": "eO5kxNp9nM1d"
      }
    },
    {
      "cell_type": "code",
      "source": [
        "SYNTAX -> pd.Series(data,index)"
      ],
      "metadata": {
        "id": "5_mR0Qb7e7fK"
      },
      "execution_count": null,
      "outputs": []
    },
    {
      "cell_type": "code",
      "source": [
        "import pandas as pd\n",
        "data=[1,2,3,4,5]\n",
        "pd.Series(a)"
      ],
      "metadata": {
        "id": "lF-YsgZtoY_8"
      },
      "execution_count": null,
      "outputs": []
    },
    {
      "cell_type": "code",
      "source": [
        "import pandas as pd\n",
        "a=np.array([1,2,3,4,5])\n",
        "pd.Series(a)\n"
      ],
      "metadata": {
        "id": "Khad6ZfLe7bU"
      },
      "execution_count": null,
      "outputs": []
    },
    {
      "cell_type": "code",
      "source": [
        "import pandas as pd\n",
        "a=np.array([1,2,3,4,5])\n",
        "b= pd.Series(a,index=['a','b','c','d','e'])\n",
        "b"
      ],
      "metadata": {
        "id": "59RpnuoPe7Wp"
      },
      "execution_count": null,
      "outputs": []
    },
    {
      "cell_type": "code",
      "source": [
        "a[0]\n",
        "a[1]\n",
        "a[2]"
      ],
      "metadata": {
        "id": "eJL9wsDvCQFS"
      },
      "execution_count": null,
      "outputs": []
    },
    {
      "cell_type": "code",
      "source": [
        "import pandas as pd\n",
        "a=np.array([1,2,3,4,5])\n",
        "pd.Series(a,index=['a','b','c','d','e'],dtype=float)"
      ],
      "metadata": {
        "id": "-DcTzX8xe7Sk"
      },
      "execution_count": null,
      "outputs": []
    },
    {
      "cell_type": "code",
      "source": [
        "import pandas as pd\n",
        "a=np.array([1,2,3,4,5])\n",
        "pd.Series(a,index=['a','b','c','d','e'],dtype=float,name=\"Data\")"
      ],
      "metadata": {
        "id": "qr12c6LKe7Oy"
      },
      "execution_count": null,
      "outputs": []
    },
    {
      "cell_type": "markdown",
      "source": [
        "# Boolean Masking"
      ],
      "metadata": {
        "id": "yNgRyFmqCrii"
      }
    },
    {
      "cell_type": "code",
      "source": [
        "0 -> False\n",
        "1 -> True"
      ],
      "metadata": {
        "id": "T0FfayfTe7K-"
      },
      "execution_count": null,
      "outputs": []
    },
    {
      "cell_type": "code",
      "source": [
        "a"
      ],
      "metadata": {
        "id": "CJgaDfEve7Hu"
      },
      "execution_count": null,
      "outputs": []
    },
    {
      "cell_type": "code",
      "source": [
        "a>3"
      ],
      "metadata": {
        "id": "KKM5MRGZe7Eq"
      },
      "execution_count": null,
      "outputs": []
    },
    {
      "cell_type": "code",
      "source": [
        "a[a>3]"
      ],
      "metadata": {
        "id": "7QX7YziifVtu"
      },
      "execution_count": null,
      "outputs": []
    },
    {
      "cell_type": "code",
      "source": [
        "a[a>4]"
      ],
      "metadata": {
        "id": "QcVWiQsOfVqA"
      },
      "execution_count": null,
      "outputs": []
    },
    {
      "cell_type": "markdown",
      "source": [
        "Delete"
      ],
      "metadata": {
        "id": "EUS9dOoUFxxp"
      }
    },
    {
      "cell_type": "code",
      "source": [
        "b"
      ],
      "metadata": {
        "id": "-OM4XjcOfVlu"
      },
      "execution_count": null,
      "outputs": []
    },
    {
      "cell_type": "code",
      "source": [
        "b.drop('a')"
      ],
      "metadata": {
        "id": "5ktcFeI1F3Sl"
      },
      "execution_count": null,
      "outputs": []
    },
    {
      "cell_type": "code",
      "source": [
        "b"
      ],
      "metadata": {
        "id": "HjtgEA1LGNJy"
      },
      "execution_count": null,
      "outputs": []
    },
    {
      "cell_type": "code",
      "source": [
        "b.drop('a',inplace=True)"
      ],
      "metadata": {
        "id": "kz3eGjpsGMkL"
      },
      "execution_count": null,
      "outputs": []
    },
    {
      "cell_type": "code",
      "source": [
        "b"
      ],
      "metadata": {
        "id": "xhPvlPPjGTVV"
      },
      "execution_count": null,
      "outputs": []
    },
    {
      "cell_type": "code",
      "source": [
        "import pandas as pd\n",
        "a=np.array([1,2,3,4,5])\n",
        "df =pd.Series(a,index=['a','b','c','d','e'],dtype=float)"
      ],
      "metadata": {
        "id": "V4V0NBJ2GeF4"
      },
      "execution_count": null,
      "outputs": []
    },
    {
      "cell_type": "code",
      "source": [
        "df.drop(['c','e'])"
      ],
      "metadata": {
        "id": "X_wpj_NLGkw-"
      },
      "execution_count": null,
      "outputs": []
    },
    {
      "cell_type": "code",
      "source": [
        "df\n",
        "# Dletetion above is not perminant to make that perminant we use Inplace"
      ],
      "metadata": {
        "id": "QXHBInKPGxOZ"
      },
      "execution_count": null,
      "outputs": []
    },
    {
      "cell_type": "code",
      "source": [
        "df.drop(['c','e'],inplace=True)"
      ],
      "metadata": {
        "id": "x2upLgNVG7z6"
      },
      "execution_count": null,
      "outputs": []
    },
    {
      "cell_type": "code",
      "source": [
        "df+3\n"
      ],
      "metadata": {
        "id": "Vc0CB6FtG95P"
      },
      "execution_count": null,
      "outputs": []
    },
    {
      "cell_type": "code",
      "source": [
        "np.sqrt(df)"
      ],
      "metadata": {
        "id": "cwQKbtr4HIME"
      },
      "execution_count": null,
      "outputs": []
    },
    {
      "cell_type": "code",
      "source": [
        "df.mean()"
      ],
      "metadata": {
        "id": "IPxUw1p8HRGC"
      },
      "execution_count": null,
      "outputs": []
    },
    {
      "cell_type": "code",
      "source": [
        "df"
      ],
      "metadata": {
        "id": "qEgyIUpmHZUp"
      },
      "execution_count": null,
      "outputs": []
    },
    {
      "cell_type": "code",
      "source": [
        "df['a']-1"
      ],
      "metadata": {
        "id": "sKVbOwbsHbKY"
      },
      "execution_count": null,
      "outputs": []
    },
    {
      "cell_type": "markdown",
      "source": [
        "# Dataframe\n",
        "1. It is a 2D DS"
      ],
      "metadata": {
        "id": "zRdcBxoALb_Q"
      }
    },
    {
      "cell_type": "code",
      "source": [
        "SYNTAX -> pd.DataFrame(data,index,columns)\n"
      ],
      "metadata": {
        "id": "8NK4D2eUHlTF"
      },
      "execution_count": null,
      "outputs": []
    },
    {
      "cell_type": "code",
      "source": [
        "import pandas as pd\n",
        "data=[1,2,3,4,5]\n",
        "pd.DataFrame(data)"
      ],
      "metadata": {
        "id": "gCn3H_XjNNVO"
      },
      "execution_count": null,
      "outputs": []
    },
    {
      "cell_type": "code",
      "source": [
        "import pandas as pd\n",
        "import numpy as np\n",
        "a=np.array([[1,2,3],[4,5,6]])\n",
        "df=pd.DataFrame(a)\n",
        "df"
      ],
      "metadata": {
        "id": "WAEkpK1VHlO5"
      },
      "execution_count": null,
      "outputs": []
    },
    {
      "cell_type": "markdown",
      "source": [
        "# CRUD"
      ],
      "metadata": {
        "id": "Z5n0qURCNaHh"
      }
    },
    {
      "cell_type": "markdown",
      "source": [
        "* C -> Create"
      ],
      "metadata": {
        "id": "YtJC7SO7N9Bl"
      }
    },
    {
      "cell_type": "markdown",
      "source": [
        "1. Empty Dataframe"
      ],
      "metadata": {
        "id": "qUECERUrPXgh"
      }
    },
    {
      "cell_type": "code",
      "source": [
        "df = pd.DataFrame()\n",
        "df"
      ],
      "metadata": {
        "id": "B6sjvTAGHlGd"
      },
      "execution_count": null,
      "outputs": []
    },
    {
      "cell_type": "markdown",
      "source": [
        "2. List Dataframe"
      ],
      "metadata": {
        "id": "m6i3JP7pPkkZ"
      }
    },
    {
      "cell_type": "code",
      "source": [
        "a=[1,2,3,4,5]\n",
        "df=pd.DataFrame(a)\n",
        "df"
      ],
      "metadata": {
        "id": "ejORlZulHlCW"
      },
      "execution_count": null,
      "outputs": []
    },
    {
      "cell_type": "code",
      "source": [
        "a=[[\"dog\",\"cat\"],[\"Tom\",\"jerry\"],[\"snake\",\"pig\"]]\n",
        "df=pd.DataFrame(a)\n",
        "df"
      ],
      "metadata": {
        "id": "-p4y6oQQHk-K"
      },
      "execution_count": null,
      "outputs": []
    },
    {
      "cell_type": "code",
      "source": [
        "a=[[\"dog\",\"bow\"],[\"Tom\",\"meom\"],[\"snake\",\"piss\"]]\n",
        "df=pd.DataFrame(a,columns=[\"animal\",\"sound\"])\n",
        "df"
      ],
      "metadata": {
        "id": "zXDmv-_vHk6F"
      },
      "execution_count": null,
      "outputs": []
    },
    {
      "cell_type": "markdown",
      "source": [
        "3. Dic Dataframe"
      ],
      "metadata": {
        "id": "XXp3iiOYRCsd"
      }
    },
    {
      "cell_type": "code",
      "source": [
        "data={\"Name\":[\"Ram\",\"Rahul\",\"Bhavana\"],\"Age\":[\"20\",\"21\",\"22\"]}\n",
        "df=pd.DataFrame(data,index=[\"a\",\"b\",\"c\"])\n",
        "df\n"
      ],
      "metadata": {
        "id": "G8mnsKo9Hk1n"
      },
      "execution_count": null,
      "outputs": []
    },
    {
      "cell_type": "markdown",
      "source": [
        "4. Series Dataframe"
      ],
      "metadata": {
        "id": "DwgLlm4eXssX"
      }
    },
    {
      "cell_type": "code",
      "source": [
        "data={\"Karan_marks\":pd.Series([50,55,22],index=[\"Test1\",\"Test2\",\"Test3\"]),\n",
        "      \"Rahul_marks\":pd.Series([50,55,22],index=[\"Test1\",\"Test2\",\"Test5\"])}\n",
        "df=pd.DataFrame(data)\n",
        "df"
      ],
      "metadata": {
        "id": "BJiwUOq6Hkxa"
      },
      "execution_count": null,
      "outputs": []
    },
    {
      "cell_type": "markdown",
      "source": [
        "5. List of dictionary Dataframe"
      ],
      "metadata": {
        "id": "rNSU1Ug5Xmrt"
      }
    },
    {
      "cell_type": "code",
      "source": [
        "data =[{\"A\":1,{\"B\":2},{\"C\":3},{\"D\":4}]\n",
        "df=pd.DataFrame(data)\n",
        "df"
      ],
      "metadata": {
        "id": "dkBYYOxuHkrP"
      },
      "execution_count": null,
      "outputs": []
    },
    {
      "cell_type": "code",
      "source": [
        "data =[{\"A\":1,\"B\":2},{\"C\":3,\"D\":4},{\"E\":5,\"F\":6}]\n",
        "df=pd.DataFrame(data)\n",
        "df"
      ],
      "metadata": {
        "id": "eHZ3F997Q2FM"
      },
      "execution_count": null,
      "outputs": []
    },
    {
      "cell_type": "markdown",
      "source": [
        "# Update"
      ],
      "metadata": {
        "id": "4_hIcdgXaM9i"
      }
    },
    {
      "cell_type": "code",
      "source": [
        "data=[10,20,30,40,50]\n",
        "\n",
        "df=pd.DataFrame(data)\n",
        "df"
      ],
      "metadata": {
        "id": "W7SLFTJgbIbV"
      },
      "execution_count": null,
      "outputs": []
    },
    {
      "cell_type": "code",
      "source": [
        "data=[10,20,30,40,50]\n",
        "data1=[100,200,300,400,500]\n",
        "df=pd.DataFrame([data,data1],columns=[\"A\",\"B\",\"C\",\"D\",\"E\"],index=[\"a\",\"b\"])\n",
        "df"
      ],
      "metadata": {
        "id": "eKQXWobDQ18a"
      },
      "execution_count": null,
      "outputs": []
    },
    {
      "cell_type": "markdown",
      "source": [
        "1. Column Selection"
      ],
      "metadata": {
        "id": "nfLLPUyZbUAL"
      }
    },
    {
      "cell_type": "code",
      "source": [
        "df['B']"
      ],
      "metadata": {
        "id": "qYPGqhqZQ13Y"
      },
      "execution_count": null,
      "outputs": []
    },
    {
      "cell_type": "code",
      "source": [
        "df['H']"
      ],
      "metadata": {
        "id": "kyz9E4yWQ1zA"
      },
      "execution_count": null,
      "outputs": []
    },
    {
      "cell_type": "code",
      "source": [
        "df['H']=[56,78]\n",
        "df"
      ],
      "metadata": {
        "id": "A5aOYjD2Q1s7"
      },
      "execution_count": null,
      "outputs": []
    },
    {
      "cell_type": "code",
      "source": [
        "df['M']=pd.Series([1,2,3],index=[\"a\",\"b\",\"c\"])\n",
        "df"
      ],
      "metadata": {
        "id": "fv1vymMGQ1ol"
      },
      "execution_count": null,
      "outputs": []
    },
    {
      "cell_type": "code",
      "source": [
        "df['N']=df['A']+df['B']\n",
        "df"
      ],
      "metadata": {
        "id": "jgYYCJaKQ1j8"
      },
      "execution_count": null,
      "outputs": []
    },
    {
      "cell_type": "code",
      "source": [
        "df['z']=pd.Series([1,2,3],index=[\"a\",\"b\",\"c\"])\n",
        "df"
      ],
      "metadata": {
        "id": "4atNx4hbQ1dj"
      },
      "execution_count": null,
      "outputs": []
    },
    {
      "cell_type": "code",
      "source": [
        "df['q']=34\n",
        "df"
      ],
      "metadata": {
        "id": "fFDTz8Sbc3Rp"
      },
      "execution_count": null,
      "outputs": []
    },
    {
      "cell_type": "code",
      "source": [
        "df['P']=pd.Series([72])\n",
        "df"
      ],
      "metadata": {
        "id": "nxf2X2Ucc3K_"
      },
      "execution_count": null,
      "outputs": []
    },
    {
      "cell_type": "code",
      "source": [
        "df"
      ],
      "metadata": {
        "id": "9AADqlwBc3GF"
      },
      "execution_count": null,
      "outputs": []
    },
    {
      "cell_type": "code",
      "source": [
        "del df['z']"
      ],
      "metadata": {
        "id": "M85QPT-sc3Bo"
      },
      "execution_count": null,
      "outputs": []
    },
    {
      "cell_type": "code",
      "source": [
        "df"
      ],
      "metadata": {
        "id": "pjRP9qG4c26i"
      },
      "execution_count": null,
      "outputs": []
    },
    {
      "cell_type": "code",
      "source": [
        "# Pop function\n",
        "\n",
        "df.pop('P')"
      ],
      "metadata": {
        "id": "H4uYw7Lplu9I"
      },
      "execution_count": null,
      "outputs": []
    },
    {
      "cell_type": "code",
      "source": [
        "df[['C']]"
      ],
      "metadata": {
        "id": "nDDw1NYsmT3K"
      },
      "execution_count": null,
      "outputs": []
    },
    {
      "cell_type": "code",
      "source": [
        "df[['E','C']]"
      ],
      "metadata": {
        "id": "g6G0sRr3mTyn"
      },
      "execution_count": null,
      "outputs": []
    },
    {
      "cell_type": "code",
      "source": [
        "df"
      ],
      "metadata": {
        "id": "h-hAqWiHqIvq"
      },
      "execution_count": null,
      "outputs": []
    },
    {
      "cell_type": "code",
      "source": [
        "df.pop(\"D\")"
      ],
      "metadata": {
        "id": "ejPkrF8oqIj2"
      },
      "execution_count": null,
      "outputs": []
    },
    {
      "cell_type": "code",
      "source": [
        "# Drop\n",
        "df.drop(['D','E'], axis=1)"
      ],
      "metadata": {
        "id": "3WU9qUnIqcvb"
      },
      "execution_count": null,
      "outputs": []
    },
    {
      "cell_type": "code",
      "source": [
        "df.drop(['C','E'], axis=1,inplace=True)"
      ],
      "metadata": {
        "id": "wS2RrXbCwRIp"
      },
      "execution_count": null,
      "outputs": []
    },
    {
      "cell_type": "code",
      "source": [
        "df"
      ],
      "metadata": {
        "id": "kDXGbTw1qcq2"
      },
      "execution_count": null,
      "outputs": []
    },
    {
      "cell_type": "code",
      "source": [
        "df.pop('A')"
      ],
      "metadata": {
        "id": "zDQZXgEKwa7v"
      },
      "execution_count": null,
      "outputs": []
    },
    {
      "cell_type": "code",
      "source": [
        "df"
      ],
      "metadata": {
        "id": "ejLkSGuhwdNz"
      },
      "execution_count": null,
      "outputs": []
    },
    {
      "cell_type": "code",
      "source": [
        "df"
      ],
      "metadata": {
        "id": "Pkig1p3ju6QG"
      },
      "execution_count": null,
      "outputs": []
    },
    {
      "cell_type": "code",
      "source": [
        "import pandas as pd\n",
        "\n",
        "# Existing data\n",
        "data = [10, 20, 30, 40, 50]\n",
        "data1 = [100, 200, 300, 400, 500]\n",
        "df = pd.DataFrame([data, data1], columns=[\"A\", \"B\", \"C\", \"D\", \"E\"], index=[\"a\", \"b\"])\n",
        "\n",
        "# New data\n",
        "df1 = pd.DataFrame([{\"A\": 1, \"B\": 2, \"C\": 3}])\n",
        "\n",
        "# Concatenate them\n",
        "df_combined = pd.concat([df, df1])\n",
        "\n",
        "print(df_combined)\n"
      ],
      "metadata": {
        "id": "MmWGc9-ru7tB"
      },
      "execution_count": null,
      "outputs": []
    },
    {
      "cell_type": "code",
      "source": [
        "df"
      ],
      "metadata": {
        "id": "8IScFt7AuQyE"
      },
      "execution_count": null,
      "outputs": []
    },
    {
      "cell_type": "code",
      "source": [
        "import pandas as pd\n",
        "data = [{'Name': 'John', 'Age': 25}, {'Name': 'Jane', 'Age': 30}]\n",
        "df = pd.DataFrame(data)\n",
        "df"
      ],
      "metadata": {
        "id": "2EWSqMJpfT0V"
      },
      "execution_count": null,
      "outputs": []
    },
    {
      "cell_type": "code",
      "source": [
        "import pandas as pd\n",
        "data = {\"Apples\":[102,500,250,75],\"Bananas\":[50,150,90,45]}\n",
        "df = pd.DataFrame(data)\n",
        "df"
      ],
      "metadata": {
        "id": "uUKV2r1kfTwu"
      },
      "execution_count": null,
      "outputs": []
    },
    {
      "cell_type": "code",
      "source": [
        "df['Apples'] # Series"
      ],
      "metadata": {
        "id": "fBJofE23fTtZ"
      },
      "execution_count": null,
      "outputs": []
    },
    {
      "cell_type": "code",
      "source": [
        "df[['Apples']] # Dataframe"
      ],
      "metadata": {
        "id": "h9S5woaYfTpx"
      },
      "execution_count": null,
      "outputs": []
    },
    {
      "cell_type": "code",
      "source": [
        "df[\"Bananas\"]=df['Apples']+50\n",
        "df"
      ],
      "metadata": {
        "id": "kKz-RbO8fTma"
      },
      "execution_count": null,
      "outputs": []
    },
    {
      "cell_type": "code",
      "source": [
        "df.drop('Bananas',axis=1)"
      ],
      "metadata": {
        "id": "kZ38ojjzfTiw"
      },
      "execution_count": null,
      "outputs": []
    },
    {
      "cell_type": "code",
      "source": [
        "df"
      ],
      "metadata": {
        "id": "Z0a3SqjMfTeb"
      },
      "execution_count": null,
      "outputs": []
    },
    {
      "cell_type": "code",
      "source": [
        "df.drop('Bananas',axis=1,inplace=True)"
      ],
      "metadata": {
        "id": "xOEph9TwfTa5"
      },
      "execution_count": null,
      "outputs": []
    },
    {
      "cell_type": "code",
      "source": [
        "df"
      ],
      "metadata": {
        "id": "E1xL-LEzfTW8"
      },
      "execution_count": null,
      "outputs": []
    },
    {
      "cell_type": "code",
      "source": [
        "# Row\n",
        "df[\"Pear\"]=df['Apples']+67\n",
        "df[\"Mangoes\"]=df['Apples']+100\n",
        "df[\"Jackfriut\"]=df['Apples']+150\n",
        "df[\"Oranges\"]=df['Apples']+50\n",
        "df[\"Cherry\"]=df['Apples']+57\n",
        "df[\"Strawbeerry\"]=df['Apples']+34\n",
        "df[\"Bananas\"]=df['Apples']+200\n"
      ],
      "metadata": {
        "id": "iTipVQ7ufTQo"
      },
      "execution_count": null,
      "outputs": []
    },
    {
      "cell_type": "code",
      "source": [
        "df"
      ],
      "metadata": {
        "id": "duUsFtGvfTNj"
      },
      "execution_count": null,
      "outputs": []
    },
    {
      "cell_type": "markdown",
      "source": [
        "# Row CRUD"
      ],
      "metadata": {
        "id": "e7oStkwUilfY"
      }
    },
    {
      "cell_type": "markdown",
      "source": [
        "* Row Selection"
      ],
      "metadata": {
        "id": "YlHYIS74irLp"
      }
    },
    {
      "cell_type": "code",
      "source": [
        "# loc & iloc"
      ],
      "metadata": {
        "id": "66wwF7ytfTKI"
      },
      "execution_count": null,
      "outputs": []
    },
    {
      "cell_type": "code",
      "source": [
        "df"
      ],
      "metadata": {
        "id": "Kl3DTN2rknnR"
      },
      "execution_count": null,
      "outputs": []
    },
    {
      "cell_type": "code",
      "source": [
        "df.loc[0]"
      ],
      "metadata": {
        "id": "8aJJvRzWkqd0"
      },
      "execution_count": null,
      "outputs": []
    },
    {
      "cell_type": "code",
      "source": [
        "# Loc works with the index_name\n",
        "df.loc[[0]]"
      ],
      "metadata": {
        "id": "RltGguJ7fTHG"
      },
      "execution_count": null,
      "outputs": []
    },
    {
      "cell_type": "code",
      "source": [
        "# iloc -> Index\n",
        "df.iloc[[3]]"
      ],
      "metadata": {
        "id": "jl7iQQ9ajA9_"
      },
      "execution_count": null,
      "outputs": []
    },
    {
      "cell_type": "code",
      "source": [
        "import pandas as pd\n",
        "data = {\"Apples\":[102,500,250,75],\"Bananas\":[50,150,90,45]}\n",
        "asf = pd.DataFrame(data,index=[\"a\",\"b\",\"c\",\"d\"])\n",
        "asf\n"
      ],
      "metadata": {
        "id": "_IKV1q_XjAz7"
      },
      "execution_count": null,
      "outputs": []
    },
    {
      "cell_type": "code",
      "source": [
        "asf.loc['a']"
      ],
      "metadata": {
        "id": "gcj6VhxWjAwd"
      },
      "execution_count": null,
      "outputs": []
    },
    {
      "cell_type": "code",
      "source": [
        "asf.iloc[0]"
      ],
      "metadata": {
        "id": "zlK819CrjAsI"
      },
      "execution_count": null,
      "outputs": []
    },
    {
      "cell_type": "code",
      "source": [
        "asf.iloc['d']"
      ],
      "metadata": {
        "id": "Q-0q0lJVjAot"
      },
      "execution_count": null,
      "outputs": []
    },
    {
      "cell_type": "code",
      "source": [
        "df.iloc[[-1]]"
      ],
      "metadata": {
        "id": "SjJCaClqjAlp"
      },
      "execution_count": null,
      "outputs": []
    },
    {
      "cell_type": "code",
      "source": [
        "df"
      ],
      "metadata": {
        "id": "1ng0pTlAjAiG"
      },
      "execution_count": null,
      "outputs": []
    },
    {
      "cell_type": "markdown",
      "source": [
        "* Row Addition"
      ],
      "metadata": {
        "id": "vdLqH6sElAgy"
      }
    },
    {
      "cell_type": "code",
      "source": [
        "student_marks={\"Name\":[\"Rahul\",\"Rohit\",\"venkat\",\"Sahil\",\"Ankith\"],\n",
        "               \"OS\":[25,75.5,96,0,100],\n",
        "               \"DBMS\":[20,80,60,50,99]}\n",
        "df=pd.DataFrame(student_marks)\n",
        "df"
      ],
      "metadata": {
        "id": "FMek7ad4lAHS"
      },
      "execution_count": null,
      "outputs": []
    },
    {
      "cell_type": "code",
      "source": [
        "# First Method\n",
        "data2 = {\"Name\":\"Robby\",\"OS\":60.5,\"DBMS\":55.5}\n",
        "asf=pd.concat([df,pd.DataFrame([data2])])\n",
        "asf"
      ],
      "metadata": {
        "id": "KBRCTlSsmQxl"
      },
      "execution_count": null,
      "outputs": []
    },
    {
      "cell_type": "code",
      "source": [
        "data2 = {\"Name\":\"Robby\",\"OS\":60.5,\"DBMS\":55.5}\n",
        "asf=pd.concat([df,pd.DataFrame([data2])],ignore_index=True)\n",
        "asf\n"
      ],
      "metadata": {
        "id": "TtINYsFsmQuR"
      },
      "execution_count": null,
      "outputs": []
    },
    {
      "cell_type": "code",
      "source": [
        "asf.loc[5]"
      ],
      "metadata": {
        "id": "kaa1dZy8mQrL"
      },
      "execution_count": null,
      "outputs": []
    },
    {
      "cell_type": "code",
      "source": [
        "asf .loc[5]=[\"Steve\",67,78]\n",
        "asf"
      ],
      "metadata": {
        "id": "KBH85U2vmQoD"
      },
      "execution_count": null,
      "outputs": []
    },
    {
      "cell_type": "code",
      "source": [
        "asf .iloc[5]=[\"prasad\",45,78]\n",
        "asf"
      ],
      "metadata": {
        "id": "y44rdvwpmQkZ"
      },
      "execution_count": null,
      "outputs": []
    },
    {
      "cell_type": "markdown",
      "source": [
        "* Row Deletion"
      ],
      "metadata": {
        "id": "gdcW4MTyoYo-"
      }
    },
    {
      "cell_type": "code",
      "source": [
        "asf.drop(0,inplace=True)"
      ],
      "metadata": {
        "id": "7dafu0HomQhI"
      },
      "execution_count": null,
      "outputs": []
    },
    {
      "cell_type": "code",
      "source": [
        "asf"
      ],
      "metadata": {
        "id": "6LW94OO9mQcv"
      },
      "execution_count": null,
      "outputs": []
    },
    {
      "cell_type": "markdown",
      "source": [
        "# Features of pandas\n",
        "*  Data Exploration\n",
        "*  Data Cleaning\n",
        "*  Data Manipulations\n",
        "*  Data Analysis\n",
        "\n"
      ],
      "metadata": {
        "id": "Iyh7C8wnpizl"
      }
    },
    {
      "cell_type": "markdown",
      "source": [
        "# Data Exploration"
      ],
      "metadata": {
        "id": "kPtONCbSq6oL"
      }
    },
    {
      "cell_type": "code",
      "source": [
        "asf # Population -> Superset of all the sample"
      ],
      "metadata": {
        "id": "OzcZ7v2lpWnN"
      },
      "execution_count": null,
      "outputs": []
    },
    {
      "cell_type": "markdown",
      "source": [
        "* head()"
      ],
      "metadata": {
        "id": "vst33XKss1BZ"
      }
    },
    {
      "cell_type": "code",
      "source": [
        "asf.head() # Sample -> Subset of Population"
      ],
      "metadata": {
        "id": "xnvxJO4KpWj1"
      },
      "execution_count": null,
      "outputs": []
    },
    {
      "cell_type": "code",
      "source": [
        "asf.head(2)\n"
      ],
      "metadata": {
        "id": "223yave4pWgl"
      },
      "execution_count": null,
      "outputs": []
    },
    {
      "cell_type": "markdown",
      "source": [
        "* tail()"
      ],
      "metadata": {
        "id": "tCNyvZ8Ts3Qj"
      }
    },
    {
      "cell_type": "code",
      "source": [
        "asf.tail()"
      ],
      "metadata": {
        "id": "OrygCOIqpWbm"
      },
      "execution_count": null,
      "outputs": []
    },
    {
      "cell_type": "markdown",
      "source": [
        "* dtypes"
      ],
      "metadata": {
        "id": "NWHa_O7Gs-xx"
      }
    },
    {
      "cell_type": "code",
      "source": [
        "asf.dtypes"
      ],
      "metadata": {
        "id": "-0WnIlijpWYV"
      },
      "execution_count": null,
      "outputs": []
    },
    {
      "cell_type": "markdown",
      "source": [
        "* empty"
      ],
      "metadata": {
        "id": "uEqeFvDrtAy7"
      }
    },
    {
      "cell_type": "code",
      "source": [
        "asf.empty"
      ],
      "metadata": {
        "id": "Vfvc7e4rpWVI"
      },
      "execution_count": null,
      "outputs": []
    },
    {
      "cell_type": "markdown",
      "source": [],
      "metadata": {
        "id": "9VWa7thTsq6u"
      }
    },
    {
      "cell_type": "markdown",
      "source": [
        "* shape"
      ],
      "metadata": {
        "id": "S0I2SJ7AtC8v"
      }
    },
    {
      "cell_type": "code",
      "source": [
        "asf.shape"
      ],
      "metadata": {
        "id": "mPfpMaNypWRe"
      },
      "execution_count": null,
      "outputs": []
    },
    {
      "cell_type": "markdown",
      "source": [
        "* ndim"
      ],
      "metadata": {
        "id": "mtOJnGR2tEUS"
      }
    },
    {
      "cell_type": "code",
      "source": [
        "asf.ndim"
      ],
      "metadata": {
        "id": "QD3MEhlgpWOU"
      },
      "execution_count": null,
      "outputs": []
    },
    {
      "cell_type": "markdown",
      "source": [
        "* size"
      ],
      "metadata": {
        "id": "NFmzigfztGDv"
      }
    },
    {
      "cell_type": "code",
      "source": [
        "asf.size"
      ],
      "metadata": {
        "id": "qYEyV0b7pWKs"
      },
      "execution_count": null,
      "outputs": []
    },
    {
      "cell_type": "markdown",
      "source": [
        "* Values"
      ],
      "metadata": {
        "id": "5RaLXvuXtKte"
      }
    },
    {
      "cell_type": "code",
      "source": [
        "asf.values"
      ],
      "metadata": {
        "id": "MpserE3FtKoE"
      },
      "execution_count": null,
      "outputs": []
    },
    {
      "cell_type": "code",
      "source": [
        "asf.keys()"
      ],
      "metadata": {
        "id": "n-ce_-ACtKkp"
      },
      "execution_count": null,
      "outputs": []
    },
    {
      "cell_type": "markdown",
      "source": [
        "* describe"
      ],
      "metadata": {
        "id": "r9oQ7o97td9S"
      }
    },
    {
      "cell_type": "code",
      "source": [
        "asf.describe()"
      ],
      "metadata": {
        "id": "FhlC_GTGtKhI"
      },
      "execution_count": null,
      "outputs": []
    },
    {
      "cell_type": "markdown",
      "source": [
        "* T"
      ],
      "metadata": {
        "id": "6cNMRnZDtpR1"
      }
    },
    {
      "cell_type": "code",
      "source": [
        "asf.T # Transpose"
      ],
      "metadata": {
        "id": "T9jRXxMotKdr"
      },
      "execution_count": null,
      "outputs": []
    },
    {
      "cell_type": "code",
      "source": [
        "asf.iloc[1]"
      ],
      "metadata": {
        "id": "0pslpNidtKYo"
      },
      "execution_count": null,
      "outputs": []
    },
    {
      "cell_type": "markdown",
      "source": [
        "* sum()"
      ],
      "metadata": {
        "id": "9_IaPJcduhkz"
      }
    },
    {
      "cell_type": "code",
      "source": [
        "asf.sum()"
      ],
      "metadata": {
        "id": "w2pTU4wrtKUt"
      },
      "execution_count": null,
      "outputs": []
    },
    {
      "cell_type": "markdown",
      "source": [
        "* mean()"
      ],
      "metadata": {
        "id": "nMi1z2gKuwmT"
      }
    },
    {
      "cell_type": "code",
      "source": [
        "asf"
      ],
      "metadata": {
        "id": "PUMtX7qRt0YD"
      },
      "execution_count": null,
      "outputs": []
    },
    {
      "cell_type": "code",
      "source": [
        "asf.mean()"
      ],
      "metadata": {
        "id": "26-gkLnxt0Uf"
      },
      "execution_count": null,
      "outputs": []
    },
    {
      "cell_type": "code",
      "source": [
        "asf.median()"
      ],
      "metadata": {
        "id": "XcG_bQXnt0Qb"
      },
      "execution_count": null,
      "outputs": []
    },
    {
      "cell_type": "code",
      "source": [
        "df"
      ],
      "metadata": {
        "id": "Bgg65ceEt0Md"
      },
      "execution_count": null,
      "outputs": []
    },
    {
      "cell_type": "code",
      "source": [
        "df.min()"
      ],
      "metadata": {
        "id": "5H_K8Lb8viZc"
      },
      "execution_count": null,
      "outputs": []
    },
    {
      "cell_type": "code",
      "source": [
        "df.max()"
      ],
      "metadata": {
        "id": "SSfogM_vvvRN"
      },
      "execution_count": null,
      "outputs": []
    },
    {
      "cell_type": "markdown",
      "source": [
        "# Data Cleaning and Data Manupilation"
      ],
      "metadata": {
        "id": "MUiUaHXmKpL8"
      }
    },
    {
      "cell_type": "code",
      "source": [
        "import pandas as pd\n",
        "import numpy as np\n"
      ],
      "metadata": {
        "id": "1ZcggHWiKVA7"
      },
      "execution_count": null,
      "outputs": []
    },
    {
      "cell_type": "code",
      "source": [
        "data1  =np.random.randn(10,3)\n",
        "data2 =np.random.randn(7,3)"
      ],
      "metadata": {
        "id": "u35M2f9kLDmP"
      },
      "execution_count": null,
      "outputs": []
    },
    {
      "cell_type": "code",
      "source": [
        "df1 = pd.DataFrame(data1,columns=[\"A\",\"B\",\"C\"])\n",
        "df2 = pd.DataFrame(data2,columns=[\"A\",\"B\",\"C\"])"
      ],
      "metadata": {
        "id": "QwO_Q_mELp_l"
      },
      "execution_count": null,
      "outputs": []
    },
    {
      "cell_type": "code",
      "source": [
        "df1"
      ],
      "metadata": {
        "id": "kFwHVPgWKU5f"
      },
      "execution_count": null,
      "outputs": []
    },
    {
      "cell_type": "code",
      "source": [
        "df2"
      ],
      "metadata": {
        "id": "33YamgXxLzwJ"
      },
      "execution_count": null,
      "outputs": []
    },
    {
      "cell_type": "code",
      "source": [
        "df3 = pd.concat([df1,df2],ignore_index=True)"
      ],
      "metadata": {
        "id": "MMR8gDemL95U"
      },
      "execution_count": null,
      "outputs": []
    },
    {
      "cell_type": "code",
      "source": [
        "df3"
      ],
      "metadata": {
        "id": "hyWR-aVOMAPt"
      },
      "execution_count": null,
      "outputs": []
    },
    {
      "cell_type": "code",
      "source": [
        "for i in df3.C:\n",
        "    print(i)"
      ],
      "metadata": {
        "id": "yblsUtwLMi8-"
      },
      "execution_count": null,
      "outputs": []
    },
    {
      "cell_type": "markdown",
      "source": [
        "* Iteritems"
      ],
      "metadata": {
        "id": "DNdTUpwFM1yt"
      }
    },
    {
      "cell_type": "code",
      "source": [
        "# For Columns\n",
        "for key, value in df3.items():\n",
        "    print(key, value)\n"
      ],
      "metadata": {
        "id": "xGm10cVSMi3R"
      },
      "execution_count": null,
      "outputs": []
    },
    {
      "cell_type": "code",
      "source": [
        "# For Rows\n",
        "for i ,j in df3.iterrows():\n",
        "    print(i,j)"
      ],
      "metadata": {
        "id": "65k_DwL1Misb"
      },
      "execution_count": null,
      "outputs": []
    },
    {
      "cell_type": "markdown",
      "source": [
        "* sorting"
      ],
      "metadata": {
        "id": "HNqEt3_pOiDc"
      }
    },
    {
      "cell_type": "code",
      "source": [
        "df3"
      ],
      "metadata": {
        "id": "kbX-tFe5Mimt"
      },
      "execution_count": null,
      "outputs": []
    },
    {
      "cell_type": "code",
      "source": [
        "unsorted_df=pd.DataFrame(np.random.randn(10,3),index=[5,6,2,8,9,0,3,1,8,7],columns=[\"A\",\"B\",\"C\"])\n",
        "unsorted_df"
      ],
      "metadata": {
        "id": "opBr2T_uMiW6"
      },
      "execution_count": null,
      "outputs": []
    },
    {
      "cell_type": "code",
      "source": [
        "# sort_index\n",
        "unsorted_df.sort_index()"
      ],
      "metadata": {
        "id": "u4L9fQsgMiRk"
      },
      "execution_count": null,
      "outputs": []
    },
    {
      "cell_type": "code",
      "source": [
        "unsorted_df.sort_index(ascending=False)"
      ],
      "metadata": {
        "id": "4Jwt7RhpMiJs"
      },
      "execution_count": null,
      "outputs": []
    },
    {
      "cell_type": "code",
      "source": [
        "unsorted_df.sort_index(axis=1)"
      ],
      "metadata": {
        "id": "9hcTInCbMiDx"
      },
      "execution_count": null,
      "outputs": []
    },
    {
      "cell_type": "code",
      "source": [
        "unsorted_df.sort_index(axis=1,ascending=False)"
      ],
      "metadata": {
        "id": "xoZ0qMYjMh-N"
      },
      "execution_count": null,
      "outputs": []
    },
    {
      "cell_type": "markdown",
      "source": [
        "* sort_values"
      ],
      "metadata": {
        "id": "h4cv_b2HRYrA"
      }
    },
    {
      "cell_type": "code",
      "source": [
        "df=pd.DataFrame({\"Apple\":[102,500,250,75],\"Bananas\":[50,150,90,45]})\n",
        "df"
      ],
      "metadata": {
        "id": "51g_fQYZMh2u"
      },
      "execution_count": null,
      "outputs": []
    },
    {
      "cell_type": "code",
      "source": [
        "df.sort_values(\"Apple\")\n"
      ],
      "metadata": {
        "id": "BeCScVzGRu4i"
      },
      "execution_count": null,
      "outputs": []
    },
    {
      "cell_type": "code",
      "source": [
        "df.sort_values(\"Apple\",ascending=False)"
      ],
      "metadata": {
        "id": "FKPQW233RuzO"
      },
      "execution_count": null,
      "outputs": []
    },
    {
      "cell_type": "code",
      "source": [
        "df.sort_values(by=[\"Apple\",\"Bananas\"])"
      ],
      "metadata": {
        "id": "Ia94QxQORut0"
      },
      "execution_count": null,
      "outputs": []
    },
    {
      "cell_type": "markdown",
      "source": [
        "* Sorting can be done in 3 ways\n",
        "1. Quicksort\n",
        "2. Mergesort\n",
        "3. Heapsort"
      ],
      "metadata": {
        "id": "RSW2IeQiSs6S"
      }
    },
    {
      "cell_type": "code",
      "source": [
        "\n",
        "df.sort_values(by=[\"Apple\",\"Bananas\"],kind=\"mergesort\")"
      ],
      "metadata": {
        "id": "Q8phRzCVRuoV"
      },
      "execution_count": null,
      "outputs": []
    },
    {
      "cell_type": "markdown",
      "source": [
        "*Stats - Advanced"
      ],
      "metadata": {
        "id": "xXL9MZsCS41F"
      }
    },
    {
      "cell_type": "code",
      "source": [
        "df3"
      ],
      "metadata": {
        "id": "HHY4IylpRuik"
      },
      "execution_count": null,
      "outputs": []
    },
    {
      "cell_type": "code",
      "source": [
        "df4=df3.drop([8,9,10,11,12,13,14,15,16])"
      ],
      "metadata": {
        "id": "N3U6ZDTmRudI"
      },
      "execution_count": null,
      "outputs": []
    },
    {
      "cell_type": "code",
      "source": [
        "df4"
      ],
      "metadata": {
        "id": "QhUXQO1tTuL0"
      },
      "execution_count": null,
      "outputs": []
    },
    {
      "cell_type": "markdown",
      "source": [
        "* Covariance -> cov()"
      ],
      "metadata": {
        "id": "fDE7jiaaUx6h"
      }
    },
    {
      "cell_type": "code",
      "source": [
        "df4.A"
      ],
      "metadata": {
        "id": "_iusG5VMTuGH"
      },
      "execution_count": null,
      "outputs": []
    },
    {
      "cell_type": "code",
      "source": [
        "df4['A']"
      ],
      "metadata": {
        "id": "QN0GcJfwTuAm"
      },
      "execution_count": null,
      "outputs": []
    },
    {
      "cell_type": "code",
      "source": [
        "df4[['A']]"
      ],
      "metadata": {
        "id": "ajAveQN9Tt67"
      },
      "execution_count": null,
      "outputs": []
    },
    {
      "cell_type": "code",
      "source": [
        "df4.B.cov(df4.C)"
      ],
      "metadata": {
        "id": "EMGU164eTt0Z"
      },
      "execution_count": null,
      "outputs": []
    },
    {
      "cell_type": "code",
      "source": [
        "df4.cov()\n"
      ],
      "metadata": {
        "id": "hgH4Dl3nTtud"
      },
      "execution_count": null,
      "outputs": []
    },
    {
      "cell_type": "markdown",
      "source": [
        "* Correlation"
      ],
      "metadata": {
        "id": "X_YLkPMwVnG5"
      }
    },
    {
      "cell_type": "code",
      "source": [
        "df4['A'].corr(df4.B)"
      ],
      "metadata": {
        "id": "7k6pGAj4TtjH"
      },
      "execution_count": null,
      "outputs": []
    },
    {
      "cell_type": "code",
      "source": [
        "df4.corr()"
      ],
      "metadata": {
        "id": "bUsjsW_FTtdM"
      },
      "execution_count": null,
      "outputs": []
    },
    {
      "cell_type": "code",
      "source": [
        "df =pd.DataFrame(np.random.randn(5,3),index=[\"A\",\"C\",\"E\",\"B\",\"D\"],columns=[\"col1\",\"col2\",\"col3\"])\n"
      ],
      "metadata": {
        "id": "zT7Sc4L7eZxh"
      },
      "execution_count": null,
      "outputs": []
    },
    {
      "cell_type": "code",
      "source": [
        "df"
      ],
      "metadata": {
        "id": "xSbSwluwevJ6"
      },
      "execution_count": null,
      "outputs": []
    },
    {
      "cell_type": "code",
      "source": [
        "df=df.reindex([\"A\",\"B\",\"C\",\"D\",\"E\"])\n"
      ],
      "metadata": {
        "id": "roJGNVw7TtXg"
      },
      "execution_count": null,
      "outputs": []
    },
    {
      "cell_type": "code",
      "source": [
        "df"
      ],
      "metadata": {
        "id": "16ZWOJ5kTtRz"
      },
      "execution_count": null,
      "outputs": []
    },
    {
      "cell_type": "code",
      "source": [
        "df =df.reindex([\"A\",\"B\",\"C\",\"T\",\"D\",\"E\",\"F\",\"G\"])\n",
        "df"
      ],
      "metadata": {
        "id": "ov0Pz0FETs-m"
      },
      "execution_count": null,
      "outputs": []
    },
    {
      "cell_type": "markdown",
      "source": [
        "# is null()"
      ],
      "metadata": {
        "id": "215utmeif06y"
      }
    },
    {
      "cell_type": "code",
      "source": [
        "df.isnull()"
      ],
      "metadata": {
        "id": "m6vUnmhdf006"
      },
      "execution_count": null,
      "outputs": []
    },
    {
      "cell_type": "markdown",
      "source": [
        "# isna()"
      ],
      "metadata": {
        "id": "VotzHPn4f8lr"
      }
    },
    {
      "cell_type": "code",
      "source": [
        "df.isna()"
      ],
      "metadata": {
        "id": "j-bXbjbKf0vY"
      },
      "execution_count": null,
      "outputs": []
    },
    {
      "cell_type": "markdown",
      "source": [
        "# notnull()"
      ],
      "metadata": {
        "id": "ZT3KpSXngGdP"
      }
    },
    {
      "cell_type": "code",
      "source": [
        "df.notnull()"
      ],
      "metadata": {
        "id": "hq8VnMZDf0p_"
      },
      "execution_count": null,
      "outputs": []
    },
    {
      "cell_type": "code",
      "source": [
        "df.isnull().sum() # total no number of null values"
      ],
      "metadata": {
        "id": "vSMLvVwYf0kH"
      },
      "execution_count": null,
      "outputs": []
    },
    {
      "cell_type": "code",
      "source": [
        "df.notnull().sum()"
      ],
      "metadata": {
        "id": "pyPaFsVZf0cg"
      },
      "execution_count": null,
      "outputs": []
    },
    {
      "cell_type": "code",
      "source": [
        "df[\"col1\"].isnull()"
      ],
      "metadata": {
        "id": "pBdZQXK2gehA"
      },
      "execution_count": null,
      "outputs": []
    },
    {
      "cell_type": "markdown",
      "source": [
        "# fillna()"
      ],
      "metadata": {
        "id": "kvLMuJ_Hgl9L"
      }
    },
    {
      "cell_type": "code",
      "source": [
        "df.fillna(0)"
      ],
      "metadata": {
        "id": "ZsS3cxT2gea6"
      },
      "execution_count": null,
      "outputs": []
    },
    {
      "cell_type": "code",
      "source": [
        "df.fillna(df.mean())"
      ],
      "metadata": {
        "id": "5bQd3XvdgeRT"
      },
      "execution_count": null,
      "outputs": []
    },
    {
      "cell_type": "code",
      "source": [
        "# Forward Method - pad/ffill\n",
        "# Backward Methodm - bfill/backfill"
      ],
      "metadata": {
        "id": "ihmBb0uXgeLC"
      },
      "execution_count": null,
      "outputs": []
    },
    {
      "cell_type": "code",
      "source": [
        "df"
      ],
      "metadata": {
        "id": "X4u9nfKjhTJa"
      },
      "execution_count": null,
      "outputs": []
    },
    {
      "cell_type": "code",
      "source": [
        "df.fillna(method=\"ffill\") # or \"pad\"\n",
        "# df.fillna(method =\"pad\")"
      ],
      "metadata": {
        "id": "k8xSwrsMgeDw"
      },
      "execution_count": null,
      "outputs": []
    },
    {
      "cell_type": "code",
      "source": [
        "df.fillna(method=\"bfill\")"
      ],
      "metadata": {
        "id": "Kx8XKwwNgd7R"
      },
      "execution_count": null,
      "outputs": []
    },
    {
      "cell_type": "code",
      "source": [
        "df"
      ],
      "metadata": {
        "id": "mJubfNRphwM8"
      },
      "execution_count": null,
      "outputs": []
    },
    {
      "cell_type": "markdown",
      "source": [
        "# dropna()"
      ],
      "metadata": {
        "id": "ZqMWFfSVhy2w"
      }
    },
    {
      "cell_type": "code",
      "source": [
        "df.dropna()"
      ],
      "metadata": {
        "id": "HpmjmlCDh0zR"
      },
      "execution_count": null,
      "outputs": []
    },
    {
      "cell_type": "code",
      "source": [
        "df.dropna(axis=1)"
      ],
      "metadata": {
        "id": "HE1SQbJ9h69P"
      },
      "execution_count": null,
      "outputs": []
    },
    {
      "cell_type": "code",
      "source": [
        "df.dropna(axis=0)"
      ],
      "metadata": {
        "id": "8-KWxRrwiGp8"
      },
      "execution_count": null,
      "outputs": []
    },
    {
      "cell_type": "code",
      "source": [
        "# Replacing the values\n",
        "\n",
        "student_marks={\"Name\":[\"Rahul\",\"Rohit\",\"venkat\",\"Sahil\",\"Ankith\"],\n",
        "               \"OS\":[25,75.5,96,0,100],\n",
        "               \"DBMS\":[20,80,60,50,99]}\n",
        "ass=pd.DataFrame(student_marks)\n",
        "ass"
      ],
      "metadata": {
        "id": "CEY1-MVziMuY"
      },
      "execution_count": null,
      "outputs": []
    },
    {
      "cell_type": "code",
      "source": [
        "ass.replace({20:200})"
      ],
      "metadata": {
        "id": "F5ujJNIeiGj9"
      },
      "execution_count": null,
      "outputs": []
    },
    {
      "cell_type": "code",
      "source": [
        "ass.OS.loc[0] = 299\n",
        "ass"
      ],
      "metadata": {
        "id": "aXsmqKb5iGc_"
      },
      "execution_count": null,
      "outputs": []
    },
    {
      "cell_type": "markdown",
      "source": [
        "# Handle Diplicates Values"
      ],
      "metadata": {
        "id": "ZmzPeDCgkwCd"
      }
    },
    {
      "cell_type": "code",
      "source": [
        "df"
      ],
      "metadata": {
        "id": "UttFYjUnk9P6"
      },
      "execution_count": null,
      "outputs": []
    },
    {
      "cell_type": "code",
      "source": [
        "df.duplicated()\n",
        "# True indicates that hat values are dulicate"
      ],
      "metadata": {
        "id": "MiS9k4RDiGVv"
      },
      "execution_count": null,
      "outputs": []
    },
    {
      "cell_type": "code",
      "source": [
        "df.duplicated().sum()"
      ],
      "metadata": {
        "id": "EFPVn8MYiGPl"
      },
      "execution_count": null,
      "outputs": []
    },
    {
      "cell_type": "markdown",
      "source": [
        "# Remove duplicate"
      ],
      "metadata": {
        "id": "Lkv5w6sVlhEH"
      }
    },
    {
      "cell_type": "code",
      "source": [
        "df.drop_duplicates()"
      ],
      "metadata": {
        "id": "mul_T7cZlgUT"
      },
      "execution_count": null,
      "outputs": []
    },
    {
      "cell_type": "markdown",
      "source": [
        "# Import/ Export Dataset"
      ],
      "metadata": {
        "id": "NpOj7bT6lrnx"
      }
    },
    {
      "cell_type": "code",
      "source": [
        "df=pd.read_csv(\"https://raw.githubusercontent.com/datasciencedojo/datasets/master/titanic.csv\")"
      ],
      "metadata": {
        "id": "p0syHw9dlq3F"
      },
      "execution_count": null,
      "outputs": []
    },
    {
      "cell_type": "code",
      "source": [
        "df"
      ],
      "metadata": {
        "id": "SWS9g15MiGJj"
      },
      "execution_count": null,
      "outputs": []
    },
    {
      "cell_type": "markdown",
      "source": [
        "# Matplotlib"
      ],
      "metadata": {
        "id": "LvAsyice8Zwj"
      }
    },
    {
      "cell_type": "code",
      "source": [
        "import numpy as np\n",
        "import pandas as pd\n",
        "import matplotlib.pyplot as plt\n",
        "import seaborn as sns"
      ],
      "metadata": {
        "id": "wlS0SXhnmKZB"
      },
      "execution_count": null,
      "outputs": []
    },
    {
      "cell_type": "code",
      "source": [
        "x= np.array([0,1,2,3,4,5])\n",
        "y=np.array([0,10,20,30,40,50])"
      ],
      "metadata": {
        "id": "dzUEMn3amKSf"
      },
      "execution_count": null,
      "outputs": []
    },
    {
      "cell_type": "code",
      "source": [
        "x,y"
      ],
      "metadata": {
        "id": "UJP09qrgmKMM"
      },
      "execution_count": null,
      "outputs": []
    },
    {
      "cell_type": "code",
      "source": [
        "plt.plot(x,y)\n"
      ],
      "metadata": {
        "id": "nWYAhS9EmKF9"
      },
      "execution_count": null,
      "outputs": []
    },
    {
      "cell_type": "code",
      "source": [
        "x= np.array([0,17,20,39,4,6])\n",
        "y=np.array([9,10,20,30,40.7,50])\n",
        "plt.plot(x,y,'d--g')\n",
        "plt.show()"
      ],
      "metadata": {
        "id": "JmLVj9zLmJ_3"
      },
      "execution_count": null,
      "outputs": []
    },
    {
      "cell_type": "code",
      "source": [
        "# Reference of Marker\n",
        "o -> Circle Marker\n",
        "v -> Triangle Down Marker\n",
        "^ -> Triangle Up Marker\n",
        "s -> Square Marker\n",
        "p -> Pentagon Marker\n",
        "* -> Star Marker"
      ],
      "metadata": {
        "id": "L4EH7Tq9BH9e"
      },
      "execution_count": null,
      "outputs": []
    },
    {
      "cell_type": "code",
      "source": [
        "# Reference of lines\n",
        "- -> Solid Line\n",
        ": -> Dotted Line\n",
        "-- -> Dashed Line\n",
        "-. -> Dash Dot Line"
      ],
      "metadata": {
        "id": "jky6j89-_NYN"
      },
      "execution_count": null,
      "outputs": []
    },
    {
      "cell_type": "code",
      "source": [
        "Syntax : Marker|line|color"
      ],
      "metadata": {
        "id": "hoPozBJ1_lq1"
      },
      "execution_count": null,
      "outputs": []
    },
    {
      "cell_type": "code",
      "source": [
        "#Refernce of colours\n",
        "r --> Red\n",
        "g --> Green\n",
        "b --> Blue\n",
        "c --> Cyan\n",
        "m --> Magenta\n",
        "y --> Yellow\n",
        "k --> Black\n",
        "w --> White"
      ],
      "metadata": {
        "id": "G6pBhaaPmJyu"
      },
      "execution_count": null,
      "outputs": []
    },
    {
      "cell_type": "code",
      "source": [
        "x= np.array([0,17,20,39,4,6])\n",
        "y=np.array([9,10,20,30,40.7,50])\n",
        "plt.plot(x,y,'o-.c')\n",
        "plt.show()"
      ],
      "metadata": {
        "id": "q3X6Xv0PmJrt"
      },
      "execution_count": null,
      "outputs": []
    },
    {
      "cell_type": "code",
      "source": [
        "plt.plot(x,y,marker=\"*\",ms =40,mec=\"r\",mfc='y')\n",
        "plt.show()\n",
        "# ms : Marker size\n",
        "# mec : Maker edges colour\n",
        "# mfc : Marker face colour"
      ],
      "metadata": {
        "id": "VxsHzzHimJjf"
      },
      "execution_count": null,
      "outputs": []
    },
    {
      "cell_type": "markdown",
      "source": [
        "* Linestyle"
      ],
      "metadata": {
        "id": "Zisw2PVzBikt"
      }
    },
    {
      "cell_type": "code",
      "source": [
        "plt.plot(x,y,linestyle = \"--\",color=\"r\")\n",
        "plt.show()\n",
        "#plt.plot(x,y,linestyle = \"dotted\")\n",
        "\n",
        "plt.show()"
      ],
      "metadata": {
        "id": "lNZ8HiMK_IgT"
      },
      "execution_count": null,
      "outputs": []
    },
    {
      "cell_type": "code",
      "source": [
        "plt.plot(x,y,linestyle = \"--\",color=\"r\",linewidth=\"12\")"
      ],
      "metadata": {
        "id": "V0GKEtBl_IZe"
      },
      "execution_count": null,
      "outputs": []
    },
    {
      "cell_type": "code",
      "source": [
        "plt.plot(x)"
      ],
      "metadata": {
        "id": "3ekCgSS8_ISJ"
      },
      "execution_count": null,
      "outputs": []
    },
    {
      "cell_type": "code",
      "source": [
        "plt.plot(y)"
      ],
      "metadata": {
        "id": "FiN0dPzBCj_X"
      },
      "execution_count": null,
      "outputs": []
    },
    {
      "cell_type": "code",
      "source": [
        "plt.plot(x)\n",
        "plt.plot(y)\n",
        "plt.show()"
      ],
      "metadata": {
        "id": "CTIVgEn8Cj3p"
      },
      "execution_count": null,
      "outputs": []
    },
    {
      "cell_type": "code",
      "source": [
        "x=[3,8,1,10]\n",
        "y=[6,2,7,11]\n"
      ],
      "metadata": {
        "id": "Vs24KiAvCjxa"
      },
      "execution_count": null,
      "outputs": []
    },
    {
      "cell_type": "markdown",
      "source": [
        "* Labels"
      ],
      "metadata": {
        "id": "Xnb-ezqCDNC1"
      }
    },
    {
      "cell_type": "code",
      "source": [
        "plt.plot(y)\n",
        "plt.plot(x)\n",
        "plt.xlabel(\"X-Axis\")\n",
        "plt.ylabel(\"Y-Axis\")\n",
        "plt.show()"
      ],
      "metadata": {
        "id": "FurvZ1tXCjqM"
      },
      "execution_count": null,
      "outputs": []
    },
    {
      "cell_type": "markdown",
      "source": [
        "* Title"
      ],
      "metadata": {
        "id": "EDQGon6eDjh1"
      }
    },
    {
      "cell_type": "code",
      "source": [
        "plt.plot(y)\n",
        "plt.plot(x)\n",
        "\n",
        "modification = {\"color\":\"r\",\"size\": 15,\"family\":\"serif\"}\n",
        "\n",
        "plt.xlabel(\"Height\",fontdict=modification)\n",
        "plt.ylabel(\"Weight\",fontdict=modification)\n",
        "\n",
        "plt.title(\"Height vs Weight\",fontdict=modification,loc=\"right\")\n",
        "# loc is the location of the title\n",
        "\n",
        "\n",
        "plt.show()"
      ],
      "metadata": {
        "id": "90Q5ibmmC_kt"
      },
      "execution_count": null,
      "outputs": []
    },
    {
      "cell_type": "markdown",
      "source": [
        " * Grid"
      ],
      "metadata": {
        "id": "2hX9KoYBFRrU"
      }
    },
    {
      "cell_type": "code",
      "source": [
        "plt.plot(y)\n",
        "plt.plot(x)\n",
        "\n",
        "\n",
        "plt.xlabel(\"Height\")\n",
        "plt.ylabel(\"Weight\")\n",
        "plt.title(\"Height vs Weight\")\n",
        "\n",
        "plt.grid()\n",
        "\n",
        "\n",
        "plt.show()"
      ],
      "metadata": {
        "id": "g6hOzeI9C_fQ"
      },
      "execution_count": null,
      "outputs": []
    },
    {
      "cell_type": "code",
      "source": [
        "plt.plot(y)\n",
        "plt.plot(x)\n",
        "\n",
        "\n",
        "plt.xlabel(\"Height\")\n",
        "plt.ylabel(\"Weight\")\n",
        "plt.title(\"Height vs Weight\")\n",
        "\n",
        "plt.grid(axis= \"x\")\n",
        "\n",
        "\n",
        "plt.show()"
      ],
      "metadata": {
        "id": "EOctBcLkC_ZG"
      },
      "execution_count": null,
      "outputs": []
    },
    {
      "cell_type": "code",
      "source": [
        "plt.plot(y)\n",
        "plt.plot(x)\n",
        "\n",
        "\n",
        "plt.xlabel(\"Height\")\n",
        "plt.ylabel(\"Weight\")\n",
        "plt.title(\"Height vs Weight\")\n",
        "\n",
        "plt.grid(color=\"black\", ls=\"--\",linewidth=2)\n",
        "\n",
        "\n",
        "plt.show()"
      ],
      "metadata": {
        "id": "ZZWDLB07C_S2"
      },
      "execution_count": null,
      "outputs": []
    },
    {
      "cell_type": "markdown",
      "source": [
        "# Subplots"
      ],
      "metadata": {
        "id": "1Q2d0ZDAGx5W"
      }
    },
    {
      "cell_type": "code",
      "source": [
        "# 1st plot]\n",
        "x= [1,2,3,4,5,6]\n",
        "y= [10,20,30,40,50,60]\n",
        "\n",
        "# plt.subplot(row,column,plot_number)\n",
        "plt.subplot(2,3,1)\n",
        "plt.plot(x,y)\n",
        "\n",
        "\n",
        "\n",
        "# 2nd plot\n",
        "x=[3,8,1,10]\n",
        "y=[6,2,7,11]\n",
        "plt.subplot(2,3,2)\n",
        "plt.plot(x,y)\n",
        "\n",
        "\n",
        "# 3rd plot]\n",
        "x= [1,2,3,4,5,6]\n",
        "y= [10,20,30,40,50,60]\n",
        "plt.subplot(2,3,3)\n",
        "plt.plot(x,y)\n",
        "\n",
        "\n",
        "\n",
        "# 4thd plot\n",
        "x=[3,8,1,10]\n",
        "y=[6,2,7,11]\n",
        "plt.subplot(2,3,4)\n",
        "plt.plot(x,y)\n",
        "\n",
        "\n",
        "# 5th plot]\n",
        "x= [1,2,3,4,5,6]\n",
        "y= [10,20,30,40,50,60]\n",
        "plt.subplot(2,3,5)\n",
        "plt.plot(x,y)\n",
        "\n",
        "\n",
        "\n",
        "# 6th plot\n",
        "x=[3,8,1,10]\n",
        "y=[6,2,7,11]\n",
        "plt.subplot(2,3,6)\n",
        "plt.plot(x,y)\n",
        "\n",
        "\n",
        "\n",
        "plt.suptitle(\"My Plot\")\n",
        "plt.show()"
      ],
      "metadata": {
        "id": "cUm6Kz-_Gxhy"
      },
      "execution_count": null,
      "outputs": []
    },
    {
      "cell_type": "code",
      "source": [
        "fig=plt.figure()\n",
        "ax1=fig.add_axes([1,1,2,2])\n",
        "\n",
        "\n",
        "ax1.plot(x,y)\n",
        "ax1.set_xlabel(\"X-Axis\")\n",
        "ax1.set_ylabel(\"Y-Axis\")\n",
        "ax1.set_title(\"My Plot\")\n",
        "\n",
        "# ax1.set_xticks([1,2,3,4,5]) # strech the plot\n",
        "ax1.set_xticklabels([1,2,3,4,5,6,7]) # override the original ticks {inpace of them }\n",
        "\n",
        "plt.show()"
      ],
      "metadata": {
        "id": "uyhyvENZC_NC"
      },
      "execution_count": null,
      "outputs": []
    },
    {
      "cell_type": "markdown",
      "source": [
        "# Scatter Plot"
      ],
      "metadata": {
        "id": "tFo1bhmOaPfi"
      }
    },
    {
      "cell_type": "code",
      "source": [
        "import pandas as pd\n",
        "import numpy as np\n",
        "import matplotlib.pyplot as plt\n",
        "\n",
        "x=[3,8,1,10,34,56,12,78,23,45,11,89,34]\n",
        "y=[6,2,7,11,34,1,55,77,22,11,33,44,56]\n",
        "plt.scatter(x,y)\n",
        "plt.show()"
      ],
      "metadata": {
        "id": "Q5uQMaVsC_G6"
      },
      "execution_count": null,
      "outputs": []
    },
    {
      "cell_type": "code",
      "source": [
        "df=pd.read_csv(\"https://raw.githubusercontent.com/datasciencedojo/datasets/master/titanic.csv\")"
      ],
      "metadata": {
        "id": "DNIAQF2PC_AQ"
      },
      "execution_count": null,
      "outputs": []
    },
    {
      "cell_type": "code",
      "source": [
        "df.head()"
      ],
      "metadata": {
        "id": "qyNvg46VGwLp"
      },
      "execution_count": null,
      "outputs": []
    },
    {
      "cell_type": "code",
      "source": [
        "plt.scatter(df.Age,df.Survived)\n",
        "plt.show()"
      ],
      "metadata": {
        "id": "_7HmMCaiGwEP"
      },
      "execution_count": null,
      "outputs": []
    },
    {
      "cell_type": "markdown",
      "source": [
        "1. \\  -> Negative Correlation\n",
        "2. /  -> Positive Correlation\n",
        "3. ---  -> No Correlation\n"
      ],
      "metadata": {
        "id": "5uKDNAekc0-7"
      }
    },
    {
      "cell_type": "code",
      "source": [
        "plt.scatter(df.Age,df.Survived,color = \"red\")\n",
        "plt.xlabel(\"Age\")\n",
        "plt.show()"
      ],
      "metadata": {
        "id": "EywpM_QVGv9i"
      },
      "execution_count": null,
      "outputs": []
    },
    {
      "cell_type": "markdown",
      "source": [
        "# Bar Plot"
      ],
      "metadata": {
        "id": "225ortORdquL"
      }
    },
    {
      "cell_type": "code",
      "source": [
        "x=[\"A\",\"B\",\"C\",\"D\"]\n",
        "y=[10,20,30,40]\n",
        "plt.bar(x,y,color=\"black\")\n",
        "plt.show()"
      ],
      "metadata": {
        "id": "N50JYxXDGv2k"
      },
      "execution_count": null,
      "outputs": []
    },
    {
      "cell_type": "markdown",
      "source": [
        "# Histogram"
      ],
      "metadata": {
        "id": "Tre_xwoDd9xY"
      }
    },
    {
      "cell_type": "code",
      "source": [
        "x=np.random.normal(170,10,250)\n",
        "\n",
        "plt.hist(x)\n",
        "plt.show()"
      ],
      "metadata": {
        "id": "un-o0ACIGvt0"
      },
      "execution_count": null,
      "outputs": []
    },
    {
      "cell_type": "markdown",
      "source": [
        "# Pie Chart"
      ],
      "metadata": {
        "id": "YMx2O32Lex1H"
      }
    },
    {
      "cell_type": "code",
      "source": [
        "x=[10,20,30,40]\n",
        "y=[\"Blackcurrent\",\"vanila\",\"Strawberry\",\"Chocolate\"]\n",
        "plt.pie(x,labels=y)\n",
        "plt.show()"
      ],
      "metadata": {
        "id": "CeoyONrRdp74"
      },
      "execution_count": null,
      "outputs": []
    },
    {
      "cell_type": "code",
      "source": [
        "x=[10,20,30,40]\n",
        "y=[\"Blackcurrent\",\"vanila\",\"Strawberry\",\"Chocolate\"]\n",
        "plt.pie(x,labels=y,explode=[0.2,0,0,0.1],shadow=True)\n",
        "plt.show()"
      ],
      "metadata": {
        "id": "ecRuEwBEdp2Z"
      },
      "execution_count": null,
      "outputs": []
    },
    {
      "cell_type": "code",
      "source": [],
      "metadata": {
        "id": "YaOuy68EdpxH"
      },
      "execution_count": null,
      "outputs": []
    }
  ]
}