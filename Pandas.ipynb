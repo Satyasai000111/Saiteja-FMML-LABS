{
  "nbformat": 4,
  "nbformat_minor": 0,
  "metadata": {
    "colab": {
      "provenance": [],
      "include_colab_link": true
    },
    "kernelspec": {
      "name": "python3",
      "display_name": "Python 3"
    },
    "language_info": {
      "name": "python"
    }
  },
  "cells": [
    {
      "cell_type": "markdown",
      "metadata": {
        "id": "view-in-github",
        "colab_type": "text"
      },
      "source": [
        "<a href=\"https://colab.research.google.com/github/Satyasai000111/Saiteja-FMML-LABS/blob/main/Pandas.ipynb\" target=\"_parent\"><img src=\"https://colab.research.google.com/assets/colab-badge.svg\" alt=\"Open In Colab\"/></a>"
      ]
    },
    {
      "cell_type": "markdown",
      "source": [
        "# Pandas"
      ],
      "metadata": {
        "id": "gSntgCw5-CTM"
      }
    },
    {
      "cell_type": "markdown",
      "source": [
        "**What is Pandas?**\n",
        "* Pandas is a Python library used for working with data sets.\n",
        "It has functions for analyzing, cleaning, exploring, and manipulating data"
      ],
      "metadata": {
        "id": "avDo9lpn-JmF"
      }
    },
    {
      "cell_type": "markdown",
      "source": [
        "**Why Use Pandas?**\n",
        "* Pandas allows us to analyze big data and make conclusions based on statistical theories.\n",
        "* Pandas can clean messy data sets, and make them readable and relevant.\n",
        "* Relevant data is very important in data science"
      ],
      "metadata": {
        "id": "CXwx4jmX-TFd"
      }
    },
    {
      "cell_type": "markdown",
      "source": [
        "**What Can Pandas Do?**\n",
        "* Pandas gives you answers about the data. Like:\n",
        "* Is there a correlation between two or more columns?"
      ],
      "metadata": {
        "id": "2JLLMQae-csN"
      }
    },
    {
      "cell_type": "markdown",
      "source": [
        "**What is a Series?**\n",
        "* A Pandas Series is like a column in a table.\n",
        "* It is a one-dimensional array holding data of any type"
      ],
      "metadata": {
        "id": "rrRMqyfq-kqB"
      }
    },
    {
      "cell_type": "code",
      "source": [
        "a = [1,3,5,7,9,11,13,15,17,19]\n",
        "var = pd.Series(a)\n",
        "var"
      ],
      "metadata": {
        "colab": {
          "base_uri": "https://localhost:8080/",
          "height": 181
        },
        "id": "vsIWnpJD-QE8",
        "outputId": "24919a26-2541-4813-aa29-d7b4e473b06d"
      },
      "execution_count": 1,
      "outputs": [
        {
          "output_type": "error",
          "ename": "NameError",
          "evalue": "name 'pd' is not defined",
          "traceback": [
            "\u001b[0;31m---------------------------------------------------------------------------\u001b[0m",
            "\u001b[0;31mNameError\u001b[0m                                 Traceback (most recent call last)",
            "\u001b[0;32m<ipython-input-1-4b075e8762dc>\u001b[0m in \u001b[0;36m<cell line: 2>\u001b[0;34m()\u001b[0m\n\u001b[1;32m      1\u001b[0m \u001b[0ma\u001b[0m \u001b[0;34m=\u001b[0m \u001b[0;34m[\u001b[0m\u001b[0;36m1\u001b[0m\u001b[0;34m,\u001b[0m\u001b[0;36m3\u001b[0m\u001b[0;34m,\u001b[0m\u001b[0;36m5\u001b[0m\u001b[0;34m,\u001b[0m\u001b[0;36m7\u001b[0m\u001b[0;34m,\u001b[0m\u001b[0;36m9\u001b[0m\u001b[0;34m,\u001b[0m\u001b[0;36m11\u001b[0m\u001b[0;34m,\u001b[0m\u001b[0;36m13\u001b[0m\u001b[0;34m,\u001b[0m\u001b[0;36m15\u001b[0m\u001b[0;34m,\u001b[0m\u001b[0;36m17\u001b[0m\u001b[0;34m,\u001b[0m\u001b[0;36m19\u001b[0m\u001b[0;34m]\u001b[0m\u001b[0;34m\u001b[0m\u001b[0;34m\u001b[0m\u001b[0m\n\u001b[0;32m----> 2\u001b[0;31m \u001b[0mvar\u001b[0m \u001b[0;34m=\u001b[0m \u001b[0mpd\u001b[0m\u001b[0;34m.\u001b[0m\u001b[0mSeries\u001b[0m\u001b[0;34m(\u001b[0m\u001b[0ma\u001b[0m\u001b[0;34m)\u001b[0m\u001b[0;34m\u001b[0m\u001b[0;34m\u001b[0m\u001b[0m\n\u001b[0m\u001b[1;32m      3\u001b[0m \u001b[0mvar\u001b[0m\u001b[0;34m\u001b[0m\u001b[0;34m\u001b[0m\u001b[0m\n",
            "\u001b[0;31mNameError\u001b[0m: name 'pd' is not defined"
          ]
        }
      ]
    },
    {
      "cell_type": "markdown",
      "source": [
        "**Labels**\n",
        "* If nothing else is specified, the values are labeled with their index number. First value has index 0, second\n",
        "value has index 1 etc.\n",
        "* This label can be used to access a specified value.\n"
      ],
      "metadata": {
        "id": "NWMPNZWd-xy4"
      }
    },
    {
      "cell_type": "code",
      "source": [
        "var[7]\n"
      ],
      "metadata": {
        "colab": {
          "base_uri": "https://localhost:8080/",
          "height": 145
        },
        "id": "Arv39Evt9_Bb",
        "outputId": "5773907f-1f5b-4bb7-db94-71d5cdef1a0e"
      },
      "execution_count": 2,
      "outputs": [
        {
          "output_type": "error",
          "ename": "NameError",
          "evalue": "name 'var' is not defined",
          "traceback": [
            "\u001b[0;31m---------------------------------------------------------------------------\u001b[0m",
            "\u001b[0;31mNameError\u001b[0m                                 Traceback (most recent call last)",
            "\u001b[0;32m<ipython-input-2-8e8d1005a855>\u001b[0m in \u001b[0;36m<cell line: 1>\u001b[0;34m()\u001b[0m\n\u001b[0;32m----> 1\u001b[0;31m \u001b[0mvar\u001b[0m\u001b[0;34m[\u001b[0m\u001b[0;36m7\u001b[0m\u001b[0;34m]\u001b[0m\u001b[0;34m\u001b[0m\u001b[0;34m\u001b[0m\u001b[0m\n\u001b[0m",
            "\u001b[0;31mNameError\u001b[0m: name 'var' is not defined"
          ]
        }
      ]
    },
    {
      "cell_type": "code",
      "source": [
        "b = [15,25,35,45]\n",
        "var1 = pd.Series(b,index=['A','B','C','D'])\n",
        "var1"
      ],
      "metadata": {
        "id": "1HkyKmuU9--5"
      },
      "execution_count": null,
      "outputs": []
    },
    {
      "cell_type": "code",
      "source": [
        "calories = {\"day1\":25,\"day2\":56,\"day3\":89}\n",
        "myvar = pd.Series(calories)\n",
        "myvar"
      ],
      "metadata": {
        "id": "-B651OgS9-5s"
      },
      "execution_count": null,
      "outputs": []
    },
    {
      "cell_type": "code",
      "source": [
        "myvar['day2']"
      ],
      "metadata": {
        "id": "pPvXk33C9-3q"
      },
      "execution_count": null,
      "outputs": []
    },
    {
      "cell_type": "markdown",
      "source": [
        "\n",
        "**What is a DataFrame?**\n",
        "* A Pandas DataFrame is a 2 dimensional data structure, like a 2 dimensional array, or a table with rows and\n",
        "columns.\n"
      ],
      "metadata": {
        "id": "Qvr4Ro0z_Zhm"
      }
    },
    {
      "cell_type": "code",
      "source": [
        "data = {\n",
        " \"calories\" : [45,85,67],\n",
        " \"duration\" : [25,65,15]\n",
        "}\n",
        "df = pd.DataFrame(data,index=[\"Day1\",\"Day2\",\"Day3\"])\n",
        "print(df)"
      ],
      "metadata": {
        "id": "TmcPvr879-06"
      },
      "execution_count": null,
      "outputs": []
    },
    {
      "cell_type": "markdown",
      "source": [
        "\n",
        "Locate Row --"
      ],
      "metadata": {
        "id": "PawMtlEN_kbg"
      }
    },
    {
      "cell_type": "code",
      "source": [
        "print(df.loc['Day1'])"
      ],
      "metadata": {
        "id": "MSnlnfy-9-yZ"
      },
      "execution_count": null,
      "outputs": []
    },
    {
      "cell_type": "markdown",
      "source": [
        "**Read CSV Files**\n",
        "* A simple way to store big data sets is to use CSV files (comma separated files).\n",
        "* CSV files contains plain text and is a well know format that can be read by everyone including Pandas."
      ],
      "metadata": {
        "id": "khGbqm_f_tnL"
      }
    },
    {
      "cell_type": "code",
      "source": [
        "import pandas as pd\n",
        "df = pd.read_csv(\"/test.csv\")\n",
        "df"
      ],
      "metadata": {
        "id": "H_Xa19LI9-si"
      },
      "execution_count": null,
      "outputs": []
    },
    {
      "cell_type": "code",
      "source": [
        "df.head(10)\n"
      ],
      "metadata": {
        "id": "Ts9jojzU9-pp"
      },
      "execution_count": null,
      "outputs": []
    },
    {
      "cell_type": "code",
      "source": [
        "df.head()\n"
      ],
      "metadata": {
        "id": "ukZvejXP9-m6"
      },
      "execution_count": null,
      "outputs": []
    },
    {
      "cell_type": "code",
      "source": [
        "df.tail()"
      ],
      "metadata": {
        "id": "CsuSAuGA9-j6"
      },
      "execution_count": null,
      "outputs": []
    },
    {
      "cell_type": "code",
      "source": [
        "df.info()"
      ],
      "metadata": {
        "id": "VMUz7CK19-gs"
      },
      "execution_count": null,
      "outputs": []
    },
    {
      "cell_type": "code",
      "source": [
        "s=df.mean()\n",
        "print(s)"
      ],
      "metadata": {
        "id": "4NNg9vVtBzWK"
      },
      "execution_count": null,
      "outputs": []
    },
    {
      "cell_type": "markdown",
      "source": [
        "Here, we had used the isnull() method to check whether the value is null or not. If it is null it returns True else returns False.And also used notnull() method to check if the value is null it returns else False returns True."
      ],
      "metadata": {
        "id": "BJ9VO_xtBX3L"
      }
    },
    {
      "cell_type": "code",
      "source": [
        "df.isnull()"
      ],
      "metadata": {
        "id": "EXXBbKdBBNgR"
      },
      "execution_count": null,
      "outputs": []
    },
    {
      "cell_type": "code",
      "source": [
        "df.notnull()"
      ],
      "metadata": {
        "id": "yHm8VCM4Bb-y"
      },
      "execution_count": null,
      "outputs": []
    },
    {
      "cell_type": "code",
      "source": [
        "new_df = df.dropna()\n",
        "new_df"
      ],
      "metadata": {
        "id": "6GeyLp-vAkxi"
      },
      "execution_count": null,
      "outputs": []
    },
    {
      "cell_type": "code",
      "source": [
        "df.fillna(s)\n",
        "df"
      ],
      "metadata": {
        "id": "tRcS96LHCb-Z"
      },
      "execution_count": null,
      "outputs": []
    }
  ]
}